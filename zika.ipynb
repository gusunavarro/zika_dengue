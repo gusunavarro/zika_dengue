{
  "nbformat": 4,
  "nbformat_minor": 0,
  "metadata": {
    "colab": {
      "provenance": []
    },
    "kernelspec": {
      "name": "python3",
      "display_name": "Python 3"
    },
    "language_info": {
      "name": "python"
    }
  },
  "cells": [
    {
      "cell_type": "code",
      "execution_count": 1,
      "metadata": {
        "id": "BFg_OE9Ic7CB"
      },
      "outputs": [],
      "source": [
        "import pandas as pd"
      ]
    },
    {
      "cell_type": "code",
      "source": [
        "df = pd.read_csv(\"informacion-publica-dengue-zika-nacional-hasta-20181231.csv\")"
      ],
      "metadata": {
        "id": "_IholgPVeMiI"
      },
      "execution_count": 2,
      "outputs": []
    },
    {
      "cell_type": "code",
      "source": [
        "df.head"
      ],
      "metadata": {
        "colab": {
          "base_uri": "https://localhost:8080/"
        },
        "id": "sJQp2JV0fQx-",
        "outputId": "3d2a1e37-fe50-4235-8513-f5290b17a971"
      },
      "execution_count": 3,
      "outputs": [
        {
          "output_type": "execute_result",
          "data": {
            "text/plain": [
              "<bound method NDFrame.head of      departamento_id departamento_nombre  provincia_id provincia_nombre   ano  \\\n",
              "0               2003            COMUNA 3             2             CABA  2018   \n",
              "1               2004            COMUNA 4             2             CABA  2018   \n",
              "2               6091         Berazategui             6     Buenos Aires  2018   \n",
              "3               6091         Berazategui             6     Buenos Aires  2018   \n",
              "4               6091         Berazategui             6     Buenos Aires  2018   \n",
              "..               ...                 ...           ...              ...   ...   \n",
              "917              126                Orán            66            Salta  2018   \n",
              "918              126                Orán            66            Salta  2018   \n",
              "919              126                Orán            66            Salta  2018   \n",
              "920              126                Orán            66            Salta  2018   \n",
              "921              126                Orán            66            Salta  2018   \n",
              "\n",
              "     semanas_epidemiologicas                  evento_nombre  grupo_edad_id  \\\n",
              "0                         15                         Dengue              6   \n",
              "1                          6                         Dengue              6   \n",
              "2                         11                         Dengue              7   \n",
              "3                         14                         Dengue              9   \n",
              "4                         19                         Dengue             11   \n",
              "..                       ...                            ...            ...   \n",
              "917                       20  Enfermedad por Virus del Zika             11   \n",
              "918                       21  Enfermedad por Virus del Zika              9   \n",
              "919                       22  Enfermedad por Virus del Zika              6   \n",
              "920                       23  Enfermedad por Virus del Zika              7   \n",
              "921                       23  Enfermedad por Virus del Zika              9   \n",
              "\n",
              "              grupo_edad_desc  cantidad_casos  \n",
              "0             de 10 a 14 anos               1  \n",
              "1             de 10 a 14 anos               1  \n",
              "2             de 15 a 24 anos               1  \n",
              "3             de 25 a 34 anos               2  \n",
              "4             de 45 a 65 anos               1  \n",
              "..                        ...             ...  \n",
              "917  Mayor o igual de 65 anos               1  \n",
              "918           De 25 a 34 anos               1  \n",
              "919           De 10 a 14 anos               1  \n",
              "920           De 15 a 19 anos               1  \n",
              "921           De 25 a 34 anos               1  \n",
              "\n",
              "[922 rows x 10 columns]>"
            ]
          },
          "metadata": {},
          "execution_count": 3
        }
      ]
    },
    {
      "cell_type": "code",
      "source": [
        "type(df)\n",
        "\n"
      ],
      "metadata": {
        "colab": {
          "base_uri": "https://localhost:8080/"
        },
        "id": "GuTCFAvifiVp",
        "outputId": "278bdeb7-8394-4403-a6db-535b9da4689d"
      },
      "execution_count": 4,
      "outputs": [
        {
          "output_type": "execute_result",
          "data": {
            "text/plain": [
              "pandas.core.frame.DataFrame"
            ]
          },
          "metadata": {},
          "execution_count": 4
        }
      ]
    },
    {
      "cell_type": "code",
      "source": [
        "df.tail"
      ],
      "metadata": {
        "colab": {
          "base_uri": "https://localhost:8080/"
        },
        "id": "gEToSKCQgIyx",
        "outputId": "ade8b686-82fe-4d0c-89a4-b69e41d2e16b"
      },
      "execution_count": 5,
      "outputs": [
        {
          "output_type": "execute_result",
          "data": {
            "text/plain": [
              "<bound method NDFrame.tail of      departamento_id departamento_nombre  provincia_id provincia_nombre   ano  \\\n",
              "0               2003            COMUNA 3             2             CABA  2018   \n",
              "1               2004            COMUNA 4             2             CABA  2018   \n",
              "2               6091         Berazategui             6     Buenos Aires  2018   \n",
              "3               6091         Berazategui             6     Buenos Aires  2018   \n",
              "4               6091         Berazategui             6     Buenos Aires  2018   \n",
              "..               ...                 ...           ...              ...   ...   \n",
              "917              126                Orán            66            Salta  2018   \n",
              "918              126                Orán            66            Salta  2018   \n",
              "919              126                Orán            66            Salta  2018   \n",
              "920              126                Orán            66            Salta  2018   \n",
              "921              126                Orán            66            Salta  2018   \n",
              "\n",
              "     semanas_epidemiologicas                  evento_nombre  grupo_edad_id  \\\n",
              "0                         15                         Dengue              6   \n",
              "1                          6                         Dengue              6   \n",
              "2                         11                         Dengue              7   \n",
              "3                         14                         Dengue              9   \n",
              "4                         19                         Dengue             11   \n",
              "..                       ...                            ...            ...   \n",
              "917                       20  Enfermedad por Virus del Zika             11   \n",
              "918                       21  Enfermedad por Virus del Zika              9   \n",
              "919                       22  Enfermedad por Virus del Zika              6   \n",
              "920                       23  Enfermedad por Virus del Zika              7   \n",
              "921                       23  Enfermedad por Virus del Zika              9   \n",
              "\n",
              "              grupo_edad_desc  cantidad_casos  \n",
              "0             de 10 a 14 anos               1  \n",
              "1             de 10 a 14 anos               1  \n",
              "2             de 15 a 24 anos               1  \n",
              "3             de 25 a 34 anos               2  \n",
              "4             de 45 a 65 anos               1  \n",
              "..                        ...             ...  \n",
              "917  Mayor o igual de 65 anos               1  \n",
              "918           De 25 a 34 anos               1  \n",
              "919           De 10 a 14 anos               1  \n",
              "920           De 15 a 19 anos               1  \n",
              "921           De 25 a 34 anos               1  \n",
              "\n",
              "[922 rows x 10 columns]>"
            ]
          },
          "metadata": {},
          "execution_count": 5
        }
      ]
    },
    {
      "cell_type": "code",
      "source": [
        "df.shape"
      ],
      "metadata": {
        "colab": {
          "base_uri": "https://localhost:8080/"
        },
        "id": "Nnv3kMuxgNbY",
        "outputId": "2591b9fe-f1de-400b-e3a2-8314e802450c"
      },
      "execution_count": 6,
      "outputs": [
        {
          "output_type": "execute_result",
          "data": {
            "text/plain": [
              "(922, 10)"
            ]
          },
          "metadata": {},
          "execution_count": 6
        }
      ]
    },
    {
      "cell_type": "code",
      "source": [
        "df.columns"
      ],
      "metadata": {
        "colab": {
          "base_uri": "https://localhost:8080/"
        },
        "id": "PGTIGfe0gVhf",
        "outputId": "d2f4df9f-567d-499a-9199-b59f2798ad26"
      },
      "execution_count": 7,
      "outputs": [
        {
          "output_type": "execute_result",
          "data": {
            "text/plain": [
              "Index(['departamento_id', 'departamento_nombre', 'provincia_id',\n",
              "       'provincia_nombre', 'ano', 'semanas_epidemiologicas', 'evento_nombre',\n",
              "       'grupo_edad_id', 'grupo_edad_desc', 'cantidad_casos'],\n",
              "      dtype='object')"
            ]
          },
          "metadata": {},
          "execution_count": 7
        }
      ]
    },
    {
      "cell_type": "code",
      "source": [
        "df.index"
      ],
      "metadata": {
        "colab": {
          "base_uri": "https://localhost:8080/"
        },
        "id": "4haGV3WWgbyS",
        "outputId": "8284bf77-2f12-4f5b-b874-1b4909425554"
      },
      "execution_count": 8,
      "outputs": [
        {
          "output_type": "execute_result",
          "data": {
            "text/plain": [
              "RangeIndex(start=0, stop=922, step=1)"
            ]
          },
          "metadata": {},
          "execution_count": 8
        }
      ]
    },
    {
      "cell_type": "code",
      "source": [
        "list(df.columns)\n"
      ],
      "metadata": {
        "colab": {
          "base_uri": "https://localhost:8080/"
        },
        "id": "72BIGtq1gmQR",
        "outputId": "7082744f-d106-4be1-c913-3f5964854d4e"
      },
      "execution_count": 9,
      "outputs": [
        {
          "output_type": "execute_result",
          "data": {
            "text/plain": [
              "['departamento_id',\n",
              " 'departamento_nombre',\n",
              " 'provincia_id',\n",
              " 'provincia_nombre',\n",
              " 'ano',\n",
              " 'semanas_epidemiologicas',\n",
              " 'evento_nombre',\n",
              " 'grupo_edad_id',\n",
              " 'grupo_edad_desc',\n",
              " 'cantidad_casos']"
            ]
          },
          "metadata": {},
          "execution_count": 9
        }
      ]
    },
    {
      "cell_type": "code",
      "source": [
        "df.describe"
      ],
      "metadata": {
        "colab": {
          "base_uri": "https://localhost:8080/"
        },
        "id": "fjYgYcFNhzmf",
        "outputId": "c40a8b1a-cb7c-4690-c2e6-b63c9aa7d01c"
      },
      "execution_count": 10,
      "outputs": [
        {
          "output_type": "execute_result",
          "data": {
            "text/plain": [
              "<bound method NDFrame.describe of      departamento_id departamento_nombre  provincia_id provincia_nombre   ano  \\\n",
              "0               2003            COMUNA 3             2             CABA  2018   \n",
              "1               2004            COMUNA 4             2             CABA  2018   \n",
              "2               6091         Berazategui             6     Buenos Aires  2018   \n",
              "3               6091         Berazategui             6     Buenos Aires  2018   \n",
              "4               6091         Berazategui             6     Buenos Aires  2018   \n",
              "..               ...                 ...           ...              ...   ...   \n",
              "917              126                Orán            66            Salta  2018   \n",
              "918              126                Orán            66            Salta  2018   \n",
              "919              126                Orán            66            Salta  2018   \n",
              "920              126                Orán            66            Salta  2018   \n",
              "921              126                Orán            66            Salta  2018   \n",
              "\n",
              "     semanas_epidemiologicas                  evento_nombre  grupo_edad_id  \\\n",
              "0                         15                         Dengue              6   \n",
              "1                          6                         Dengue              6   \n",
              "2                         11                         Dengue              7   \n",
              "3                         14                         Dengue              9   \n",
              "4                         19                         Dengue             11   \n",
              "..                       ...                            ...            ...   \n",
              "917                       20  Enfermedad por Virus del Zika             11   \n",
              "918                       21  Enfermedad por Virus del Zika              9   \n",
              "919                       22  Enfermedad por Virus del Zika              6   \n",
              "920                       23  Enfermedad por Virus del Zika              7   \n",
              "921                       23  Enfermedad por Virus del Zika              9   \n",
              "\n",
              "              grupo_edad_desc  cantidad_casos  \n",
              "0             de 10 a 14 anos               1  \n",
              "1             de 10 a 14 anos               1  \n",
              "2             de 15 a 24 anos               1  \n",
              "3             de 25 a 34 anos               2  \n",
              "4             de 45 a 65 anos               1  \n",
              "..                        ...             ...  \n",
              "917  Mayor o igual de 65 anos               1  \n",
              "918           De 25 a 34 anos               1  \n",
              "919           De 10 a 14 anos               1  \n",
              "920           De 15 a 19 anos               1  \n",
              "921           De 25 a 34 anos               1  \n",
              "\n",
              "[922 rows x 10 columns]>"
            ]
          },
          "metadata": {},
          "execution_count": 10
        }
      ]
    },
    {
      "cell_type": "code",
      "source": [
        "df.shape"
      ],
      "metadata": {
        "colab": {
          "base_uri": "https://localhost:8080/"
        },
        "id": "b5UbVIjAiRd_",
        "outputId": "e0c276a7-5fe0-4666-b27c-a93041416d38"
      },
      "execution_count": 11,
      "outputs": [
        {
          "output_type": "execute_result",
          "data": {
            "text/plain": [
              "(922, 10)"
            ]
          },
          "metadata": {},
          "execution_count": 11
        }
      ]
    },
    {
      "cell_type": "code",
      "source": [
        "len(df)\n"
      ],
      "metadata": {
        "id": "g4GVkFmSj-nG",
        "colab": {
          "base_uri": "https://localhost:8080/"
        },
        "outputId": "d0dbdf43-f9fa-46f0-ffc6-25c1fb8fcaad"
      },
      "execution_count": 12,
      "outputs": [
        {
          "output_type": "execute_result",
          "data": {
            "text/plain": [
              "922"
            ]
          },
          "metadata": {},
          "execution_count": 12
        }
      ]
    },
    {
      "cell_type": "code",
      "source": [
        "df.dropna().shape"
      ],
      "metadata": {
        "colab": {
          "base_uri": "https://localhost:8080/"
        },
        "id": "fPT5juZiKsLO",
        "outputId": "24374981-91f4-4625-a21f-15d17883e6bf"
      },
      "execution_count": 13,
      "outputs": [
        {
          "output_type": "execute_result",
          "data": {
            "text/plain": [
              "(922, 10)"
            ]
          },
          "metadata": {},
          "execution_count": 13
        }
      ]
    },
    {
      "cell_type": "code",
      "source": [
        "df.info()"
      ],
      "metadata": {
        "colab": {
          "base_uri": "https://localhost:8080/"
        },
        "id": "1W_Lpb4XLWEv",
        "outputId": "e603b1b3-66a3-41be-e922-bf70501b5149"
      },
      "execution_count": null,
      "outputs": [
        {
          "output_type": "stream",
          "name": "stdout",
          "text": [
            "<class 'pandas.core.frame.DataFrame'>\n",
            "RangeIndex: 922 entries, 0 to 921\n",
            "Data columns (total 10 columns):\n",
            " #   Column                   Non-Null Count  Dtype \n",
            "---  ------                   --------------  ----- \n",
            " 0   departamento_id          922 non-null    int64 \n",
            " 1   departamento_nombre      922 non-null    object\n",
            " 2   provincia_id             922 non-null    int64 \n",
            " 3   provincia_nombre         922 non-null    object\n",
            " 4   ano                      922 non-null    int64 \n",
            " 5   semanas_epidemiologicas  922 non-null    int64 \n",
            " 6   evento_nombre            922 non-null    object\n",
            " 7   grupo_edad_id            922 non-null    int64 \n",
            " 8   grupo_edad_desc          922 non-null    object\n",
            " 9   cantidad_casos           922 non-null    int64 \n",
            "dtypes: int64(6), object(4)\n",
            "memory usage: 72.2+ KB\n"
          ]
        }
      ]
    },
    {
      "cell_type": "code",
      "source": [
        "df.describe()"
      ],
      "metadata": {
        "colab": {
          "base_uri": "https://localhost:8080/",
          "height": 300
        },
        "id": "EVroEJ76M5k-",
        "outputId": "fd2edeff-4ec2-4415-95db-dc1f93c5ad69"
      },
      "execution_count": 14,
      "outputs": [
        {
          "output_type": "execute_result",
          "data": {
            "text/plain": [
              "       departamento_id  provincia_id     ano  semanas_epidemiologicas  \\\n",
              "count       922.000000    922.000000   922.0               922.000000   \n",
              "mean      32621.201735     28.911063  2018.0                17.803688   \n",
              "std       27999.069249     24.527914     0.0                 5.174844   \n",
              "min          28.000000      2.000000  2018.0                 1.000000   \n",
              "25%        6490.000000      6.000000  2018.0                15.000000   \n",
              "50%       22039.000000     22.000000  2018.0                18.000000   \n",
              "75%       54077.000000     54.000000  2018.0                20.000000   \n",
              "max       90119.000000     90.000000  2018.0                52.000000   \n",
              "\n",
              "       grupo_edad_id  cantidad_casos  \n",
              "count     922.000000      922.000000  \n",
              "mean        8.510846        1.749458  \n",
              "std         2.313251        1.559923  \n",
              "min         1.000000        1.000000  \n",
              "25%         7.000000        1.000000  \n",
              "50%         9.000000        1.000000  \n",
              "75%        10.000000        2.000000  \n",
              "max        12.000000       12.000000  "
            ],
            "text/html": [
              "\n",
              "  <div id=\"df-927c7949-8aa8-4ec1-981a-81cba00abbb9\">\n",
              "    <div class=\"colab-df-container\">\n",
              "      <div>\n",
              "<style scoped>\n",
              "    .dataframe tbody tr th:only-of-type {\n",
              "        vertical-align: middle;\n",
              "    }\n",
              "\n",
              "    .dataframe tbody tr th {\n",
              "        vertical-align: top;\n",
              "    }\n",
              "\n",
              "    .dataframe thead th {\n",
              "        text-align: right;\n",
              "    }\n",
              "</style>\n",
              "<table border=\"1\" class=\"dataframe\">\n",
              "  <thead>\n",
              "    <tr style=\"text-align: right;\">\n",
              "      <th></th>\n",
              "      <th>departamento_id</th>\n",
              "      <th>provincia_id</th>\n",
              "      <th>ano</th>\n",
              "      <th>semanas_epidemiologicas</th>\n",
              "      <th>grupo_edad_id</th>\n",
              "      <th>cantidad_casos</th>\n",
              "    </tr>\n",
              "  </thead>\n",
              "  <tbody>\n",
              "    <tr>\n",
              "      <th>count</th>\n",
              "      <td>922.000000</td>\n",
              "      <td>922.000000</td>\n",
              "      <td>922.0</td>\n",
              "      <td>922.000000</td>\n",
              "      <td>922.000000</td>\n",
              "      <td>922.000000</td>\n",
              "    </tr>\n",
              "    <tr>\n",
              "      <th>mean</th>\n",
              "      <td>32621.201735</td>\n",
              "      <td>28.911063</td>\n",
              "      <td>2018.0</td>\n",
              "      <td>17.803688</td>\n",
              "      <td>8.510846</td>\n",
              "      <td>1.749458</td>\n",
              "    </tr>\n",
              "    <tr>\n",
              "      <th>std</th>\n",
              "      <td>27999.069249</td>\n",
              "      <td>24.527914</td>\n",
              "      <td>0.0</td>\n",
              "      <td>5.174844</td>\n",
              "      <td>2.313251</td>\n",
              "      <td>1.559923</td>\n",
              "    </tr>\n",
              "    <tr>\n",
              "      <th>min</th>\n",
              "      <td>28.000000</td>\n",
              "      <td>2.000000</td>\n",
              "      <td>2018.0</td>\n",
              "      <td>1.000000</td>\n",
              "      <td>1.000000</td>\n",
              "      <td>1.000000</td>\n",
              "    </tr>\n",
              "    <tr>\n",
              "      <th>25%</th>\n",
              "      <td>6490.000000</td>\n",
              "      <td>6.000000</td>\n",
              "      <td>2018.0</td>\n",
              "      <td>15.000000</td>\n",
              "      <td>7.000000</td>\n",
              "      <td>1.000000</td>\n",
              "    </tr>\n",
              "    <tr>\n",
              "      <th>50%</th>\n",
              "      <td>22039.000000</td>\n",
              "      <td>22.000000</td>\n",
              "      <td>2018.0</td>\n",
              "      <td>18.000000</td>\n",
              "      <td>9.000000</td>\n",
              "      <td>1.000000</td>\n",
              "    </tr>\n",
              "    <tr>\n",
              "      <th>75%</th>\n",
              "      <td>54077.000000</td>\n",
              "      <td>54.000000</td>\n",
              "      <td>2018.0</td>\n",
              "      <td>20.000000</td>\n",
              "      <td>10.000000</td>\n",
              "      <td>2.000000</td>\n",
              "    </tr>\n",
              "    <tr>\n",
              "      <th>max</th>\n",
              "      <td>90119.000000</td>\n",
              "      <td>90.000000</td>\n",
              "      <td>2018.0</td>\n",
              "      <td>52.000000</td>\n",
              "      <td>12.000000</td>\n",
              "      <td>12.000000</td>\n",
              "    </tr>\n",
              "  </tbody>\n",
              "</table>\n",
              "</div>\n",
              "      <button class=\"colab-df-convert\" onclick=\"convertToInteractive('df-927c7949-8aa8-4ec1-981a-81cba00abbb9')\"\n",
              "              title=\"Convert this dataframe to an interactive table.\"\n",
              "              style=\"display:none;\">\n",
              "        \n",
              "  <svg xmlns=\"http://www.w3.org/2000/svg\" height=\"24px\"viewBox=\"0 0 24 24\"\n",
              "       width=\"24px\">\n",
              "    <path d=\"M0 0h24v24H0V0z\" fill=\"none\"/>\n",
              "    <path d=\"M18.56 5.44l.94 2.06.94-2.06 2.06-.94-2.06-.94-.94-2.06-.94 2.06-2.06.94zm-11 1L8.5 8.5l.94-2.06 2.06-.94-2.06-.94L8.5 2.5l-.94 2.06-2.06.94zm10 10l.94 2.06.94-2.06 2.06-.94-2.06-.94-.94-2.06-.94 2.06-2.06.94z\"/><path d=\"M17.41 7.96l-1.37-1.37c-.4-.4-.92-.59-1.43-.59-.52 0-1.04.2-1.43.59L10.3 9.45l-7.72 7.72c-.78.78-.78 2.05 0 2.83L4 21.41c.39.39.9.59 1.41.59.51 0 1.02-.2 1.41-.59l7.78-7.78 2.81-2.81c.8-.78.8-2.07 0-2.86zM5.41 20L4 18.59l7.72-7.72 1.47 1.35L5.41 20z\"/>\n",
              "  </svg>\n",
              "      </button>\n",
              "      \n",
              "  <style>\n",
              "    .colab-df-container {\n",
              "      display:flex;\n",
              "      flex-wrap:wrap;\n",
              "      gap: 12px;\n",
              "    }\n",
              "\n",
              "    .colab-df-convert {\n",
              "      background-color: #E8F0FE;\n",
              "      border: none;\n",
              "      border-radius: 50%;\n",
              "      cursor: pointer;\n",
              "      display: none;\n",
              "      fill: #1967D2;\n",
              "      height: 32px;\n",
              "      padding: 0 0 0 0;\n",
              "      width: 32px;\n",
              "    }\n",
              "\n",
              "    .colab-df-convert:hover {\n",
              "      background-color: #E2EBFA;\n",
              "      box-shadow: 0px 1px 2px rgba(60, 64, 67, 0.3), 0px 1px 3px 1px rgba(60, 64, 67, 0.15);\n",
              "      fill: #174EA6;\n",
              "    }\n",
              "\n",
              "    [theme=dark] .colab-df-convert {\n",
              "      background-color: #3B4455;\n",
              "      fill: #D2E3FC;\n",
              "    }\n",
              "\n",
              "    [theme=dark] .colab-df-convert:hover {\n",
              "      background-color: #434B5C;\n",
              "      box-shadow: 0px 1px 3px 1px rgba(0, 0, 0, 0.15);\n",
              "      filter: drop-shadow(0px 1px 2px rgba(0, 0, 0, 0.3));\n",
              "      fill: #FFFFFF;\n",
              "    }\n",
              "  </style>\n",
              "\n",
              "      <script>\n",
              "        const buttonEl =\n",
              "          document.querySelector('#df-927c7949-8aa8-4ec1-981a-81cba00abbb9 button.colab-df-convert');\n",
              "        buttonEl.style.display =\n",
              "          google.colab.kernel.accessAllowed ? 'block' : 'none';\n",
              "\n",
              "        async function convertToInteractive(key) {\n",
              "          const element = document.querySelector('#df-927c7949-8aa8-4ec1-981a-81cba00abbb9');\n",
              "          const dataTable =\n",
              "            await google.colab.kernel.invokeFunction('convertToInteractive',\n",
              "                                                     [key], {});\n",
              "          if (!dataTable) return;\n",
              "\n",
              "          const docLinkHtml = 'Like what you see? Visit the ' +\n",
              "            '<a target=\"_blank\" href=https://colab.research.google.com/notebooks/data_table.ipynb>data table notebook</a>'\n",
              "            + ' to learn more about interactive tables.';\n",
              "          element.innerHTML = '';\n",
              "          dataTable['output_type'] = 'display_data';\n",
              "          await google.colab.output.renderOutput(dataTable, element);\n",
              "          const docLink = document.createElement('div');\n",
              "          docLink.innerHTML = docLinkHtml;\n",
              "          element.appendChild(docLink);\n",
              "        }\n",
              "      </script>\n",
              "    </div>\n",
              "  </div>\n",
              "  "
            ]
          },
          "metadata": {},
          "execution_count": 14
        }
      ]
    },
    {
      "cell_type": "code",
      "source": [
        "df[df.semanas_epidemiologicas <1]"
      ],
      "metadata": {
        "colab": {
          "base_uri": "https://localhost:8080/",
          "height": 113
        },
        "id": "w-WKF_UnTzEb",
        "outputId": "5211549a-e05e-47e5-b3fe-f5dc9a6466c8"
      },
      "execution_count": 15,
      "outputs": [
        {
          "output_type": "execute_result",
          "data": {
            "text/plain": [
              "Empty DataFrame\n",
              "Columns: [departamento_id, departamento_nombre, provincia_id, provincia_nombre, ano, semanas_epidemiologicas, evento_nombre, grupo_edad_id, grupo_edad_desc, cantidad_casos]\n",
              "Index: []"
            ],
            "text/html": [
              "\n",
              "  <div id=\"df-4e477eab-d8cd-47b5-834f-6018b1a61fb8\">\n",
              "    <div class=\"colab-df-container\">\n",
              "      <div>\n",
              "<style scoped>\n",
              "    .dataframe tbody tr th:only-of-type {\n",
              "        vertical-align: middle;\n",
              "    }\n",
              "\n",
              "    .dataframe tbody tr th {\n",
              "        vertical-align: top;\n",
              "    }\n",
              "\n",
              "    .dataframe thead th {\n",
              "        text-align: right;\n",
              "    }\n",
              "</style>\n",
              "<table border=\"1\" class=\"dataframe\">\n",
              "  <thead>\n",
              "    <tr style=\"text-align: right;\">\n",
              "      <th></th>\n",
              "      <th>departamento_id</th>\n",
              "      <th>departamento_nombre</th>\n",
              "      <th>provincia_id</th>\n",
              "      <th>provincia_nombre</th>\n",
              "      <th>ano</th>\n",
              "      <th>semanas_epidemiologicas</th>\n",
              "      <th>evento_nombre</th>\n",
              "      <th>grupo_edad_id</th>\n",
              "      <th>grupo_edad_desc</th>\n",
              "      <th>cantidad_casos</th>\n",
              "    </tr>\n",
              "  </thead>\n",
              "  <tbody>\n",
              "  </tbody>\n",
              "</table>\n",
              "</div>\n",
              "      <button class=\"colab-df-convert\" onclick=\"convertToInteractive('df-4e477eab-d8cd-47b5-834f-6018b1a61fb8')\"\n",
              "              title=\"Convert this dataframe to an interactive table.\"\n",
              "              style=\"display:none;\">\n",
              "        \n",
              "  <svg xmlns=\"http://www.w3.org/2000/svg\" height=\"24px\"viewBox=\"0 0 24 24\"\n",
              "       width=\"24px\">\n",
              "    <path d=\"M0 0h24v24H0V0z\" fill=\"none\"/>\n",
              "    <path d=\"M18.56 5.44l.94 2.06.94-2.06 2.06-.94-2.06-.94-.94-2.06-.94 2.06-2.06.94zm-11 1L8.5 8.5l.94-2.06 2.06-.94-2.06-.94L8.5 2.5l-.94 2.06-2.06.94zm10 10l.94 2.06.94-2.06 2.06-.94-2.06-.94-.94-2.06-.94 2.06-2.06.94z\"/><path d=\"M17.41 7.96l-1.37-1.37c-.4-.4-.92-.59-1.43-.59-.52 0-1.04.2-1.43.59L10.3 9.45l-7.72 7.72c-.78.78-.78 2.05 0 2.83L4 21.41c.39.39.9.59 1.41.59.51 0 1.02-.2 1.41-.59l7.78-7.78 2.81-2.81c.8-.78.8-2.07 0-2.86zM5.41 20L4 18.59l7.72-7.72 1.47 1.35L5.41 20z\"/>\n",
              "  </svg>\n",
              "      </button>\n",
              "      \n",
              "  <style>\n",
              "    .colab-df-container {\n",
              "      display:flex;\n",
              "      flex-wrap:wrap;\n",
              "      gap: 12px;\n",
              "    }\n",
              "\n",
              "    .colab-df-convert {\n",
              "      background-color: #E8F0FE;\n",
              "      border: none;\n",
              "      border-radius: 50%;\n",
              "      cursor: pointer;\n",
              "      display: none;\n",
              "      fill: #1967D2;\n",
              "      height: 32px;\n",
              "      padding: 0 0 0 0;\n",
              "      width: 32px;\n",
              "    }\n",
              "\n",
              "    .colab-df-convert:hover {\n",
              "      background-color: #E2EBFA;\n",
              "      box-shadow: 0px 1px 2px rgba(60, 64, 67, 0.3), 0px 1px 3px 1px rgba(60, 64, 67, 0.15);\n",
              "      fill: #174EA6;\n",
              "    }\n",
              "\n",
              "    [theme=dark] .colab-df-convert {\n",
              "      background-color: #3B4455;\n",
              "      fill: #D2E3FC;\n",
              "    }\n",
              "\n",
              "    [theme=dark] .colab-df-convert:hover {\n",
              "      background-color: #434B5C;\n",
              "      box-shadow: 0px 1px 3px 1px rgba(0, 0, 0, 0.15);\n",
              "      filter: drop-shadow(0px 1px 2px rgba(0, 0, 0, 0.3));\n",
              "      fill: #FFFFFF;\n",
              "    }\n",
              "  </style>\n",
              "\n",
              "      <script>\n",
              "        const buttonEl =\n",
              "          document.querySelector('#df-4e477eab-d8cd-47b5-834f-6018b1a61fb8 button.colab-df-convert');\n",
              "        buttonEl.style.display =\n",
              "          google.colab.kernel.accessAllowed ? 'block' : 'none';\n",
              "\n",
              "        async function convertToInteractive(key) {\n",
              "          const element = document.querySelector('#df-4e477eab-d8cd-47b5-834f-6018b1a61fb8');\n",
              "          const dataTable =\n",
              "            await google.colab.kernel.invokeFunction('convertToInteractive',\n",
              "                                                     [key], {});\n",
              "          if (!dataTable) return;\n",
              "\n",
              "          const docLinkHtml = 'Like what you see? Visit the ' +\n",
              "            '<a target=\"_blank\" href=https://colab.research.google.com/notebooks/data_table.ipynb>data table notebook</a>'\n",
              "            + ' to learn more about interactive tables.';\n",
              "          element.innerHTML = '';\n",
              "          dataTable['output_type'] = 'display_data';\n",
              "          await google.colab.output.renderOutput(dataTable, element);\n",
              "          const docLink = document.createElement('div');\n",
              "          docLink.innerHTML = docLinkHtml;\n",
              "          element.appendChild(docLink);\n",
              "        }\n",
              "      </script>\n",
              "    </div>\n",
              "  </div>\n",
              "  "
            ]
          },
          "metadata": {},
          "execution_count": 15
        }
      ]
    },
    {
      "cell_type": "code",
      "source": [],
      "metadata": {
        "id": "sjBe9TnvZilR"
      },
      "execution_count": null,
      "outputs": []
    },
    {
      "cell_type": "code",
      "execution_count": 16,
      "metadata": {
        "id": "dfVW7lUyZT2k",
        "outputId": "09b1b2ff-731d-48a5-da71-05571288a8ff",
        "colab": {
          "base_uri": "https://localhost:8080/"
        }
      },
      "outputs": [
        {
          "output_type": "execute_result",
          "data": {
            "text/plain": [
              "provincia_nombre\n",
              "Buenos Aires           145\n",
              "CABA                    99\n",
              "Chaco                  322\n",
              "Corrientes              70\n",
              "Córdoba                 12\n",
              "DESCONOCIDA              2\n",
              "Entre Ríos               6\n",
              "Formosa                 22\n",
              "Mendoza                  1\n",
              "Misiones               103\n",
              "Salta                   74\n",
              "Santa Fe                11\n",
              "Santiago del Estero     53\n",
              "Tucumán                  2\n",
              "dtype: int64"
            ]
          },
          "metadata": {},
          "execution_count": 16
        }
      ],
      "source": [
        "df.groupby('provincia_nombre').size()"
      ]
    },
    {
      "cell_type": "code",
      "source": [],
      "metadata": {
        "id": "y217YViQb7Ce"
      },
      "execution_count": null,
      "outputs": []
    },
    {
      "cell_type": "code",
      "execution_count": 17,
      "metadata": {
        "outputId": "0ac4329b-3bbf-46fa-bba0-808b42822dd9",
        "colab": {
          "base_uri": "https://localhost:8080/"
        },
        "id": "zE1nwJ3rb7qb"
      },
      "outputs": [
        {
          "output_type": "execute_result",
          "data": {
            "text/plain": [
              "provincia_nombre\n",
              "Buenos Aires           1.296552\n",
              "CABA                   1.343434\n",
              "Chaco                  2.295031\n",
              "Corrientes             1.800000\n",
              "Córdoba                1.083333\n",
              "DESCONOCIDA            1.000000\n",
              "Entre Ríos             1.000000\n",
              "Formosa                1.090909\n",
              "Mendoza                1.000000\n",
              "Misiones               1.533981\n",
              "Salta                  1.270270\n",
              "Santa Fe               1.000000\n",
              "Santiago del Estero    2.188679\n",
              "Tucumán                1.000000\n",
              "Name: cantidad_casos, dtype: float64"
            ]
          },
          "metadata": {},
          "execution_count": 17
        }
      ],
      "source": [
        "df.groupby('provincia_nombre').mean().cantidad_casos"
      ]
    },
    {
      "cell_type": "code",
      "source": [
        "import plotly.express as px\n",
        "\n",
        "fig = px.scatter(df, x=\"provincia_nombre\", y=\"cantidad_casos\", color=\"evento_nombre\")\n",
        "fig.show()\n"
      ],
      "metadata": {
        "colab": {
          "base_uri": "https://localhost:8080/",
          "height": 542
        },
        "id": "NZb3HxDheGG1",
        "outputId": "a9446762-86b8-4830-e0f3-49f87e4a71d0"
      },
      "execution_count": 18,
      "outputs": [
        {
          "output_type": "display_data",
          "data": {
            "text/html": [
              "<html>\n",
              "<head><meta charset=\"utf-8\" /></head>\n",
              "<body>\n",
              "    <div>            <script src=\"https://cdnjs.cloudflare.com/ajax/libs/mathjax/2.7.5/MathJax.js?config=TeX-AMS-MML_SVG\"></script><script type=\"text/javascript\">if (window.MathJax) {MathJax.Hub.Config({SVG: {font: \"STIX-Web\"}});}</script>                <script type=\"text/javascript\">window.PlotlyConfig = {MathJaxConfig: 'local'};</script>\n",
              "        <script src=\"https://cdn.plot.ly/plotly-2.8.3.min.js\"></script>                <div id=\"018532be-75b9-40f4-9f67-daf2d6466907\" class=\"plotly-graph-div\" style=\"height:525px; width:100%;\"></div>            <script type=\"text/javascript\">                                    window.PLOTLYENV=window.PLOTLYENV || {};                                    if (document.getElementById(\"018532be-75b9-40f4-9f67-daf2d6466907\")) {                    Plotly.newPlot(                        \"018532be-75b9-40f4-9f67-daf2d6466907\",                        [{\"hovertemplate\":\"evento_nombre=Dengue<br>provincia_nombre=%{x}<br>cantidad_casos=%{y}<extra></extra>\",\"legendgroup\":\"Dengue\",\"marker\":{\"color\":\"#636efa\",\"symbol\":\"circle\"},\"mode\":\"markers\",\"name\":\"Dengue\",\"orientation\":\"v\",\"showlegend\":true,\"x\":[\"CABA\",\"CABA\",\"Buenos Aires\",\"Buenos Aires\",\"Buenos Aires\",\"Buenos Aires\",\"Buenos Aires\",\"Buenos Aires\",\"Buenos Aires\",\"Mendoza\",\"Santa Fe\",\"Santa Fe\",\"CABA\",\"CABA\",\"CABA\",\"CABA\",\"CABA\",\"CABA\",\"CABA\",\"CABA\",\"CABA\",\"CABA\",\"CABA\",\"CABA\",\"CABA\",\"CABA\",\"CABA\",\"CABA\",\"CABA\",\"CABA\",\"CABA\",\"CABA\",\"CABA\",\"CABA\",\"CABA\",\"CABA\",\"CABA\",\"CABA\",\"CABA\",\"CABA\",\"CABA\",\"CABA\",\"CABA\",\"CABA\",\"CABA\",\"CABA\",\"CABA\",\"CABA\",\"CABA\",\"CABA\",\"CABA\",\"CABA\",\"CABA\",\"CABA\",\"CABA\",\"CABA\",\"CABA\",\"CABA\",\"CABA\",\"CABA\",\"CABA\",\"CABA\",\"CABA\",\"CABA\",\"CABA\",\"CABA\",\"CABA\",\"CABA\",\"CABA\",\"CABA\",\"CABA\",\"CABA\",\"CABA\",\"CABA\",\"CABA\",\"CABA\",\"CABA\",\"CABA\",\"CABA\",\"CABA\",\"CABA\",\"CABA\",\"CABA\",\"CABA\",\"CABA\",\"CABA\",\"CABA\",\"CABA\",\"CABA\",\"CABA\",\"CABA\",\"CABA\",\"CABA\",\"CABA\",\"CABA\",\"CABA\",\"CABA\",\"CABA\",\"CABA\",\"CABA\",\"CABA\",\"CABA\",\"CABA\",\"CABA\",\"CABA\",\"CABA\",\"CABA\",\"Buenos Aires\",\"Buenos Aires\",\"Buenos Aires\",\"Buenos Aires\",\"Buenos Aires\",\"Buenos Aires\",\"Buenos Aires\",\"Buenos Aires\",\"Buenos Aires\",\"Buenos Aires\",\"Buenos Aires\",\"Buenos Aires\",\"Buenos Aires\",\"Buenos Aires\",\"Buenos Aires\",\"Buenos Aires\",\"Buenos Aires\",\"Buenos Aires\",\"Buenos Aires\",\"Buenos Aires\",\"Buenos Aires\",\"Buenos Aires\",\"Buenos Aires\",\"Buenos Aires\",\"Buenos Aires\",\"Buenos Aires\",\"Buenos Aires\",\"Buenos Aires\",\"Buenos Aires\",\"Buenos Aires\",\"Buenos Aires\",\"Buenos Aires\",\"Buenos Aires\",\"Buenos Aires\",\"Buenos Aires\",\"Buenos Aires\",\"Buenos Aires\",\"Buenos Aires\",\"Buenos Aires\",\"Buenos Aires\",\"Buenos Aires\",\"Buenos Aires\",\"CABA\",\"Buenos Aires\",\"DESCONOCIDA\",\"DESCONOCIDA\",\"Corrientes\",\"Buenos Aires\",\"Buenos Aires\",\"Buenos Aires\",\"Buenos Aires\",\"Buenos Aires\",\"Buenos Aires\",\"Buenos Aires\",\"Buenos Aires\",\"Buenos Aires\",\"Buenos Aires\",\"Buenos Aires\",\"Buenos Aires\",\"Buenos Aires\",\"Buenos Aires\",\"Buenos Aires\",\"Buenos Aires\",\"Buenos Aires\",\"Buenos Aires\",\"Buenos Aires\",\"Buenos Aires\",\"Buenos Aires\",\"Buenos Aires\",\"Buenos Aires\",\"Buenos Aires\",\"Buenos Aires\",\"Buenos Aires\",\"Buenos Aires\",\"Buenos Aires\",\"Buenos Aires\",\"Buenos Aires\",\"Buenos Aires\",\"Buenos Aires\",\"Buenos Aires\",\"Buenos Aires\",\"Buenos Aires\",\"Buenos Aires\",\"Buenos Aires\",\"Buenos Aires\",\"Buenos Aires\",\"Buenos Aires\",\"Buenos Aires\",\"Buenos Aires\",\"Buenos Aires\",\"Buenos Aires\",\"Buenos Aires\",\"Buenos Aires\",\"Buenos Aires\",\"Buenos Aires\",\"Buenos Aires\",\"Buenos Aires\",\"Buenos Aires\",\"Buenos Aires\",\"Buenos Aires\",\"Buenos Aires\",\"Buenos Aires\",\"Buenos Aires\",\"Buenos Aires\",\"Buenos Aires\",\"Buenos Aires\",\"Buenos Aires\",\"Buenos Aires\",\"Chaco\",\"Chaco\",\"Chaco\",\"Chaco\",\"Chaco\",\"Chaco\",\"Chaco\",\"Chaco\",\"Chaco\",\"Chaco\",\"Chaco\",\"Chaco\",\"Chaco\",\"Chaco\",\"Chaco\",\"Chaco\",\"Buenos Aires\",\"Buenos Aires\",\"Buenos Aires\",\"Buenos Aires\",\"Buenos Aires\",\"Buenos Aires\",\"Buenos Aires\",\"Buenos Aires\",\"Buenos Aires\",\"Buenos Aires\",\"Buenos Aires\",\"Buenos Aires\",\"Buenos Aires\",\"Buenos Aires\",\"Buenos Aires\",\"Buenos Aires\",\"Buenos Aires\",\"Buenos Aires\",\"Buenos Aires\",\"Buenos Aires\",\"Buenos Aires\",\"Buenos Aires\",\"Buenos Aires\",\"Buenos Aires\",\"Buenos Aires\",\"Buenos Aires\",\"Buenos Aires\",\"Buenos Aires\",\"Buenos Aires\",\"Buenos Aires\",\"Buenos Aires\",\"Buenos Aires\",\"C\\u00f3rdoba\",\"Corrientes\",\"Corrientes\",\"Corrientes\",\"Corrientes\",\"Corrientes\",\"Corrientes\",\"Corrientes\",\"Corrientes\",\"Corrientes\",\"Corrientes\",\"Corrientes\",\"Corrientes\",\"Corrientes\",\"Corrientes\",\"Corrientes\",\"Corrientes\",\"Corrientes\",\"Corrientes\",\"Corrientes\",\"Corrientes\",\"Corrientes\",\"Corrientes\",\"Corrientes\",\"Corrientes\",\"Corrientes\",\"Corrientes\",\"Corrientes\",\"Corrientes\",\"Corrientes\",\"Corrientes\",\"Corrientes\",\"Corrientes\",\"Corrientes\",\"Corrientes\",\"Corrientes\",\"Corrientes\",\"Corrientes\",\"Corrientes\",\"Corrientes\",\"Corrientes\",\"Corrientes\",\"Corrientes\",\"Corrientes\",\"Corrientes\",\"Corrientes\",\"Corrientes\",\"Corrientes\",\"Corrientes\",\"Corrientes\",\"Corrientes\",\"Corrientes\",\"Corrientes\",\"Corrientes\",\"Corrientes\",\"Corrientes\",\"Corrientes\",\"Corrientes\",\"Corrientes\",\"Corrientes\",\"Corrientes\",\"Corrientes\",\"Corrientes\",\"Corrientes\",\"Corrientes\",\"Corrientes\",\"Corrientes\",\"Buenos Aires\",\"Corrientes\",\"Corrientes\",\"Chaco\",\"Chaco\",\"Chaco\",\"Chaco\",\"Chaco\",\"Chaco\",\"Chaco\",\"Chaco\",\"Chaco\",\"Chaco\",\"Chaco\",\"Chaco\",\"Chaco\",\"Chaco\",\"Chaco\",\"Chaco\",\"Chaco\",\"Chaco\",\"Chaco\",\"Chaco\",\"Chaco\",\"Chaco\",\"Chaco\",\"Chaco\",\"Chaco\",\"Chaco\",\"Chaco\",\"Chaco\",\"Chaco\",\"Chaco\",\"Chaco\",\"Chaco\",\"Chaco\",\"Chaco\",\"Chaco\",\"Chaco\",\"Chaco\",\"Chaco\",\"Chaco\",\"Chaco\",\"Chaco\",\"Chaco\",\"Chaco\",\"Chaco\",\"Chaco\",\"Chaco\",\"Chaco\",\"Chaco\",\"Chaco\",\"Chaco\",\"Chaco\",\"Chaco\",\"Chaco\",\"Chaco\",\"Chaco\",\"Chaco\",\"Chaco\",\"Chaco\",\"Chaco\",\"Chaco\",\"Chaco\",\"Chaco\",\"Chaco\",\"Chaco\",\"Chaco\",\"Chaco\",\"Chaco\",\"Chaco\",\"Chaco\",\"Chaco\",\"Chaco\",\"Chaco\",\"Chaco\",\"Chaco\",\"Chaco\",\"Chaco\",\"Chaco\",\"Chaco\",\"Chaco\",\"Chaco\",\"Chaco\",\"Chaco\",\"Chaco\",\"Chaco\",\"Chaco\",\"Chaco\",\"Chaco\",\"Chaco\",\"Chaco\",\"Chaco\",\"Chaco\",\"Chaco\",\"Chaco\",\"Chaco\",\"Chaco\",\"Chaco\",\"Chaco\",\"Chaco\",\"Chaco\",\"Chaco\",\"Chaco\",\"Chaco\",\"Chaco\",\"Chaco\",\"Chaco\",\"Chaco\",\"Chaco\",\"Chaco\",\"Chaco\",\"Chaco\",\"Chaco\",\"Chaco\",\"Chaco\",\"Chaco\",\"Chaco\",\"Chaco\",\"Chaco\",\"Chaco\",\"Chaco\",\"Chaco\",\"Chaco\",\"Chaco\",\"Chaco\",\"Chaco\",\"Chaco\",\"Chaco\",\"Chaco\",\"Chaco\",\"Chaco\",\"Chaco\",\"Chaco\",\"Chaco\",\"Chaco\",\"Chaco\",\"Chaco\",\"Chaco\",\"Chaco\",\"Chaco\",\"Chaco\",\"Chaco\",\"Chaco\",\"Chaco\",\"Chaco\",\"Chaco\",\"Chaco\",\"Chaco\",\"Chaco\",\"Chaco\",\"Chaco\",\"Chaco\",\"Chaco\",\"Chaco\",\"Chaco\",\"Chaco\",\"Chaco\",\"Chaco\",\"Chaco\",\"Chaco\",\"Chaco\",\"Chaco\",\"Chaco\",\"Chaco\",\"Chaco\",\"Chaco\",\"Chaco\",\"Chaco\",\"Chaco\",\"Chaco\",\"Chaco\",\"Chaco\",\"Chaco\",\"Chaco\",\"Chaco\",\"Chaco\",\"Chaco\",\"Chaco\",\"Chaco\",\"Chaco\",\"Chaco\",\"Chaco\",\"Chaco\",\"Chaco\",\"Chaco\",\"Chaco\",\"Chaco\",\"Chaco\",\"Chaco\",\"Chaco\",\"Chaco\",\"Entre R\\u00edos\",\"Entre R\\u00edos\",\"Entre R\\u00edos\",\"Entre R\\u00edos\",\"Entre R\\u00edos\",\"Entre R\\u00edos\",\"Formosa\",\"Formosa\",\"Formosa\",\"Formosa\",\"Formosa\",\"Formosa\",\"Formosa\",\"Formosa\",\"Formosa\",\"Formosa\",\"Formosa\",\"Formosa\",\"Formosa\",\"Formosa\",\"Formosa\",\"Formosa\",\"Formosa\",\"Formosa\",\"Formosa\",\"Formosa\",\"Formosa\",\"Formosa\",\"Chaco\",\"Chaco\",\"Chaco\",\"Chaco\",\"Chaco\",\"Chaco\",\"Chaco\",\"Chaco\",\"Chaco\",\"Chaco\",\"Chaco\",\"Chaco\",\"Chaco\",\"Chaco\",\"Chaco\",\"Chaco\",\"Chaco\",\"Chaco\",\"Chaco\",\"Chaco\",\"Chaco\",\"Chaco\",\"Chaco\",\"Chaco\",\"Chaco\",\"Chaco\",\"Chaco\",\"Chaco\",\"Chaco\",\"Chaco\",\"Chaco\",\"Chaco\",\"Chaco\",\"Chaco\",\"Chaco\",\"Chaco\",\"Chaco\",\"Chaco\",\"Chaco\",\"Chaco\",\"Chaco\",\"Chaco\",\"Chaco\",\"Chaco\",\"Misiones\",\"Misiones\",\"Misiones\",\"Misiones\",\"Misiones\",\"Misiones\",\"Misiones\",\"Misiones\",\"Misiones\",\"Misiones\",\"Misiones\",\"Misiones\",\"Misiones\",\"Misiones\",\"Misiones\",\"Misiones\",\"Misiones\",\"Misiones\",\"Misiones\",\"Misiones\",\"Misiones\",\"Misiones\",\"Misiones\",\"Misiones\",\"Misiones\",\"Misiones\",\"Misiones\",\"Misiones\",\"Misiones\",\"Corrientes\",\"Misiones\",\"Misiones\",\"Misiones\",\"Misiones\",\"Misiones\",\"Misiones\",\"Misiones\",\"Misiones\",\"Misiones\",\"Misiones\",\"Misiones\",\"Misiones\",\"Misiones\",\"Misiones\",\"Misiones\",\"Misiones\",\"Misiones\",\"Misiones\",\"Misiones\",\"Misiones\",\"Misiones\",\"Misiones\",\"Misiones\",\"Misiones\",\"Misiones\",\"Misiones\",\"Misiones\",\"Misiones\",\"Misiones\",\"Misiones\",\"Misiones\",\"Misiones\",\"Misiones\",\"Misiones\",\"Misiones\",\"Misiones\",\"Misiones\",\"Misiones\",\"Misiones\",\"Misiones\",\"Misiones\",\"Misiones\",\"Misiones\",\"Misiones\",\"Misiones\",\"Misiones\",\"Misiones\",\"Misiones\",\"Misiones\",\"Misiones\",\"Misiones\",\"Misiones\",\"Misiones\",\"Misiones\",\"Misiones\",\"Misiones\",\"Misiones\",\"Misiones\",\"Misiones\",\"Misiones\",\"Misiones\",\"Misiones\",\"Misiones\",\"Misiones\",\"Misiones\",\"Misiones\",\"Misiones\",\"Misiones\",\"Misiones\",\"Misiones\",\"Misiones\",\"Misiones\",\"Misiones\",\"Misiones\",\"C\\u00f3rdoba\",\"Salta\",\"Salta\",\"Chaco\",\"Chaco\",\"Chaco\",\"Chaco\",\"Salta\",\"Salta\",\"Salta\",\"Salta\",\"Salta\",\"Salta\",\"Salta\",\"Salta\",\"Salta\",\"Salta\",\"Salta\",\"Salta\",\"Salta\",\"Salta\",\"Salta\",\"Salta\",\"Salta\",\"Salta\",\"Salta\",\"Salta\",\"Salta\",\"Salta\",\"Salta\",\"Salta\",\"Salta\",\"Salta\",\"Salta\",\"Salta\",\"Salta\",\"Salta\",\"Salta\",\"Salta\",\"Salta\",\"Salta\",\"Salta\",\"Salta\",\"Salta\",\"Salta\",\"Salta\",\"Chaco\",\"Chaco\",\"Chaco\",\"Chaco\",\"Chaco\",\"Chaco\",\"Chaco\",\"Chaco\",\"Chaco\",\"Chaco\",\"Chaco\",\"Chaco\",\"Chaco\",\"Chaco\",\"Chaco\",\"Chaco\",\"Chaco\",\"Chaco\",\"Chaco\",\"Chaco\",\"Chaco\",\"Chaco\",\"Chaco\",\"Chaco\",\"Chaco\",\"Chaco\",\"Chaco\",\"Chaco\",\"Chaco\",\"Chaco\",\"Chaco\",\"Chaco\",\"Chaco\",\"Chaco\",\"Chaco\",\"Chaco\",\"Chaco\",\"Chaco\",\"Chaco\",\"Chaco\",\"Chaco\",\"Chaco\",\"Chaco\",\"Chaco\",\"Chaco\",\"Chaco\",\"Chaco\",\"Chaco\",\"Chaco\",\"Chaco\",\"Chaco\",\"Chaco\",\"Chaco\",\"Chaco\",\"Chaco\",\"Chaco\",\"Chaco\",\"Chaco\",\"Chaco\",\"Chaco\",\"Chaco\",\"Chaco\",\"Chaco\",\"Chaco\",\"Chaco\",\"Chaco\",\"Chaco\",\"Chaco\",\"Santa Fe\",\"Santa Fe\",\"Santa Fe\",\"Santa Fe\",\"Santa Fe\",\"Santa Fe\",\"Santa Fe\",\"Santa Fe\",\"Santa Fe\",\"Chaco\",\"Santiago del Estero\",\"Santiago del Estero\",\"Santiago del Estero\",\"Santiago del Estero\",\"Santiago del Estero\",\"Santiago del Estero\",\"Santiago del Estero\",\"Santiago del Estero\",\"Santiago del Estero\",\"Santiago del Estero\",\"Santiago del Estero\",\"Santiago del Estero\",\"Santiago del Estero\",\"Santiago del Estero\",\"Santiago del Estero\",\"Santiago del Estero\",\"Santiago del Estero\",\"Santiago del Estero\",\"Santiago del Estero\",\"Santiago del Estero\",\"Santiago del Estero\",\"Santiago del Estero\",\"Santiago del Estero\",\"Santiago del Estero\",\"Santiago del Estero\",\"Santiago del Estero\",\"Santiago del Estero\",\"Santiago del Estero\",\"Santiago del Estero\",\"Santiago del Estero\",\"Santiago del Estero\",\"Santiago del Estero\",\"Santiago del Estero\",\"Santiago del Estero\",\"Santiago del Estero\",\"Santiago del Estero\",\"Santiago del Estero\",\"Santiago del Estero\",\"Santiago del Estero\",\"Santiago del Estero\",\"Santiago del Estero\",\"Santiago del Estero\",\"Santiago del Estero\",\"Santiago del Estero\",\"Santiago del Estero\",\"Santiago del Estero\",\"Santiago del Estero\",\"Santiago del Estero\",\"Santiago del Estero\",\"Santiago del Estero\",\"CABA\",\"Santiago del Estero\",\"Santiago del Estero\",\"Santiago del Estero\",\"Tucum\\u00e1n\",\"C\\u00f3rdoba\",\"C\\u00f3rdoba\",\"C\\u00f3rdoba\",\"C\\u00f3rdoba\",\"C\\u00f3rdoba\",\"C\\u00f3rdoba\",\"C\\u00f3rdoba\",\"C\\u00f3rdoba\",\"C\\u00f3rdoba\",\"C\\u00f3rdoba\",\"Tucum\\u00e1n\"],\"xaxis\":\"x\",\"y\":[1,1,1,2,1,1,1,1,1,1,1,1,1,1,1,1,1,1,1,2,1,2,2,2,1,1,1,3,1,1,1,1,1,1,1,1,1,1,1,2,1,4,1,1,1,3,1,1,2,1,1,1,1,3,1,2,1,2,1,1,1,2,2,3,1,5,3,2,4,2,1,1,2,2,1,1,1,1,1,1,1,1,1,1,1,1,1,1,1,1,1,1,1,1,1,1,1,1,1,1,1,1,1,1,1,1,1,1,1,1,1,1,1,1,1,1,1,2,1,1,1,1,2,2,2,1,1,2,1,3,1,2,2,3,1,1,2,1,2,1,3,1,2,1,3,2,1,1,1,1,1,1,1,1,1,1,1,1,1,1,1,1,1,1,1,1,1,1,1,1,1,1,1,2,2,2,1,1,1,1,1,1,4,2,3,3,2,2,1,1,1,1,1,1,1,1,1,1,1,1,1,1,1,2,1,1,1,1,1,2,1,1,1,1,1,1,1,1,1,1,1,2,3,1,1,1,2,2,1,1,1,1,1,3,1,1,1,1,1,2,1,1,1,1,2,1,1,3,1,2,1,1,1,1,1,1,1,2,1,1,1,1,1,1,1,1,1,1,1,1,2,1,1,3,3,7,3,3,1,1,3,3,2,1,1,1,2,1,3,1,1,1,1,2,1,2,1,1,1,4,1,1,1,1,1,1,1,2,1,1,1,3,1,6,6,5,2,2,3,1,5,2,1,1,3,1,1,1,1,1,1,1,1,1,2,1,1,1,1,1,1,1,1,1,1,1,1,1,1,4,1,1,1,1,1,1,1,1,1,1,1,1,1,1,1,2,1,1,2,1,1,1,1,1,1,2,1,1,2,4,1,3,7,2,6,3,8,4,2,1,3,1,3,3,4,7,5,3,10,1,6,1,3,1,5,2,8,10,8,6,1,1,2,4,9,9,8,11,10,2,4,2,3,4,5,5,5,6,3,1,7,1,1,3,1,1,1,2,1,1,1,1,1,1,1,1,1,2,1,1,1,1,1,2,1,3,2,1,1,1,1,1,1,2,1,1,1,1,1,1,1,2,1,1,1,1,1,1,3,2,2,4,4,4,1,1,1,1,1,1,1,1,1,1,1,1,1,3,1,2,1,3,1,1,1,2,1,1,2,2,1,1,2,1,1,1,1,1,2,1,1,1,1,1,1,1,1,1,3,1,1,1,1,1,1,1,1,1,1,1,1,1,1,1,1,1,1,1,1,1,1,1,1,2,2,2,1,3,1,5,6,4,6,6,1,2,2,9,8,2,8,12,6,2,1,1,2,4,1,5,1,2,2,1,1,1,1,1,2,2,4,1,1,1,1,1,1,1,1,1,1,1,1,1,1,1,2,1,5,3,2,2,1,1,1,1,1,1,2,1,1,1,2,1,1,1,1,2,1,1,1,1,1,1,1,1,1,1,2,1,1,1,2,2,1,2,1,1,3,1,1,1,1,1,1,2,1,2,1,2,4,3,3,2,2,2,1,2,1,3,1,3,2,3,4,1,3,5,1,2,1,2,3,2,1,1,1,2,1,1,1,2,1,1,1,1,1,1,1,1,1,1,1,1,1,1,1,1,1,1,1,2,2,4,2,1,1,1,2,1,1,1,1,1,1,2,2,3,1,1,1,1,2,2,3,1,1,2,2,1,1,1,1,1,4,1,1,1,3,1,6,1,1,1,4,1,2,2,1,1,3,2,2,3,2,1,1,1,1,4,5,2,2,4,2,3,1,1,1,3,5,1,5,4,8,2,5,10,5,9,3,5,1,4,1,2,3,1,3,3,1,3,1,1,2,2,2,2,1,2,1,1,1,1,1,1,1,1,1,1,1,1,1,1,1,1,1,1,1,1,1,1,1,1,3,1,1,1,2,10,7,2,8,1,1,1,1,4,4,6,2,5,2,3,3,2,1,2,5,6,1,1,2,1,1,1,2,2,1,1,1,3,1,1,1,1,1,1,2,1,1,1,1,1,1,1,1,1],\"yaxis\":\"y\",\"type\":\"scatter\"},{\"hovertemplate\":\"evento_nombre=Enfermedad por Virus del Zika<br>provincia_nombre=%{x}<br>cantidad_casos=%{y}<extra></extra>\",\"legendgroup\":\"Enfermedad por Virus del Zika\",\"marker\":{\"color\":\"#EF553B\",\"symbol\":\"circle\"},\"mode\":\"markers\",\"name\":\"Enfermedad por Virus del Zika\",\"orientation\":\"v\",\"showlegend\":true,\"x\":[\"Buenos Aires\",\"Salta\",\"Salta\",\"Salta\",\"Salta\",\"Salta\",\"Salta\",\"Salta\",\"Salta\",\"Salta\",\"Salta\",\"Salta\",\"Salta\",\"Salta\",\"Salta\",\"Salta\",\"Salta\",\"Salta\",\"Salta\",\"Salta\",\"Salta\",\"Salta\",\"Salta\",\"Salta\",\"Salta\",\"Salta\",\"Salta\",\"Salta\",\"Salta\",\"Salta\",\"Salta\",\"Salta\",\"Salta\",\"Salta\"],\"xaxis\":\"x\",\"y\":[1,1,1,1,1,1,2,1,1,1,1,1,1,1,1,1,1,1,1,1,1,1,1,2,1,2,1,1,1,1,1,1,1,1],\"yaxis\":\"y\",\"type\":\"scatter\"}],                        {\"template\":{\"data\":{\"bar\":[{\"error_x\":{\"color\":\"#2a3f5f\"},\"error_y\":{\"color\":\"#2a3f5f\"},\"marker\":{\"line\":{\"color\":\"#E5ECF6\",\"width\":0.5},\"pattern\":{\"fillmode\":\"overlay\",\"size\":10,\"solidity\":0.2}},\"type\":\"bar\"}],\"barpolar\":[{\"marker\":{\"line\":{\"color\":\"#E5ECF6\",\"width\":0.5},\"pattern\":{\"fillmode\":\"overlay\",\"size\":10,\"solidity\":0.2}},\"type\":\"barpolar\"}],\"carpet\":[{\"aaxis\":{\"endlinecolor\":\"#2a3f5f\",\"gridcolor\":\"white\",\"linecolor\":\"white\",\"minorgridcolor\":\"white\",\"startlinecolor\":\"#2a3f5f\"},\"baxis\":{\"endlinecolor\":\"#2a3f5f\",\"gridcolor\":\"white\",\"linecolor\":\"white\",\"minorgridcolor\":\"white\",\"startlinecolor\":\"#2a3f5f\"},\"type\":\"carpet\"}],\"choropleth\":[{\"colorbar\":{\"outlinewidth\":0,\"ticks\":\"\"},\"type\":\"choropleth\"}],\"contour\":[{\"colorbar\":{\"outlinewidth\":0,\"ticks\":\"\"},\"colorscale\":[[0.0,\"#0d0887\"],[0.1111111111111111,\"#46039f\"],[0.2222222222222222,\"#7201a8\"],[0.3333333333333333,\"#9c179e\"],[0.4444444444444444,\"#bd3786\"],[0.5555555555555556,\"#d8576b\"],[0.6666666666666666,\"#ed7953\"],[0.7777777777777778,\"#fb9f3a\"],[0.8888888888888888,\"#fdca26\"],[1.0,\"#f0f921\"]],\"type\":\"contour\"}],\"contourcarpet\":[{\"colorbar\":{\"outlinewidth\":0,\"ticks\":\"\"},\"type\":\"contourcarpet\"}],\"heatmap\":[{\"colorbar\":{\"outlinewidth\":0,\"ticks\":\"\"},\"colorscale\":[[0.0,\"#0d0887\"],[0.1111111111111111,\"#46039f\"],[0.2222222222222222,\"#7201a8\"],[0.3333333333333333,\"#9c179e\"],[0.4444444444444444,\"#bd3786\"],[0.5555555555555556,\"#d8576b\"],[0.6666666666666666,\"#ed7953\"],[0.7777777777777778,\"#fb9f3a\"],[0.8888888888888888,\"#fdca26\"],[1.0,\"#f0f921\"]],\"type\":\"heatmap\"}],\"heatmapgl\":[{\"colorbar\":{\"outlinewidth\":0,\"ticks\":\"\"},\"colorscale\":[[0.0,\"#0d0887\"],[0.1111111111111111,\"#46039f\"],[0.2222222222222222,\"#7201a8\"],[0.3333333333333333,\"#9c179e\"],[0.4444444444444444,\"#bd3786\"],[0.5555555555555556,\"#d8576b\"],[0.6666666666666666,\"#ed7953\"],[0.7777777777777778,\"#fb9f3a\"],[0.8888888888888888,\"#fdca26\"],[1.0,\"#f0f921\"]],\"type\":\"heatmapgl\"}],\"histogram\":[{\"marker\":{\"pattern\":{\"fillmode\":\"overlay\",\"size\":10,\"solidity\":0.2}},\"type\":\"histogram\"}],\"histogram2d\":[{\"colorbar\":{\"outlinewidth\":0,\"ticks\":\"\"},\"colorscale\":[[0.0,\"#0d0887\"],[0.1111111111111111,\"#46039f\"],[0.2222222222222222,\"#7201a8\"],[0.3333333333333333,\"#9c179e\"],[0.4444444444444444,\"#bd3786\"],[0.5555555555555556,\"#d8576b\"],[0.6666666666666666,\"#ed7953\"],[0.7777777777777778,\"#fb9f3a\"],[0.8888888888888888,\"#fdca26\"],[1.0,\"#f0f921\"]],\"type\":\"histogram2d\"}],\"histogram2dcontour\":[{\"colorbar\":{\"outlinewidth\":0,\"ticks\":\"\"},\"colorscale\":[[0.0,\"#0d0887\"],[0.1111111111111111,\"#46039f\"],[0.2222222222222222,\"#7201a8\"],[0.3333333333333333,\"#9c179e\"],[0.4444444444444444,\"#bd3786\"],[0.5555555555555556,\"#d8576b\"],[0.6666666666666666,\"#ed7953\"],[0.7777777777777778,\"#fb9f3a\"],[0.8888888888888888,\"#fdca26\"],[1.0,\"#f0f921\"]],\"type\":\"histogram2dcontour\"}],\"mesh3d\":[{\"colorbar\":{\"outlinewidth\":0,\"ticks\":\"\"},\"type\":\"mesh3d\"}],\"parcoords\":[{\"line\":{\"colorbar\":{\"outlinewidth\":0,\"ticks\":\"\"}},\"type\":\"parcoords\"}],\"pie\":[{\"automargin\":true,\"type\":\"pie\"}],\"scatter\":[{\"marker\":{\"colorbar\":{\"outlinewidth\":0,\"ticks\":\"\"}},\"type\":\"scatter\"}],\"scatter3d\":[{\"line\":{\"colorbar\":{\"outlinewidth\":0,\"ticks\":\"\"}},\"marker\":{\"colorbar\":{\"outlinewidth\":0,\"ticks\":\"\"}},\"type\":\"scatter3d\"}],\"scattercarpet\":[{\"marker\":{\"colorbar\":{\"outlinewidth\":0,\"ticks\":\"\"}},\"type\":\"scattercarpet\"}],\"scattergeo\":[{\"marker\":{\"colorbar\":{\"outlinewidth\":0,\"ticks\":\"\"}},\"type\":\"scattergeo\"}],\"scattergl\":[{\"marker\":{\"colorbar\":{\"outlinewidth\":0,\"ticks\":\"\"}},\"type\":\"scattergl\"}],\"scattermapbox\":[{\"marker\":{\"colorbar\":{\"outlinewidth\":0,\"ticks\":\"\"}},\"type\":\"scattermapbox\"}],\"scatterpolar\":[{\"marker\":{\"colorbar\":{\"outlinewidth\":0,\"ticks\":\"\"}},\"type\":\"scatterpolar\"}],\"scatterpolargl\":[{\"marker\":{\"colorbar\":{\"outlinewidth\":0,\"ticks\":\"\"}},\"type\":\"scatterpolargl\"}],\"scatterternary\":[{\"marker\":{\"colorbar\":{\"outlinewidth\":0,\"ticks\":\"\"}},\"type\":\"scatterternary\"}],\"surface\":[{\"colorbar\":{\"outlinewidth\":0,\"ticks\":\"\"},\"colorscale\":[[0.0,\"#0d0887\"],[0.1111111111111111,\"#46039f\"],[0.2222222222222222,\"#7201a8\"],[0.3333333333333333,\"#9c179e\"],[0.4444444444444444,\"#bd3786\"],[0.5555555555555556,\"#d8576b\"],[0.6666666666666666,\"#ed7953\"],[0.7777777777777778,\"#fb9f3a\"],[0.8888888888888888,\"#fdca26\"],[1.0,\"#f0f921\"]],\"type\":\"surface\"}],\"table\":[{\"cells\":{\"fill\":{\"color\":\"#EBF0F8\"},\"line\":{\"color\":\"white\"}},\"header\":{\"fill\":{\"color\":\"#C8D4E3\"},\"line\":{\"color\":\"white\"}},\"type\":\"table\"}]},\"layout\":{\"annotationdefaults\":{\"arrowcolor\":\"#2a3f5f\",\"arrowhead\":0,\"arrowwidth\":1},\"autotypenumbers\":\"strict\",\"coloraxis\":{\"colorbar\":{\"outlinewidth\":0,\"ticks\":\"\"}},\"colorscale\":{\"diverging\":[[0,\"#8e0152\"],[0.1,\"#c51b7d\"],[0.2,\"#de77ae\"],[0.3,\"#f1b6da\"],[0.4,\"#fde0ef\"],[0.5,\"#f7f7f7\"],[0.6,\"#e6f5d0\"],[0.7,\"#b8e186\"],[0.8,\"#7fbc41\"],[0.9,\"#4d9221\"],[1,\"#276419\"]],\"sequential\":[[0.0,\"#0d0887\"],[0.1111111111111111,\"#46039f\"],[0.2222222222222222,\"#7201a8\"],[0.3333333333333333,\"#9c179e\"],[0.4444444444444444,\"#bd3786\"],[0.5555555555555556,\"#d8576b\"],[0.6666666666666666,\"#ed7953\"],[0.7777777777777778,\"#fb9f3a\"],[0.8888888888888888,\"#fdca26\"],[1.0,\"#f0f921\"]],\"sequentialminus\":[[0.0,\"#0d0887\"],[0.1111111111111111,\"#46039f\"],[0.2222222222222222,\"#7201a8\"],[0.3333333333333333,\"#9c179e\"],[0.4444444444444444,\"#bd3786\"],[0.5555555555555556,\"#d8576b\"],[0.6666666666666666,\"#ed7953\"],[0.7777777777777778,\"#fb9f3a\"],[0.8888888888888888,\"#fdca26\"],[1.0,\"#f0f921\"]]},\"colorway\":[\"#636efa\",\"#EF553B\",\"#00cc96\",\"#ab63fa\",\"#FFA15A\",\"#19d3f3\",\"#FF6692\",\"#B6E880\",\"#FF97FF\",\"#FECB52\"],\"font\":{\"color\":\"#2a3f5f\"},\"geo\":{\"bgcolor\":\"white\",\"lakecolor\":\"white\",\"landcolor\":\"#E5ECF6\",\"showlakes\":true,\"showland\":true,\"subunitcolor\":\"white\"},\"hoverlabel\":{\"align\":\"left\"},\"hovermode\":\"closest\",\"mapbox\":{\"style\":\"light\"},\"paper_bgcolor\":\"white\",\"plot_bgcolor\":\"#E5ECF6\",\"polar\":{\"angularaxis\":{\"gridcolor\":\"white\",\"linecolor\":\"white\",\"ticks\":\"\"},\"bgcolor\":\"#E5ECF6\",\"radialaxis\":{\"gridcolor\":\"white\",\"linecolor\":\"white\",\"ticks\":\"\"}},\"scene\":{\"xaxis\":{\"backgroundcolor\":\"#E5ECF6\",\"gridcolor\":\"white\",\"gridwidth\":2,\"linecolor\":\"white\",\"showbackground\":true,\"ticks\":\"\",\"zerolinecolor\":\"white\"},\"yaxis\":{\"backgroundcolor\":\"#E5ECF6\",\"gridcolor\":\"white\",\"gridwidth\":2,\"linecolor\":\"white\",\"showbackground\":true,\"ticks\":\"\",\"zerolinecolor\":\"white\"},\"zaxis\":{\"backgroundcolor\":\"#E5ECF6\",\"gridcolor\":\"white\",\"gridwidth\":2,\"linecolor\":\"white\",\"showbackground\":true,\"ticks\":\"\",\"zerolinecolor\":\"white\"}},\"shapedefaults\":{\"line\":{\"color\":\"#2a3f5f\"}},\"ternary\":{\"aaxis\":{\"gridcolor\":\"white\",\"linecolor\":\"white\",\"ticks\":\"\"},\"baxis\":{\"gridcolor\":\"white\",\"linecolor\":\"white\",\"ticks\":\"\"},\"bgcolor\":\"#E5ECF6\",\"caxis\":{\"gridcolor\":\"white\",\"linecolor\":\"white\",\"ticks\":\"\"}},\"title\":{\"x\":0.05},\"xaxis\":{\"automargin\":true,\"gridcolor\":\"white\",\"linecolor\":\"white\",\"ticks\":\"\",\"title\":{\"standoff\":15},\"zerolinecolor\":\"white\",\"zerolinewidth\":2},\"yaxis\":{\"automargin\":true,\"gridcolor\":\"white\",\"linecolor\":\"white\",\"ticks\":\"\",\"title\":{\"standoff\":15},\"zerolinecolor\":\"white\",\"zerolinewidth\":2}}},\"xaxis\":{\"anchor\":\"y\",\"domain\":[0.0,1.0],\"title\":{\"text\":\"provincia_nombre\"}},\"yaxis\":{\"anchor\":\"x\",\"domain\":[0.0,1.0],\"title\":{\"text\":\"cantidad_casos\"}},\"legend\":{\"title\":{\"text\":\"evento_nombre\"},\"tracegroupgap\":0},\"margin\":{\"t\":60}},                        {\"responsive\": true}                    ).then(function(){\n",
              "                            \n",
              "var gd = document.getElementById('018532be-75b9-40f4-9f67-daf2d6466907');\n",
              "var x = new MutationObserver(function (mutations, observer) {{\n",
              "        var display = window.getComputedStyle(gd).display;\n",
              "        if (!display || display === 'none') {{\n",
              "            console.log([gd, 'removed!']);\n",
              "            Plotly.purge(gd);\n",
              "            observer.disconnect();\n",
              "        }}\n",
              "}});\n",
              "\n",
              "// Listen for the removal of the full notebook cells\n",
              "var notebookContainer = gd.closest('#notebook-container');\n",
              "if (notebookContainer) {{\n",
              "    x.observe(notebookContainer, {childList: true});\n",
              "}}\n",
              "\n",
              "// Listen for the clearing of the current output cell\n",
              "var outputEl = gd.closest('.output');\n",
              "if (outputEl) {{\n",
              "    x.observe(outputEl, {childList: true});\n",
              "}}\n",
              "\n",
              "                        })                };                            </script>        </div>\n",
              "</body>\n",
              "</html>"
            ]
          },
          "metadata": {}
        }
      ]
    },
    {
      "cell_type": "code",
      "source": [
        "\n",
        "fig = px.histogram(df, x=\"provincia_nombre\", y=\"cantidad_casos\", color=\"evento_nombre\", marginal=\"rug\", hover_data=df.columns)\n",
        "fig.show()\n"
      ],
      "metadata": {
        "colab": {
          "base_uri": "https://localhost:8080/",
          "height": 542
        },
        "id": "i1BC2ponsHMz",
        "outputId": "cea22d4c-081a-433a-ae84-516ccc40450d"
      },
      "execution_count": 19,
      "outputs": [
        {
          "output_type": "display_data",
          "data": {
            "text/html": [
              "<html>\n",
              "<head><meta charset=\"utf-8\" /></head>\n",
              "<body>\n",
              "    <div>            <script src=\"https://cdnjs.cloudflare.com/ajax/libs/mathjax/2.7.5/MathJax.js?config=TeX-AMS-MML_SVG\"></script><script type=\"text/javascript\">if (window.MathJax) {MathJax.Hub.Config({SVG: {font: \"STIX-Web\"}});}</script>                <script type=\"text/javascript\">window.PlotlyConfig = {MathJaxConfig: 'local'};</script>\n",
              "        <script src=\"https://cdn.plot.ly/plotly-2.8.3.min.js\"></script>                <div id=\"103e4fa0-8ba8-4e74-91d0-0ded168c3337\" class=\"plotly-graph-div\" style=\"height:525px; width:100%;\"></div>            <script type=\"text/javascript\">                                    window.PLOTLYENV=window.PLOTLYENV || {};                                    if (document.getElementById(\"103e4fa0-8ba8-4e74-91d0-0ded168c3337\")) {                    Plotly.newPlot(                        \"103e4fa0-8ba8-4e74-91d0-0ded168c3337\",                        [{\"alignmentgroup\":\"True\",\"bingroup\":\"x\",\"histfunc\":\"sum\",\"hovertemplate\":\"evento_nombre=Dengue<br>provincia_nombre=%{x}<br>sum of cantidad_casos=%{y}<extra></extra>\",\"legendgroup\":\"Dengue\",\"marker\":{\"color\":\"#636efa\",\"pattern\":{\"shape\":\"\"}},\"name\":\"Dengue\",\"offsetgroup\":\"Dengue\",\"orientation\":\"v\",\"showlegend\":true,\"x\":[\"CABA\",\"CABA\",\"Buenos Aires\",\"Buenos Aires\",\"Buenos Aires\",\"Buenos Aires\",\"Buenos Aires\",\"Buenos Aires\",\"Buenos Aires\",\"Mendoza\",\"Santa Fe\",\"Santa Fe\",\"CABA\",\"CABA\",\"CABA\",\"CABA\",\"CABA\",\"CABA\",\"CABA\",\"CABA\",\"CABA\",\"CABA\",\"CABA\",\"CABA\",\"CABA\",\"CABA\",\"CABA\",\"CABA\",\"CABA\",\"CABA\",\"CABA\",\"CABA\",\"CABA\",\"CABA\",\"CABA\",\"CABA\",\"CABA\",\"CABA\",\"CABA\",\"CABA\",\"CABA\",\"CABA\",\"CABA\",\"CABA\",\"CABA\",\"CABA\",\"CABA\",\"CABA\",\"CABA\",\"CABA\",\"CABA\",\"CABA\",\"CABA\",\"CABA\",\"CABA\",\"CABA\",\"CABA\",\"CABA\",\"CABA\",\"CABA\",\"CABA\",\"CABA\",\"CABA\",\"CABA\",\"CABA\",\"CABA\",\"CABA\",\"CABA\",\"CABA\",\"CABA\",\"CABA\",\"CABA\",\"CABA\",\"CABA\",\"CABA\",\"CABA\",\"CABA\",\"CABA\",\"CABA\",\"CABA\",\"CABA\",\"CABA\",\"CABA\",\"CABA\",\"CABA\",\"CABA\",\"CABA\",\"CABA\",\"CABA\",\"CABA\",\"CABA\",\"CABA\",\"CABA\",\"CABA\",\"CABA\",\"CABA\",\"CABA\",\"CABA\",\"CABA\",\"CABA\",\"CABA\",\"CABA\",\"CABA\",\"CABA\",\"CABA\",\"CABA\",\"CABA\",\"Buenos Aires\",\"Buenos Aires\",\"Buenos Aires\",\"Buenos Aires\",\"Buenos Aires\",\"Buenos Aires\",\"Buenos Aires\",\"Buenos Aires\",\"Buenos Aires\",\"Buenos Aires\",\"Buenos Aires\",\"Buenos Aires\",\"Buenos Aires\",\"Buenos Aires\",\"Buenos Aires\",\"Buenos Aires\",\"Buenos Aires\",\"Buenos Aires\",\"Buenos Aires\",\"Buenos Aires\",\"Buenos Aires\",\"Buenos Aires\",\"Buenos Aires\",\"Buenos Aires\",\"Buenos Aires\",\"Buenos Aires\",\"Buenos Aires\",\"Buenos Aires\",\"Buenos Aires\",\"Buenos Aires\",\"Buenos Aires\",\"Buenos Aires\",\"Buenos Aires\",\"Buenos Aires\",\"Buenos Aires\",\"Buenos Aires\",\"Buenos Aires\",\"Buenos Aires\",\"Buenos Aires\",\"Buenos Aires\",\"Buenos Aires\",\"Buenos Aires\",\"CABA\",\"Buenos Aires\",\"DESCONOCIDA\",\"DESCONOCIDA\",\"Corrientes\",\"Buenos Aires\",\"Buenos Aires\",\"Buenos Aires\",\"Buenos Aires\",\"Buenos Aires\",\"Buenos Aires\",\"Buenos Aires\",\"Buenos Aires\",\"Buenos Aires\",\"Buenos Aires\",\"Buenos Aires\",\"Buenos Aires\",\"Buenos Aires\",\"Buenos Aires\",\"Buenos Aires\",\"Buenos Aires\",\"Buenos Aires\",\"Buenos Aires\",\"Buenos Aires\",\"Buenos Aires\",\"Buenos Aires\",\"Buenos Aires\",\"Buenos Aires\",\"Buenos Aires\",\"Buenos Aires\",\"Buenos Aires\",\"Buenos Aires\",\"Buenos Aires\",\"Buenos Aires\",\"Buenos Aires\",\"Buenos Aires\",\"Buenos Aires\",\"Buenos Aires\",\"Buenos Aires\",\"Buenos Aires\",\"Buenos Aires\",\"Buenos Aires\",\"Buenos Aires\",\"Buenos Aires\",\"Buenos Aires\",\"Buenos Aires\",\"Buenos Aires\",\"Buenos Aires\",\"Buenos Aires\",\"Buenos Aires\",\"Buenos Aires\",\"Buenos Aires\",\"Buenos Aires\",\"Buenos Aires\",\"Buenos Aires\",\"Buenos Aires\",\"Buenos Aires\",\"Buenos Aires\",\"Buenos Aires\",\"Buenos Aires\",\"Buenos Aires\",\"Buenos Aires\",\"Buenos Aires\",\"Buenos Aires\",\"Buenos Aires\",\"Buenos Aires\",\"Chaco\",\"Chaco\",\"Chaco\",\"Chaco\",\"Chaco\",\"Chaco\",\"Chaco\",\"Chaco\",\"Chaco\",\"Chaco\",\"Chaco\",\"Chaco\",\"Chaco\",\"Chaco\",\"Chaco\",\"Chaco\",\"Buenos Aires\",\"Buenos Aires\",\"Buenos Aires\",\"Buenos Aires\",\"Buenos Aires\",\"Buenos Aires\",\"Buenos Aires\",\"Buenos Aires\",\"Buenos Aires\",\"Buenos Aires\",\"Buenos Aires\",\"Buenos Aires\",\"Buenos Aires\",\"Buenos Aires\",\"Buenos Aires\",\"Buenos Aires\",\"Buenos Aires\",\"Buenos Aires\",\"Buenos Aires\",\"Buenos Aires\",\"Buenos Aires\",\"Buenos Aires\",\"Buenos Aires\",\"Buenos Aires\",\"Buenos Aires\",\"Buenos Aires\",\"Buenos Aires\",\"Buenos Aires\",\"Buenos Aires\",\"Buenos Aires\",\"Buenos Aires\",\"Buenos Aires\",\"C\\u00f3rdoba\",\"Corrientes\",\"Corrientes\",\"Corrientes\",\"Corrientes\",\"Corrientes\",\"Corrientes\",\"Corrientes\",\"Corrientes\",\"Corrientes\",\"Corrientes\",\"Corrientes\",\"Corrientes\",\"Corrientes\",\"Corrientes\",\"Corrientes\",\"Corrientes\",\"Corrientes\",\"Corrientes\",\"Corrientes\",\"Corrientes\",\"Corrientes\",\"Corrientes\",\"Corrientes\",\"Corrientes\",\"Corrientes\",\"Corrientes\",\"Corrientes\",\"Corrientes\",\"Corrientes\",\"Corrientes\",\"Corrientes\",\"Corrientes\",\"Corrientes\",\"Corrientes\",\"Corrientes\",\"Corrientes\",\"Corrientes\",\"Corrientes\",\"Corrientes\",\"Corrientes\",\"Corrientes\",\"Corrientes\",\"Corrientes\",\"Corrientes\",\"Corrientes\",\"Corrientes\",\"Corrientes\",\"Corrientes\",\"Corrientes\",\"Corrientes\",\"Corrientes\",\"Corrientes\",\"Corrientes\",\"Corrientes\",\"Corrientes\",\"Corrientes\",\"Corrientes\",\"Corrientes\",\"Corrientes\",\"Corrientes\",\"Corrientes\",\"Corrientes\",\"Corrientes\",\"Corrientes\",\"Corrientes\",\"Corrientes\",\"Buenos Aires\",\"Corrientes\",\"Corrientes\",\"Chaco\",\"Chaco\",\"Chaco\",\"Chaco\",\"Chaco\",\"Chaco\",\"Chaco\",\"Chaco\",\"Chaco\",\"Chaco\",\"Chaco\",\"Chaco\",\"Chaco\",\"Chaco\",\"Chaco\",\"Chaco\",\"Chaco\",\"Chaco\",\"Chaco\",\"Chaco\",\"Chaco\",\"Chaco\",\"Chaco\",\"Chaco\",\"Chaco\",\"Chaco\",\"Chaco\",\"Chaco\",\"Chaco\",\"Chaco\",\"Chaco\",\"Chaco\",\"Chaco\",\"Chaco\",\"Chaco\",\"Chaco\",\"Chaco\",\"Chaco\",\"Chaco\",\"Chaco\",\"Chaco\",\"Chaco\",\"Chaco\",\"Chaco\",\"Chaco\",\"Chaco\",\"Chaco\",\"Chaco\",\"Chaco\",\"Chaco\",\"Chaco\",\"Chaco\",\"Chaco\",\"Chaco\",\"Chaco\",\"Chaco\",\"Chaco\",\"Chaco\",\"Chaco\",\"Chaco\",\"Chaco\",\"Chaco\",\"Chaco\",\"Chaco\",\"Chaco\",\"Chaco\",\"Chaco\",\"Chaco\",\"Chaco\",\"Chaco\",\"Chaco\",\"Chaco\",\"Chaco\",\"Chaco\",\"Chaco\",\"Chaco\",\"Chaco\",\"Chaco\",\"Chaco\",\"Chaco\",\"Chaco\",\"Chaco\",\"Chaco\",\"Chaco\",\"Chaco\",\"Chaco\",\"Chaco\",\"Chaco\",\"Chaco\",\"Chaco\",\"Chaco\",\"Chaco\",\"Chaco\",\"Chaco\",\"Chaco\",\"Chaco\",\"Chaco\",\"Chaco\",\"Chaco\",\"Chaco\",\"Chaco\",\"Chaco\",\"Chaco\",\"Chaco\",\"Chaco\",\"Chaco\",\"Chaco\",\"Chaco\",\"Chaco\",\"Chaco\",\"Chaco\",\"Chaco\",\"Chaco\",\"Chaco\",\"Chaco\",\"Chaco\",\"Chaco\",\"Chaco\",\"Chaco\",\"Chaco\",\"Chaco\",\"Chaco\",\"Chaco\",\"Chaco\",\"Chaco\",\"Chaco\",\"Chaco\",\"Chaco\",\"Chaco\",\"Chaco\",\"Chaco\",\"Chaco\",\"Chaco\",\"Chaco\",\"Chaco\",\"Chaco\",\"Chaco\",\"Chaco\",\"Chaco\",\"Chaco\",\"Chaco\",\"Chaco\",\"Chaco\",\"Chaco\",\"Chaco\",\"Chaco\",\"Chaco\",\"Chaco\",\"Chaco\",\"Chaco\",\"Chaco\",\"Chaco\",\"Chaco\",\"Chaco\",\"Chaco\",\"Chaco\",\"Chaco\",\"Chaco\",\"Chaco\",\"Chaco\",\"Chaco\",\"Chaco\",\"Chaco\",\"Chaco\",\"Chaco\",\"Chaco\",\"Chaco\",\"Chaco\",\"Chaco\",\"Chaco\",\"Chaco\",\"Chaco\",\"Chaco\",\"Chaco\",\"Chaco\",\"Chaco\",\"Chaco\",\"Chaco\",\"Chaco\",\"Chaco\",\"Chaco\",\"Chaco\",\"Chaco\",\"Chaco\",\"Chaco\",\"Chaco\",\"Chaco\",\"Chaco\",\"Chaco\",\"Entre R\\u00edos\",\"Entre R\\u00edos\",\"Entre R\\u00edos\",\"Entre R\\u00edos\",\"Entre R\\u00edos\",\"Entre R\\u00edos\",\"Formosa\",\"Formosa\",\"Formosa\",\"Formosa\",\"Formosa\",\"Formosa\",\"Formosa\",\"Formosa\",\"Formosa\",\"Formosa\",\"Formosa\",\"Formosa\",\"Formosa\",\"Formosa\",\"Formosa\",\"Formosa\",\"Formosa\",\"Formosa\",\"Formosa\",\"Formosa\",\"Formosa\",\"Formosa\",\"Chaco\",\"Chaco\",\"Chaco\",\"Chaco\",\"Chaco\",\"Chaco\",\"Chaco\",\"Chaco\",\"Chaco\",\"Chaco\",\"Chaco\",\"Chaco\",\"Chaco\",\"Chaco\",\"Chaco\",\"Chaco\",\"Chaco\",\"Chaco\",\"Chaco\",\"Chaco\",\"Chaco\",\"Chaco\",\"Chaco\",\"Chaco\",\"Chaco\",\"Chaco\",\"Chaco\",\"Chaco\",\"Chaco\",\"Chaco\",\"Chaco\",\"Chaco\",\"Chaco\",\"Chaco\",\"Chaco\",\"Chaco\",\"Chaco\",\"Chaco\",\"Chaco\",\"Chaco\",\"Chaco\",\"Chaco\",\"Chaco\",\"Chaco\",\"Misiones\",\"Misiones\",\"Misiones\",\"Misiones\",\"Misiones\",\"Misiones\",\"Misiones\",\"Misiones\",\"Misiones\",\"Misiones\",\"Misiones\",\"Misiones\",\"Misiones\",\"Misiones\",\"Misiones\",\"Misiones\",\"Misiones\",\"Misiones\",\"Misiones\",\"Misiones\",\"Misiones\",\"Misiones\",\"Misiones\",\"Misiones\",\"Misiones\",\"Misiones\",\"Misiones\",\"Misiones\",\"Misiones\",\"Corrientes\",\"Misiones\",\"Misiones\",\"Misiones\",\"Misiones\",\"Misiones\",\"Misiones\",\"Misiones\",\"Misiones\",\"Misiones\",\"Misiones\",\"Misiones\",\"Misiones\",\"Misiones\",\"Misiones\",\"Misiones\",\"Misiones\",\"Misiones\",\"Misiones\",\"Misiones\",\"Misiones\",\"Misiones\",\"Misiones\",\"Misiones\",\"Misiones\",\"Misiones\",\"Misiones\",\"Misiones\",\"Misiones\",\"Misiones\",\"Misiones\",\"Misiones\",\"Misiones\",\"Misiones\",\"Misiones\",\"Misiones\",\"Misiones\",\"Misiones\",\"Misiones\",\"Misiones\",\"Misiones\",\"Misiones\",\"Misiones\",\"Misiones\",\"Misiones\",\"Misiones\",\"Misiones\",\"Misiones\",\"Misiones\",\"Misiones\",\"Misiones\",\"Misiones\",\"Misiones\",\"Misiones\",\"Misiones\",\"Misiones\",\"Misiones\",\"Misiones\",\"Misiones\",\"Misiones\",\"Misiones\",\"Misiones\",\"Misiones\",\"Misiones\",\"Misiones\",\"Misiones\",\"Misiones\",\"Misiones\",\"Misiones\",\"Misiones\",\"Misiones\",\"Misiones\",\"Misiones\",\"Misiones\",\"Misiones\",\"C\\u00f3rdoba\",\"Salta\",\"Salta\",\"Chaco\",\"Chaco\",\"Chaco\",\"Chaco\",\"Salta\",\"Salta\",\"Salta\",\"Salta\",\"Salta\",\"Salta\",\"Salta\",\"Salta\",\"Salta\",\"Salta\",\"Salta\",\"Salta\",\"Salta\",\"Salta\",\"Salta\",\"Salta\",\"Salta\",\"Salta\",\"Salta\",\"Salta\",\"Salta\",\"Salta\",\"Salta\",\"Salta\",\"Salta\",\"Salta\",\"Salta\",\"Salta\",\"Salta\",\"Salta\",\"Salta\",\"Salta\",\"Salta\",\"Salta\",\"Salta\",\"Salta\",\"Salta\",\"Salta\",\"Salta\",\"Chaco\",\"Chaco\",\"Chaco\",\"Chaco\",\"Chaco\",\"Chaco\",\"Chaco\",\"Chaco\",\"Chaco\",\"Chaco\",\"Chaco\",\"Chaco\",\"Chaco\",\"Chaco\",\"Chaco\",\"Chaco\",\"Chaco\",\"Chaco\",\"Chaco\",\"Chaco\",\"Chaco\",\"Chaco\",\"Chaco\",\"Chaco\",\"Chaco\",\"Chaco\",\"Chaco\",\"Chaco\",\"Chaco\",\"Chaco\",\"Chaco\",\"Chaco\",\"Chaco\",\"Chaco\",\"Chaco\",\"Chaco\",\"Chaco\",\"Chaco\",\"Chaco\",\"Chaco\",\"Chaco\",\"Chaco\",\"Chaco\",\"Chaco\",\"Chaco\",\"Chaco\",\"Chaco\",\"Chaco\",\"Chaco\",\"Chaco\",\"Chaco\",\"Chaco\",\"Chaco\",\"Chaco\",\"Chaco\",\"Chaco\",\"Chaco\",\"Chaco\",\"Chaco\",\"Chaco\",\"Chaco\",\"Chaco\",\"Chaco\",\"Chaco\",\"Chaco\",\"Chaco\",\"Chaco\",\"Chaco\",\"Santa Fe\",\"Santa Fe\",\"Santa Fe\",\"Santa Fe\",\"Santa Fe\",\"Santa Fe\",\"Santa Fe\",\"Santa Fe\",\"Santa Fe\",\"Chaco\",\"Santiago del Estero\",\"Santiago del Estero\",\"Santiago del Estero\",\"Santiago del Estero\",\"Santiago del Estero\",\"Santiago del Estero\",\"Santiago del Estero\",\"Santiago del Estero\",\"Santiago del Estero\",\"Santiago del Estero\",\"Santiago del Estero\",\"Santiago del Estero\",\"Santiago del Estero\",\"Santiago del Estero\",\"Santiago del Estero\",\"Santiago del Estero\",\"Santiago del Estero\",\"Santiago del Estero\",\"Santiago del Estero\",\"Santiago del Estero\",\"Santiago del Estero\",\"Santiago del Estero\",\"Santiago del Estero\",\"Santiago del Estero\",\"Santiago del Estero\",\"Santiago del Estero\",\"Santiago del Estero\",\"Santiago del Estero\",\"Santiago del Estero\",\"Santiago del Estero\",\"Santiago del Estero\",\"Santiago del Estero\",\"Santiago del Estero\",\"Santiago del Estero\",\"Santiago del Estero\",\"Santiago del Estero\",\"Santiago del Estero\",\"Santiago del Estero\",\"Santiago del Estero\",\"Santiago del Estero\",\"Santiago del Estero\",\"Santiago del Estero\",\"Santiago del Estero\",\"Santiago del Estero\",\"Santiago del Estero\",\"Santiago del Estero\",\"Santiago del Estero\",\"Santiago del Estero\",\"Santiago del Estero\",\"Santiago del Estero\",\"CABA\",\"Santiago del Estero\",\"Santiago del Estero\",\"Santiago del Estero\",\"Tucum\\u00e1n\",\"C\\u00f3rdoba\",\"C\\u00f3rdoba\",\"C\\u00f3rdoba\",\"C\\u00f3rdoba\",\"C\\u00f3rdoba\",\"C\\u00f3rdoba\",\"C\\u00f3rdoba\",\"C\\u00f3rdoba\",\"C\\u00f3rdoba\",\"C\\u00f3rdoba\",\"Tucum\\u00e1n\"],\"xaxis\":\"x\",\"y\":[1,1,1,2,1,1,1,1,1,1,1,1,1,1,1,1,1,1,1,2,1,2,2,2,1,1,1,3,1,1,1,1,1,1,1,1,1,1,1,2,1,4,1,1,1,3,1,1,2,1,1,1,1,3,1,2,1,2,1,1,1,2,2,3,1,5,3,2,4,2,1,1,2,2,1,1,1,1,1,1,1,1,1,1,1,1,1,1,1,1,1,1,1,1,1,1,1,1,1,1,1,1,1,1,1,1,1,1,1,1,1,1,1,1,1,1,1,2,1,1,1,1,2,2,2,1,1,2,1,3,1,2,2,3,1,1,2,1,2,1,3,1,2,1,3,2,1,1,1,1,1,1,1,1,1,1,1,1,1,1,1,1,1,1,1,1,1,1,1,1,1,1,1,2,2,2,1,1,1,1,1,1,4,2,3,3,2,2,1,1,1,1,1,1,1,1,1,1,1,1,1,1,1,2,1,1,1,1,1,2,1,1,1,1,1,1,1,1,1,1,1,2,3,1,1,1,2,2,1,1,1,1,1,3,1,1,1,1,1,2,1,1,1,1,2,1,1,3,1,2,1,1,1,1,1,1,1,2,1,1,1,1,1,1,1,1,1,1,1,1,2,1,1,3,3,7,3,3,1,1,3,3,2,1,1,1,2,1,3,1,1,1,1,2,1,2,1,1,1,4,1,1,1,1,1,1,1,2,1,1,1,3,1,6,6,5,2,2,3,1,5,2,1,1,3,1,1,1,1,1,1,1,1,1,2,1,1,1,1,1,1,1,1,1,1,1,1,1,1,4,1,1,1,1,1,1,1,1,1,1,1,1,1,1,1,2,1,1,2,1,1,1,1,1,1,2,1,1,2,4,1,3,7,2,6,3,8,4,2,1,3,1,3,3,4,7,5,3,10,1,6,1,3,1,5,2,8,10,8,6,1,1,2,4,9,9,8,11,10,2,4,2,3,4,5,5,5,6,3,1,7,1,1,3,1,1,1,2,1,1,1,1,1,1,1,1,1,2,1,1,1,1,1,2,1,3,2,1,1,1,1,1,1,2,1,1,1,1,1,1,1,2,1,1,1,1,1,1,3,2,2,4,4,4,1,1,1,1,1,1,1,1,1,1,1,1,1,3,1,2,1,3,1,1,1,2,1,1,2,2,1,1,2,1,1,1,1,1,2,1,1,1,1,1,1,1,1,1,3,1,1,1,1,1,1,1,1,1,1,1,1,1,1,1,1,1,1,1,1,1,1,1,1,2,2,2,1,3,1,5,6,4,6,6,1,2,2,9,8,2,8,12,6,2,1,1,2,4,1,5,1,2,2,1,1,1,1,1,2,2,4,1,1,1,1,1,1,1,1,1,1,1,1,1,1,1,2,1,5,3,2,2,1,1,1,1,1,1,2,1,1,1,2,1,1,1,1,2,1,1,1,1,1,1,1,1,1,1,2,1,1,1,2,2,1,2,1,1,3,1,1,1,1,1,1,2,1,2,1,2,4,3,3,2,2,2,1,2,1,3,1,3,2,3,4,1,3,5,1,2,1,2,3,2,1,1,1,2,1,1,1,2,1,1,1,1,1,1,1,1,1,1,1,1,1,1,1,1,1,1,1,2,2,4,2,1,1,1,2,1,1,1,1,1,1,2,2,3,1,1,1,1,2,2,3,1,1,2,2,1,1,1,1,1,4,1,1,1,3,1,6,1,1,1,4,1,2,2,1,1,3,2,2,3,2,1,1,1,1,4,5,2,2,4,2,3,1,1,1,3,5,1,5,4,8,2,5,10,5,9,3,5,1,4,1,2,3,1,3,3,1,3,1,1,2,2,2,2,1,2,1,1,1,1,1,1,1,1,1,1,1,1,1,1,1,1,1,1,1,1,1,1,1,1,3,1,1,1,2,10,7,2,8,1,1,1,1,4,4,6,2,5,2,3,3,2,1,2,5,6,1,1,2,1,1,1,2,2,1,1,1,3,1,1,1,1,1,1,2,1,1,1,1,1,1,1,1,1],\"yaxis\":\"y\",\"type\":\"histogram\"},{\"alignmentgroup\":\"True\",\"boxpoints\":\"all\",\"customdata\":[[2003,\"COMUNA 3\",2,2018,15,\"Dengue\",6,\"de 10 a 14 anos\"],[2004,\"COMUNA 4\",2,2018,6,\"Dengue\",6,\"de 10 a 14 anos\"],[6091,\"Berazategui\",6,2018,11,\"Dengue\",7,\"de 15 a 24 anos\"],[6091,\"Berazategui\",6,2018,14,\"Dengue\",9,\"de 25 a 34 anos\"],[6091,\"Berazategui\",6,2018,19,\"Dengue\",11,\"de 45 a 65 anos\"],[6091,\"Berazategui\",6,2018,21,\"Dengue\",9,\"de 25 a 34 anos\"],[6427,\"La Matanza\",6,2018,12,\"Dengue\",6,\"de 10 a 14 anos\"],[6427,\"La Matanza\",6,2018,16,\"Dengue\",6,\"de 10 a 14 anos\"],[6441,\"La Plata\",6,2018,14,\"Dengue\",11,\"de 45 a 65 anos\"],[50028,\"Guaymall\\u00e9n\",50,2018,23,\"Dengue\",10,\"de 35 a 44 anos\"],[82077,\"9 de Julio\",82,2018,20,\"Dengue\",6,\"de 10 a 14 anos\"],[82077,\"9 de Julio\",82,2018,23,\"Dengue\",9,\"de 25 a 34 anos\"],[2001,\"COMUNA 1\",2,2018,16,\"Dengue\",11,\"de 45 a 64 anos\"],[2001,\"COMUNA 1\",2,2018,17,\"Dengue\",9,\"de 25 a 34 anos\"],[2001,\"COMUNA 1\",2,2018,18,\"Dengue\",10,\"de 35 a 44 anos\"],[2002,\"COMUNA 2\",2,2018,10,\"Dengue\",10,\"de 35 a 44 anos\"],[2002,\"COMUNA 2\",2,2018,18,\"Dengue\",8,\"de 20 a 24 anos\"],[2003,\"COMUNA 3\",2,2018,8,\"Dengue\",10,\"de 35 a 44 anos\"],[2003,\"COMUNA 3\",2,2018,9,\"Dengue\",9,\"de 25 a 34 anos\"],[2003,\"COMUNA 3\",2,2018,9,\"Dengue\",11,\"de 45 a 64 anos\"],[2003,\"COMUNA 3\",2,2018,10,\"Dengue\",7,\"de 15 a 24 anos\"],[2003,\"COMUNA 3\",2,2018,11,\"Dengue\",11,\"de 45 a 64 anos\"],[2003,\"COMUNA 3\",2,2018,12,\"Dengue\",10,\"de 35 a 44 anos\"],[2003,\"COMUNA 3\",2,2018,12,\"Dengue\",11,\"de 45 a 64 anos\"],[2003,\"COMUNA 3\",2,2018,13,\"Dengue\",11,\"de 45 a 64 anos\"],[2003,\"COMUNA 3\",2,2018,14,\"Dengue\",7,\"de 15 a 24 anos\"],[2003,\"COMUNA 3\",2,2018,15,\"Dengue\",11,\"de 45 a 65 anos\"],[2003,\"COMUNA 3\",2,2018,16,\"Dengue\",5,\"de 5 a 9 anos\"],[2003,\"COMUNA 3\",2,2018,17,\"Dengue\",8,\"de 20 a 24 anos\"],[2003,\"COMUNA 3\",2,2018,18,\"Dengue\",11,\"de 45 a 65 anos\"],[2004,\"COMUNA 4\",2,2018,6,\"Dengue\",5,\"de 5 a 9 anos\"],[2004,\"COMUNA 4\",2,2018,8,\"Dengue\",9,\"de 25 a 34 anos\"],[2004,\"COMUNA 4\",2,2018,8,\"Dengue\",10,\"de 35 a 44 anos\"],[2004,\"COMUNA 4\",2,2018,9,\"Dengue\",11,\"de 45 a 64 anos\"],[2004,\"COMUNA 4\",2,2018,10,\"Dengue\",7,\"de 15 a 24 anos\"],[2004,\"COMUNA 4\",2,2018,10,\"Dengue\",9,\"de 25 a 34 anos\"],[2004,\"COMUNA 4\",2,2018,10,\"Dengue\",10,\"de 35 a 44 anos\"],[2004,\"COMUNA 4\",2,2018,11,\"Dengue\",7,\"de 15 a 24 anos\"],[2004,\"COMUNA 4\",2,2018,12,\"Dengue\",7,\"de 15 a 24 anos\"],[2004,\"COMUNA 4\",2,2018,12,\"Dengue\",9,\"de 25 a 34 anos\"],[2004,\"COMUNA 4\",2,2018,12,\"Dengue\",10,\"de 35 a 44 anos\"],[2004,\"COMUNA 4\",2,2018,13,\"Dengue\",7,\"de 15 a 24 anos\"],[2004,\"COMUNA 4\",2,2018,13,\"Dengue\",11,\"de 45 a 64 anos\"],[2004,\"COMUNA 4\",2,2018,14,\"Dengue\",6,\"de 10 a 14 anos\"],[2004,\"COMUNA 4\",2,2018,14,\"Dengue\",7,\"de 15 a 24 anos\"],[2004,\"COMUNA 4\",2,2018,14,\"Dengue\",10,\"de 35 a 44 anos\"],[2004,\"COMUNA 4\",2,2018,14,\"Dengue\",11,\"de 45 a 64 anos\"],[2004,\"COMUNA 4\",2,2018,15,\"Dengue\",7,\"de 15 a 19 anos\"],[2004,\"COMUNA 4\",2,2018,15,\"Dengue\",7,\"de 15 a 24 anos\"],[2004,\"COMUNA 4\",2,2018,15,\"Dengue\",10,\"de 35 a 44 anos\"],[2004,\"COMUNA 4\",2,2018,15,\"Dengue\",11,\"de 45 a 64 anos\"],[2004,\"COMUNA 4\",2,2018,15,\"Dengue\",11,\"de 45 a 65 anos\"],[2004,\"COMUNA 4\",2,2018,16,\"Dengue\",2,\"igual a 1 ano\"],[2004,\"COMUNA 4\",2,2018,16,\"Dengue\",5,\"de 5 a 9 anos\"],[2004,\"COMUNA 4\",2,2018,16,\"Dengue\",6,\"de 10 a 14 anos\"],[2004,\"COMUNA 4\",2,2018,16,\"Dengue\",7,\"de 15 a 24 anos\"],[2004,\"COMUNA 4\",2,2018,16,\"Dengue\",8,\"de 20 a 24 anos\"],[2004,\"COMUNA 4\",2,2018,16,\"Dengue\",10,\"de 35 a 44 anos\"],[2004,\"COMUNA 4\",2,2018,16,\"Dengue\",11,\"de 45 a 64 anos\"],[2004,\"COMUNA 4\",2,2018,16,\"Dengue\",12,\"mayor de  65 anos\"],[2004,\"COMUNA 4\",2,2018,17,\"Dengue\",5,\"de 5 a 9 anos\"],[2004,\"COMUNA 4\",2,2018,17,\"Dengue\",6,\"de 10 a 14 anos\"],[2004,\"COMUNA 4\",2,2018,17,\"Dengue\",8,\"de 20 a 24 anos\"],[2004,\"COMUNA 4\",2,2018,17,\"Dengue\",9,\"de 25 a 34 anos\"],[2004,\"COMUNA 4\",2,2018,17,\"Dengue\",11,\"de 45 a 65 anos\"],[2004,\"COMUNA 4\",2,2018,18,\"Dengue\",6,\"de 10 a 14 anos\"],[2004,\"COMUNA 4\",2,2018,18,\"Dengue\",8,\"de 20 a 24 anos\"],[2004,\"COMUNA 4\",2,2018,18,\"Dengue\",9,\"de 25 a 34 anos\"],[2004,\"COMUNA 4\",2,2018,18,\"Dengue\",10,\"de 35 a 44 anos\"],[2004,\"COMUNA 4\",2,2018,18,\"Dengue\",11,\"de 45 a 65 anos\"],[2004,\"COMUNA 4\",2,2018,19,\"Dengue\",5,\"de 5 a 9 anos\"],[2004,\"COMUNA 4\",2,2018,19,\"Dengue\",8,\"de 20 a 24 anos\"],[2004,\"COMUNA 4\",2,2018,19,\"Dengue\",10,\"de 35 a 44 anos\"],[2004,\"COMUNA 4\",2,2018,21,\"Dengue\",11,\"de 45 a 65 anos\"],[2004,\"COMUNA 4\",2,2018,24,\"Dengue\",6,\"de 10 a 14 anos\"],[2005,\"COMUNA 5\",2,2018,11,\"Dengue\",10,\"de 35 a 44 anos\"],[2005,\"COMUNA 5\",2,2018,23,\"Dengue\",8,\"de 20 a 24 anos\"],[2006,\"COMUNA 6\",2,2018,13,\"Dengue\",11,\"de 45 a 64 anos\"],[2006,\"COMUNA 6\",2,2018,19,\"Dengue\",10,\"de 35 a 44 anos\"],[2007,\"COMUNA 7\",2,2018,17,\"Dengue\",9,\"de 25 a 34 anos\"],[2007,\"COMUNA 7\",2,2018,18,\"Dengue\",9,\"de 25 a 34 anos\"],[2007,\"COMUNA 7\",2,2018,18,\"Dengue\",10,\"de 35 a 44 anos\"],[2008,\"COMUNA 8\",2,2018,12,\"Dengue\",1,\"menor que 1 ano\"],[2008,\"COMUNA 8\",2,2018,15,\"Dengue\",10,\"de 35 a 44 anos\"],[2008,\"COMUNA 8\",2,2018,18,\"Dengue\",6,\"de 10 a 14 anos\"],[2008,\"COMUNA 8\",2,2018,18,\"Dengue\",10,\"de 35 a 44 anos\"],[2008,\"COMUNA 8\",2,2018,18,\"Dengue\",11,\"de 45 a 65 anos\"],[2008,\"COMUNA 8\",2,2018,18,\"Dengue\",12,\"mayores de 65 anos\"],[2008,\"COMUNA 8\",2,2018,19,\"Dengue\",4,\"de 2 a 4 anos\"],[2009,\"COMUNA 9\",2,2018,5,\"Dengue\",7,\"de 15 a 19 anos\"],[2009,\"COMUNA 9\",2,2018,18,\"Dengue\",10,\"de 35 a 44 anos\"],[2009,\"COMUNA 9\",2,2018,18,\"Dengue\",11,\"de 45 a 65 anos\"],[2010,\"COMUNA 10\",2,2018,16,\"Dengue\",4,\"de 2 a 4 anos\"],[2010,\"COMUNA 10\",2,2018,18,\"Dengue\",5,\"de 5 a 9 anos\"],[2010,\"COMUNA 10\",2,2018,18,\"Dengue\",6,\"de 10 a 14 anos\"],[2012,\"COMUNA 12\",2,2018,11,\"Dengue\",7,\"de 15 a 24 anos\"],[2012,\"COMUNA 12\",2,2018,11,\"Dengue\",11,\"de 45 a 64 anos\"],[2012,\"COMUNA 12\",2,2018,13,\"Dengue\",11,\"de 45 a 64 anos\"],[2012,\"COMUNA 12\",2,2018,17,\"Dengue\",11,\"de 45 a 65 anos\"],[2012,\"COMUNA 12\",2,2018,19,\"Dengue\",9,\"de 25 a 34 anos\"],[2014,\"COMUNA 14\",2,2018,38,\"Dengue\",9,\"de 25 a 34 anos\"],[2015,\"COMUNA 15\",2,2018,9,\"Dengue\",10,\"de 35 a 44 anos\"],[2015,\"COMUNA 15\",2,2018,12,\"Dengue\",11,\"de 45 a 64 anos\"],[2015,\"COMUNA 15\",2,2018,15,\"Dengue\",11,\"de 45 a 64 anos\"],[2015,\"COMUNA 15\",2,2018,16,\"Dengue\",9,\"de 25 a 34 anos\"],[2015,\"COMUNA 15\",2,2018,17,\"Dengue\",11,\"de 45 a 65 anos\"],[2015,\"COMUNA 15\",2,2018,18,\"Dengue\",7,\"de 15 a 19 anos\"],[6028,\"Almirante Brown\",6,2018,16,\"Dengue\",12,\"mayores de 65 anos\"],[6028,\"Almirante Brown\",6,2018,18,\"Dengue\",11,\"de 45 a 65 anos\"],[6028,\"Almirante Brown\",6,2018,19,\"Dengue\",10,\"de 35 a 44 anos\"],[6035,\"Avellaneda\",6,2018,7,\"Dengue\",7,\"de 15 a 24 anos\"],[6035,\"Avellaneda\",6,2018,7,\"Dengue\",11,\"de 45 a 64 anos\"],[6035,\"Avellaneda\",6,2018,9,\"Dengue\",6,\"de 10 a 14 anos\"],[6035,\"Avellaneda\",6,2018,9,\"Dengue\",7,\"de 15 a 24 anos\"],[6035,\"Avellaneda\",6,2018,9,\"Dengue\",9,\"de 25 a 34 anos\"],[6035,\"Avellaneda\",6,2018,10,\"Dengue\",7,\"de 15 a 24 anos\"],[6035,\"Avellaneda\",6,2018,10,\"Dengue\",11,\"de 45 a 64 anos\"],[6035,\"Avellaneda\",6,2018,11,\"Dengue\",6,\"de 10 a 14 anos\"],[6035,\"Avellaneda\",6,2018,11,\"Dengue\",7,\"de 15 a 24 anos\"],[6035,\"Avellaneda\",6,2018,11,\"Dengue\",9,\"de 25 a 34 anos\"],[6035,\"Avellaneda\",6,2018,11,\"Dengue\",11,\"de 45 a 64 anos\"],[6035,\"Avellaneda\",6,2018,12,\"Dengue\",6,\"de 10 a 14 anos\"],[6035,\"Avellaneda\",6,2018,12,\"Dengue\",10,\"de 35 a 44 anos\"],[6035,\"Avellaneda\",6,2018,13,\"Dengue\",9,\"de 25 a 34 anos\"],[6035,\"Avellaneda\",6,2018,13,\"Dengue\",10,\"de 35 a 44 anos\"],[6035,\"Avellaneda\",6,2018,13,\"Dengue\",12,\"mayor de  65 anos\"],[6035,\"Avellaneda\",6,2018,14,\"Dengue\",5,\"de 5 a 9 anos\"],[6035,\"Avellaneda\",6,2018,14,\"Dengue\",6,\"de 10 a 14 anos\"],[6035,\"Avellaneda\",6,2018,14,\"Dengue\",7,\"de 15 a 24 anos\"],[6035,\"Avellaneda\",6,2018,14,\"Dengue\",9,\"de 25 a 34 anos\"],[6035,\"Avellaneda\",6,2018,14,\"Dengue\",10,\"de 35 a 44 anos\"],[6035,\"Avellaneda\",6,2018,14,\"Dengue\",11,\"de 45 a 64 anos\"],[6035,\"Avellaneda\",6,2018,15,\"Dengue\",5,\"de 5 a 9 anos\"],[6035,\"Avellaneda\",6,2018,15,\"Dengue\",9,\"de 25 a 34 anos\"],[6035,\"Avellaneda\",6,2018,15,\"Dengue\",12,\"mayor de  65 anos\"],[6035,\"Avellaneda\",6,2018,16,\"Dengue\",6,\"de 10 a 14 anos\"],[6035,\"Avellaneda\",6,2018,16,\"Dengue\",7,\"de 15 a 24 anos\"],[6035,\"Avellaneda\",6,2018,16,\"Dengue\",9,\"de 25 a 34 anos\"],[6035,\"Avellaneda\",6,2018,16,\"Dengue\",10,\"de 35 a 44 anos\"],[6035,\"Avellaneda\",6,2018,17,\"Dengue\",4,\"de 2 a 4 anos\"],[6035,\"Avellaneda\",6,2018,17,\"Dengue\",7,\"de 15 a 19 anos\"],[6035,\"Avellaneda\",6,2018,17,\"Dengue\",7,\"de 15 a 24 anos\"],[6035,\"Avellaneda\",6,2018,18,\"Dengue\",7,\"de 15 a 19 anos\"],[6035,\"Avellaneda\",6,2018,18,\"Dengue\",8,\"de 20 a 24 anos\"],[6035,\"Avellaneda\",6,2018,18,\"Dengue\",9,\"de 25 a 34 anos\"],[6035,\"Avellaneda\",6,2018,19,\"Dengue\",6,\"de 10 a 14 anos\"],[6035,\"Avellaneda\",6,2018,19,\"Dengue\",8,\"de 20 a 24 anos\"],[6035,\"Avellaneda\",6,2018,19,\"Dengue\",9,\"de 25 a 34 anos\"],[6035,\"Avellaneda\",6,2018,20,\"Dengue\",10,\"de 35 a 44 anos\"],[6231,\"DESCONOCIDO\",2,2018,13,\"Dengue\",11,\"de 45 a 64 anos\"],[6231,\"DESCONOCIDO\",6,2018,11,\"Dengue\",11,\"de 45 a 64 anos\"],[6231,\"DESCONOCIDO\",6,2018,14,\"Dengue\",10,\"de 35 a 44 anos\"],[6231,\"DESCONOCIDO\",6,2018,15,\"Dengue\",10,\"de 35 a 44 anos\"],[6231,\"DESCONOCIDO\",18,2018,17,\"Dengue\",9,\"de 25 a 34 anos\"],[6252,\"Escobar\",6,2018,40,\"Dengue\",7,\"de 15 a 19 anos\"],[6260,\"Esteban Echeverr\\u00eda\",6,2018,19,\"Dengue\",11,\"de 45 a 65 anos\"],[6270,\"Ezeiza\",6,2018,11,\"Dengue\",10,\"de 35 a 44 anos\"],[6270,\"Ezeiza\",6,2018,13,\"Dengue\",9,\"de 25 a 34 anos\"],[6270,\"Ezeiza\",6,2018,18,\"Dengue\",10,\"de 35 a 44 anos\"],[6270,\"Ezeiza\",6,2018,19,\"Dengue\",9,\"de 25 a 34 anos\"],[6274,\"Florencio Varela\",6,2018,10,\"Dengue\",7,\"de 15 a 24 anos\"],[6274,\"Florencio Varela\",6,2018,19,\"Dengue\",11,\"de 45 a 65 anos\"],[6274,\"Florencio Varela\",6,2018,41,\"Dengue\",8,\"de 20 a 24 anos\"],[6364,\"General San Martin\",6,2018,11,\"Dengue\",7,\"de 15 a 24 anos\"],[6410,\"Ituzaing\\u00f3\",6,2018,11,\"Dengue\",11,\"de 45 a 64 anos\"],[6412,\"Jos\\u00e9 C. Paz\",6,2018,19,\"Dengue\",8,\"de 20 a 24 anos\"],[6427,\"La Matanza\",6,2018,9,\"Dengue\",9,\"de 25 a 34 anos\"],[6427,\"La Matanza\",6,2018,9,\"Dengue\",12,\"mayor de  65 anos\"],[6427,\"La Matanza\",6,2018,12,\"Dengue\",7,\"de 15 a 24 anos\"],[6427,\"La Matanza\",6,2018,12,\"Dengue\",11,\"de 45 a 64 anos\"],[6427,\"La Matanza\",6,2018,13,\"Dengue\",7,\"de 15 a 24 anos\"],[6427,\"La Matanza\",6,2018,13,\"Dengue\",9,\"de 25 a 34 anos\"],[6427,\"La Matanza\",6,2018,13,\"Dengue\",10,\"de 35 a 44 anos\"],[6427,\"La Matanza\",6,2018,13,\"Dengue\",11,\"de 45 a 64 anos\"],[6427,\"La Matanza\",6,2018,14,\"Dengue\",9,\"de 25 a 34 anos\"],[6427,\"La Matanza\",6,2018,14,\"Dengue\",11,\"de 45 a 64 anos\"],[6427,\"La Matanza\",6,2018,14,\"Dengue\",12,\"mayor de  65 anos\"],[6427,\"La Matanza\",6,2018,15,\"Dengue\",11,\"de 45 a 64 anos\"],[6427,\"La Matanza\",6,2018,16,\"Dengue\",5,\"de 5 a 9 anos\"],[6427,\"La Matanza\",6,2018,16,\"Dengue\",9,\"de 25 a 34 anos\"],[6427,\"La Matanza\",6,2018,16,\"Dengue\",10,\"de 35 a 44 anos\"],[6427,\"La Matanza\",6,2018,17,\"Dengue\",6,\"de 10 a 14 anos\"],[6427,\"La Matanza\",6,2018,17,\"Dengue\",9,\"de 25 a 34 anos\"],[6427,\"La Matanza\",6,2018,17,\"Dengue\",11,\"de 45 a 65 anos\"],[6427,\"La Matanza\",6,2018,18,\"Dengue\",9,\"de 25 a 34 anos\"],[6427,\"La Matanza\",6,2018,18,\"Dengue\",10,\"de 35 a 44 anos\"],[6427,\"La Matanza\",6,2018,18,\"Dengue\",11,\"de 45 a 65 anos\"],[6427,\"La Matanza\",6,2018,19,\"Dengue\",10,\"de 35 a 44 anos\"],[6427,\"La Matanza\",6,2018,21,\"Dengue\",8,\"de 20 a 24 anos\"],[6427,\"La Matanza\",6,2018,21,\"Dengue\",9,\"de 25 a 34 anos\"],[6434,\"Lan\\u00fas\",6,2018,10,\"Dengue\",9,\"de 25 a 34 anos\"],[6434,\"Lan\\u00fas\",6,2018,10,\"Dengue\",11,\"de 45 a 64 anos\"],[6434,\"Lan\\u00fas\",6,2018,14,\"Dengue\",6,\"de 10 a 14 anos\"],[6434,\"Lan\\u00fas\",6,2018,14,\"Dengue\",10,\"de 35 a 44 anos\"],[6434,\"Lan\\u00fas\",6,2018,15,\"Dengue\",9,\"de 25 a 34 anos\"],[6434,\"Lan\\u00fas\",6,2018,15,\"Dengue\",10,\"de 35 a 44 anos\"],[6434,\"Lan\\u00fas\",6,2018,16,\"Dengue\",9,\"de 25 a 34 anos\"],[6490,\"LOMAS DE ZAMORA\",6,2018,11,\"Dengue\",9,\"de 25 a 34 anos\"],[6490,\"LOMAS DE ZAMORA\",6,2018,11,\"Dengue\",11,\"de 45 a 64 anos\"],[6490,\"LOMAS DE ZAMORA\",6,2018,12,\"Dengue\",9,\"de 25 a 34 anos\"],[6490,\"LOMAS DE ZAMORA\",6,2018,14,\"Dengue\",7,\"de 15 a 24 anos\"],[6490,\"LOMAS DE ZAMORA\",6,2018,15,\"Dengue\",6,\"de 10 a 14 anos\"],[6490,\"LOMAS DE ZAMORA\",6,2018,15,\"Dengue\",11,\"de 45 a 64 anos\"],[6490,\"LOMAS DE ZAMORA\",6,2018,17,\"Dengue\",6,\"de 10 a 14 anos\"],[6490,\"LOMAS DE ZAMORA\",6,2018,18,\"Dengue\",10,\"de 35 a 44 anos\"],[6539,\"MERLO\",6,2018,10,\"Dengue\",5,\"de 5 a 9 anos\"],[6539,\"MERLO\",6,2018,10,\"Dengue\",10,\"de 35 a 44 anos\"],[6539,\"MERLO\",6,2018,14,\"Dengue\",10,\"de 35 a 44 anos\"],[6568,\"Mor\\u00f3n\",6,2018,9,\"Dengue\",10,\"de 35 a 44 anos\"],[6568,\"Mor\\u00f3n\",6,2018,10,\"Dengue\",10,\"de 35 a 44 anos\"],[6568,\"Mor\\u00f3n\",6,2018,10,\"Dengue\",11,\"de 45 a 64 anos\"],[6568,\"Mor\\u00f3n\",6,2018,11,\"Dengue\",7,\"de 15 a 24 anos\"],[6568,\"Mor\\u00f3n\",6,2018,15,\"Dengue\",7,\"de 15 a 24 anos\"],[6568,\"Mor\\u00f3n\",6,2018,18,\"Dengue\",7,\"de 15 a 19 anos\"],[6568,\"Mor\\u00f3n\",6,2018,18,\"Dengue\",11,\"de 45 a 65 anos\"],[6588,\"9 de Julio\",22,2018,16,\"Dengue\",6,\"de 10 a 14 anos\"],[6588,\"9 de Julio\",22,2018,17,\"Dengue\",10,\"de 35 a 44 anos\"],[6588,\"9 de Julio\",22,2018,18,\"Dengue\",9,\"de 25 a 34 anos\"],[6588,\"9 de Julio\",22,2018,18,\"Dengue\",11,\"de 45 a 65 anos\"],[6588,\"9 de Julio\",22,2018,19,\"Dengue\",6,\"de 10 a 14 anos\"],[6588,\"9 de Julio\",22,2018,19,\"Dengue\",10,\"de 35 a 44 anos\"],[6588,\"9 de Julio\",22,2018,19,\"Dengue\",11,\"de 45 a 65 anos\"],[6588,\"9 de Julio\",22,2018,20,\"Dengue\",6,\"de 10 a 14 anos\"],[6588,\"9 de Julio\",22,2018,20,\"Dengue\",11,\"de 45 a 65 anos\"],[6588,\"9 de Julio\",22,2018,21,\"Dengue\",5,\"de 5 a 9 anos\"],[6588,\"9 de Julio\",22,2018,21,\"Dengue\",7,\"de 15 a 19 anos\"],[6588,\"9 de Julio\",22,2018,21,\"Dengue\",9,\"de 25 a 34 anos\"],[6588,\"9 de Julio\",22,2018,21,\"Dengue\",11,\"de 45 a 65 anos\"],[6588,\"9 de Julio\",22,2018,22,\"Dengue\",10,\"de 35 a 44 anos\"],[6588,\"9 de Julio\",22,2018,22,\"Dengue\",11,\"de 45 a 65 anos\"],[6588,\"9 de Julio\",22,2018,23,\"Dengue\",11,\"de 45 a 65 anos\"],[6658,\"Quilmes\",6,2018,15,\"Dengue\",8,\"de 20 a 24 anos\"],[6658,\"Quilmes\",6,2018,17,\"Dengue\",10,\"de 35 a 44 anos\"],[6658,\"Quilmes\",6,2018,18,\"Dengue\",7,\"de 15 a 19 anos\"],[6658,\"Quilmes\",6,2018,19,\"Dengue\",5,\"de 5 a 9 anos\"],[6658,\"Quilmes\",6,2018,19,\"Dengue\",9,\"de 25 a 34 anos\"],[6658,\"Quilmes\",6,2018,19,\"Dengue\",11,\"de 45 a 65 anos\"],[6658,\"Quilmes\",6,2018,20,\"Dengue\",6,\"de 10 a 14 anos\"],[6658,\"Quilmes\",6,2018,20,\"Dengue\",7,\"de 15 a 19 anos\"],[6658,\"Quilmes\",6,2018,21,\"Dengue\",10,\"de 35 a 44 anos\"],[6658,\"Quimes\",6,2018,8,\"Dengue\",9,\"de 25 a 34 anos\"],[6658,\"Quimes\",6,2018,11,\"Dengue\",9,\"de 25 a 34 anos\"],[6658,\"Quimes\",6,2018,12,\"Dengue\",9,\"de 25 a 34 anos\"],[6658,\"Quimes\",6,2018,12,\"Dengue\",11,\"de 45 a 64 anos\"],[6658,\"Quimes\",6,2018,14,\"Dengue\",7,\"de 15 a 24 anos\"],[6658,\"Quimes\",6,2018,14,\"Dengue\",10,\"de 35 a 44 anos\"],[6658,\"Quimes\",6,2018,15,\"Dengue\",7,\"de 15 a 24 anos\"],[6658,\"Quimes\",6,2018,15,\"Dengue\",9,\"de 25 a 34 anos\"],[6658,\"Quimes\",6,2018,15,\"Dengue\",11,\"de 45 a 64 anos\"],[6658,\"Quimes\",6,2018,16,\"Dengue\",9,\"de 25 a 34 anos\"],[6658,\"Quimes\",6,2018,16,\"Dengue\",11,\"de 45 a 64 anos\"],[6665,\"Ramallo\",6,2018,18,\"Dengue\",9,\"de 25 a 34 anos\"],[6805,\"Tigre\",6,2018,20,\"Dengue\",9,\"de 25 a 34 anos\"],[6805,\"Tigre\",6,2018,40,\"Dengue\",9,\"de 25 a 34 anos\"],[6840,\"Tres de Febrero\",6,2018,15,\"Dengue\",7,\"de 15 a 24 anos\"],[6840,\"Tres de Febrero\",6,2018,17,\"Dengue\",9,\"de 25 a 34 anos\"],[6840,\"Tres de Febrero\",6,2018,18,\"Dengue\",7,\"de 15 a 19 anos\"],[6840,\"Tres de Febrero\",6,2018,18,\"Dengue\",11,\"de 45 a 65 anos\"],[6840,\"Tres de Febrero\",6,2018,19,\"Dengue\",8,\"de 20 a 24 anos\"],[6840,\"Tres de Febrero\",6,2018,19,\"Dengue\",10,\"de 35 a 44 anos\"],[6840,\"Tres de Febrero\",6,2018,20,\"Dengue\",9,\"de 25 a 34 anos\"],[6861,\"Vicente L\\u00f3pez\",6,2018,14,\"Dengue\",6,\"de 10 a 14 anos\"],[6861,\"Vicente L\\u00f3pez\",6,2018,52,\"Dengue\",1,\"posneonato (29 hasta 365 d\\u00edas)\"],[14161,\"Tercero Arriba\",14,2018,21,\"Dengue\",9,\"de 25 a 34 anos\"],[18021,\"CAPITAL\",18,2018,11,\"Dengue\",11,\"de 45 a 64 anos\"],[18021,\"CAPITAL\",18,2018,16,\"Dengue\",11,\"de 45 a 65 anos\"],[18021,\"CAPITAL\",18,2018,18,\"Dengue\",10,\"de 35 a 44 anos\"],[18021,\"CAPITAL\",18,2018,19,\"Dengue\",1,\"posneonato (29 hasta 365 d\\u00edas)\"],[18021,\"CAPITAL\",18,2018,19,\"Dengue\",6,\"de 10 a 14 anos\"],[18021,\"CAPITAL\",18,2018,19,\"Dengue\",9,\"de 25 a 34 anos\"],[18021,\"CAPITAL\",18,2018,19,\"Dengue\",10,\"de 35 a 44 anos\"],[18021,\"CAPITAL\",18,2018,20,\"Dengue\",5,\"de 5 a 9 anos\"],[18021,\"CAPITAL\",18,2018,20,\"Dengue\",6,\"de 10 a 14 anos\"],[18021,\"CAPITAL\",18,2018,20,\"Dengue\",7,\"de 15 a 19 anos\"],[18021,\"CAPITAL\",18,2018,20,\"Dengue\",9,\"de 25 a 34 anos\"],[18021,\"CAPITAL\",18,2018,20,\"Dengue\",10,\"de 35 a 44 anos\"],[18021,\"CAPITAL\",18,2018,20,\"Dengue\",11,\"de 45 a 65 anos\"],[18021,\"CAPITAL\",18,2018,20,\"Dengue\",12,\"mayores de 65 anos\"],[18021,\"CAPITAL\",18,2018,21,\"Dengue\",6,\"de 10 a 14 anos\"],[18021,\"CAPITAL\",18,2018,21,\"Dengue\",7,\"de 15 a 19 anos\"],[18021,\"CAPITAL\",18,2018,21,\"Dengue\",8,\"de 20 a 24 anos\"],[18021,\"CAPITAL\",18,2018,21,\"Dengue\",9,\"de 25 a 34 anos\"],[18021,\"CAPITAL\",18,2018,21,\"Dengue\",10,\"de 35 a 44 anos\"],[18021,\"CAPITAL\",18,2018,21,\"Dengue\",12,\"mayores de 65 anos\"],[18021,\"CAPITAL\",18,2018,22,\"Dengue\",4,\"de 2 a 4 anos\"],[18021,\"CAPITAL\",18,2018,22,\"Dengue\",5,\"de 5 a 9 anos\"],[18021,\"CAPITAL\",18,2018,22,\"Dengue\",9,\"de 25 a 34 anos\"],[18021,\"CAPITAL\",18,2018,22,\"Dengue\",10,\"de 35 a 44 anos\"],[18021,\"CAPITAL\",18,2018,22,\"Dengue\",11,\"de 45 a 65 anos\"],[18021,\"CAPITAL\",18,2018,22,\"Dengue\",12,\"mayores de 65 anos\"],[18021,\"CAPITAL\",18,2018,23,\"Dengue\",4,\"de 2 a 4 anos\"],[18021,\"CAPITAL\",18,2018,23,\"Dengue\",5,\"de 5 a 9 anos\"],[18021,\"CAPITAL\",18,2018,23,\"Dengue\",6,\"de 10 a 14 anos\"],[18021,\"CAPITAL\",18,2018,23,\"Dengue\",8,\"de 20 a 24 anos\"],[18021,\"CAPITAL\",18,2018,23,\"Dengue\",11,\"de 45 a 65 anos\"],[18021,\"CAPITAL\",18,2018,23,\"Dengue\",12,\"mayores de 65 anos\"],[18021,\"CAPITAL\",18,2018,24,\"Dengue\",6,\"de 10 a 14 anos\"],[18021,\"CAPITAL\",18,2018,24,\"Dengue\",8,\"de 20 a 24 anos\"],[18021,\"CAPITAL\",18,2018,24,\"Dengue\",10,\"de 35 a 44 anos\"],[18021,\"CAPITAL\",18,2018,24,\"Dengue\",11,\"de 45 a 65 anos\"],[18021,\"CAPITAL\",18,2018,24,\"Dengue\",12,\"mayores de 65 anos\"],[18021,\"CAPITAL\",18,2018,25,\"Dengue\",11,\"de 45 a 65 anos\"],[18021,\"CAPITAL\",18,2018,26,\"Dengue\",8,\"de 20 a 24 anos\"],[18021,\"CAPITAL\",18,2018,26,\"Dengue\",11,\"de 45 a 65 anos\"],[18021,\"CAPITAL\",18,2018,27,\"Dengue\",11,\"de 45 a 65 anos\"],[18021,\"CAPITAL\",18,2018,28,\"Dengue\",11,\"de 45 a 65 anos\"],[18126,\"Saladas\",18,2018,18,\"Dengue\",4,\"de 2 a 4 anos\"],[18126,\"Saladas\",18,2018,18,\"Dengue\",9,\"de 25 a 34 anos\"],[18126,\"Saladas\",18,2018,19,\"Dengue\",4,\"de 2 a 4 anos\"],[18126,\"Saladas\",18,2018,19,\"Dengue\",5,\"de 5 a 9 anos\"],[18126,\"Saladas\",18,2018,19,\"Dengue\",6,\"de 10 a 14 anos\"],[18126,\"Saladas\",18,2018,19,\"Dengue\",7,\"de 15 a 19 anos\"],[18126,\"Saladas\",18,2018,19,\"Dengue\",8,\"de 20 a 24 anos\"],[18126,\"Saladas\",18,2018,19,\"Dengue\",9,\"de 25 a 34 anos\"],[18126,\"Saladas\",18,2018,19,\"Dengue\",10,\"de 35 a 44 anos\"],[18126,\"Saladas\",18,2018,19,\"Dengue\",11,\"de 45 a 65 anos\"],[18126,\"Saladas\",18,2018,19,\"Dengue\",12,\"mayores de 65 anos\"],[18126,\"Saladas\",18,2018,20,\"Dengue\",7,\"de 15 a 19 anos\"],[18126,\"Saladas\",18,2018,20,\"Dengue\",8,\"de 20 a 24 anos\"],[18126,\"Saladas\",18,2018,20,\"Dengue\",10,\"de 35 a 44 anos\"],[18126,\"Saladas\",18,2018,20,\"Dengue\",11,\"de 45 a 65 anos\"],[18126,\"Saladas\",18,2018,21,\"Dengue\",6,\"de 10 a 14 anos\"],[18126,\"Saladas\",18,2018,21,\"Dengue\",7,\"de 15 a 19 anos\"],[18126,\"Saladas\",18,2018,21,\"Dengue\",8,\"de 20 a 24 anos\"],[18126,\"Saladas\",18,2018,21,\"Dengue\",9,\"de 25 a 34 anos\"],[18126,\"Saladas\",18,2018,21,\"Dengue\",10,\"de 35 a 44 anos\"],[18126,\"Saladas\",18,2018,21,\"Dengue\",11,\"de 45 a 65 anos\"],[18126,\"Saladas\",18,2018,22,\"Dengue\",9,\"de 25 a 34 anos\"],[18126,\"Saladas\",18,2018,24,\"Dengue\",7,\"de 15 a 19 anos\"],[18133,\"San Cosme\",18,2018,21,\"Dengue\",8,\"de 20 a 24 anos\"],[18154,\"San Miguel\",6,2018,18,\"Dengue\",10,\"de 35 a 44 anos\"],[18168,\"Santo Tom\\u00e9\",18,2018,16,\"Dengue\",10,\"de 35 a 44 anos\"],[18168,\"Santo Tom\\u00e9\",18,2018,19,\"Dengue\",9,\"de 25 a 34 anos\"],[22014,\"Bermejo\",22,2018,13,\"Dengue\",5,\"de 5 a 9 anos\"],[22014,\"Bermejo\",22,2018,14,\"Dengue\",11,\"de 45 a 64 anos\"],[22014,\"Bermejo\",22,2018,17,\"Dengue\",9,\"de 25 a 34 anos\"],[22014,\"Bermejo\",22,2018,17,\"Dengue\",10,\"de 35 a 44 anos\"],[22014,\"Bermejo\",22,2018,17,\"Dengue\",11,\"de 45 a 65 anos\"],[22014,\"Bermejo\",22,2018,17,\"Dengue\",12,\"mayores de 65 anos\"],[22014,\"Bermejo\",22,2018,18,\"Dengue\",5,\"de 5 a 9 anos\"],[22014,\"Bermejo\",22,2018,19,\"Dengue\",5,\"de 5 a 9 anos\"],[22014,\"Bermejo\",22,2018,19,\"Dengue\",11,\"de 45 a 65 anos\"],[22014,\"Bermejo\",22,2018,20,\"Dengue\",6,\"de 10 a 14 anos\"],[22014,\"Bermejo\",22,2018,20,\"Dengue\",10,\"de 35 a 44 anos\"],[22021,\"Comandante Fern\\u00e1ndez\",22,2018,13,\"Dengue\",9,\"de 25 a 34 anos\"],[22021,\"Comandante Fern\\u00e1ndez\",22,2018,15,\"Dengue\",11,\"de 45 a 64 anos\"],[22021,\"Comandante Fern\\u00e1ndez\",22,2018,18,\"Dengue\",7,\"de 15 a 19 anos\"],[22021,\"Comandante Fern\\u00e1ndez\",22,2018,19,\"Dengue\",7,\"de 15 a 19 anos\"],[22021,\"Comandante Fern\\u00e1ndez\",22,2018,20,\"Dengue\",9,\"de 25 a 34 anos\"],[22021,\"Comandante Fern\\u00e1ndez\",22,2018,20,\"Dengue\",11,\"de 45 a 65 anos\"],[22021,\"Comandante Fern\\u00e1ndez\",22,2018,20,\"Dengue\",12,\"mayores de 65 anos\"],[22021,\"Comandante Fern\\u00e1ndez\",22,2018,21,\"Dengue\",6,\"de 10 a 14 anos\"],[22021,\"Comandante Fern\\u00e1ndez\",22,2018,21,\"Dengue\",10,\"de 35 a 44 anos\"],[22021,\"Comandante Fern\\u00e1ndez\",22,2018,22,\"Dengue\",6,\"de 10 a 14 anos\"],[22021,\"Comandante Fern\\u00e1ndez\",22,2018,22,\"Dengue\",9,\"de 25 a 34 anos\"],[22021,\"Comandante Fern\\u00e1ndez\",22,2018,22,\"Dengue\",10,\"de 35 a 44 anos\"],[22021,\"Comandante Fern\\u00e1ndez\",22,2018,23,\"Dengue\",4,\"de 2 a 4 anos\"],[22021,\"Comandante Fern\\u00e1ndez\",22,2018,23,\"Dengue\",10,\"de 35 a 44 anos\"],[22021,\"Comandante Fern\\u00e1ndez\",22,2018,25,\"Dengue\",9,\"de 25 a 34 anos\"],[22021,\"Comandante Fern\\u00e1ndez\",22,2018,27,\"Dengue\",9,\"de 25 a 34 anos\"],[22021,\"Comandante Fern\\u00e1ndez\",22,2018,28,\"Dengue\",7,\"de 15 a 19 anos\"],[22021,\"Comandante Fern\\u00e1ndez\",22,2018,28,\"Dengue\",11,\"de 45 a 65 anos\"],[22036,\"12 de Octubre\",22,2018,17,\"Dengue\",8,\"de 20 a 24 anos\"],[22036,\"12 de Octubre\",22,2018,17,\"Dengue\",11,\"de 45 a 65 anos\"],[22036,\"12 de Octubre\",22,2018,18,\"Dengue\",11,\"de 45 a 65 anos\"],[22036,\"12 de Octubre\",22,2018,20,\"Dengue\",9,\"de 25 a 34 anos\"],[22036,\"12 de Octubre\",22,2018,20,\"Dengue\",10,\"de 35 a 44 anos\"],[22036,\"12 de Octubre\",22,2018,21,\"Dengue\",9,\"de 25 a 34 anos\"],[22036,\"12 de Octubre\",22,2018,21,\"Dengue\",11,\"de 45 a 65 anos\"],[22036,\"12 de Octubre\",22,2018,22,\"Dengue\",7,\"de 15 a 19 anos\"],[22036,\"12 de Octubre\",22,2018,22,\"Dengue\",8,\"de 20 a 24 anos\"],[22036,\"12 de Octubre\",22,2018,22,\"Dengue\",10,\"de 35 a 44 anos\"],[22036,\"12 de Octubre\",22,2018,24,\"Dengue\",11,\"de 45 a 65 anos\"],[22039,\"2 De Abril\",22,2018,4,\"Dengue\",9,\"de 25 a 34 anos\"],[22039,\"2 De Abril\",22,2018,12,\"Dengue\",9,\"de 25 a 34 anos\"],[22039,\"2 De Abril\",22,2018,14,\"Dengue\",9,\"de 25 a 34 anos\"],[22039,\"2 De Abril\",22,2018,14,\"Dengue\",11,\"de 45 a 64 anos\"],[22039,\"2 De Abril\",22,2018,15,\"Dengue\",11,\"de 45 a 64 anos\"],[22039,\"2 De Abril\",22,2018,16,\"Dengue\",4,\"de 2 a 4 anos\"],[22039,\"2 De Abril\",22,2018,16,\"Dengue\",5,\"de 5 a 9 anos\"],[22039,\"2 De Abril\",22,2018,16,\"Dengue\",6,\"de 10 a 14 anos\"],[22039,\"2 De Abril\",22,2018,16,\"Dengue\",7,\"de 15 a 19 anos\"],[22039,\"2 De Abril\",22,2018,16,\"Dengue\",7,\"de 15 a 24 anos\"],[22039,\"2 De Abril\",22,2018,16,\"Dengue\",8,\"de 20 a 24 anos\"],[22039,\"2 De Abril\",22,2018,16,\"Dengue\",9,\"de 25 a 34 anos\"],[22039,\"2 De Abril\",22,2018,16,\"Dengue\",10,\"de 35 a 44 anos\"],[22039,\"2 De Abril\",22,2018,16,\"Dengue\",11,\"de 45 a 64 anos\"],[22039,\"2 De Abril\",22,2018,16,\"Dengue\",11,\"de 45 a 65 anos\"],[22039,\"2 De Abril\",22,2018,16,\"Dengue\",12,\"mayor de  65 anos\"],[22039,\"2 De Abril\",22,2018,16,\"Dengue\",12,\"mayores de 65 anos\"],[22039,\"2 De Abril\",22,2018,17,\"Dengue\",5,\"de 5 a 9 anos\"],[22039,\"2 De Abril\",22,2018,17,\"Dengue\",6,\"de 10 a 14 anos\"],[22039,\"2 De Abril\",22,2018,17,\"Dengue\",7,\"de 15 a 19 anos\"],[22039,\"2 De Abril\",22,2018,17,\"Dengue\",7,\"de 15 a 24 anos\"],[22039,\"2 De Abril\",22,2018,17,\"Dengue\",8,\"de 20 a 24 anos\"],[22039,\"2 De Abril\",22,2018,17,\"Dengue\",9,\"de 25 a 34 anos\"],[22039,\"2 De Abril\",22,2018,17,\"Dengue\",10,\"de 35 a 44 anos\"],[22039,\"2 De Abril\",22,2018,17,\"Dengue\",11,\"de 45 a 64 anos\"],[22039,\"2 De Abril\",22,2018,17,\"Dengue\",11,\"de 45 a 65 anos\"],[22039,\"2 De Abril\",22,2018,17,\"Dengue\",12,\"mayor de  65 anos\"],[22039,\"2 De Abril\",22,2018,17,\"Dengue\",12,\"mayores de 65 anos\"],[22039,\"2 De Abril\",22,2018,18,\"Dengue\",4,\"de 2 a 4 anos\"],[22039,\"2 De Abril\",22,2018,18,\"Dengue\",5,\"de 5 a 9 anos\"],[22039,\"2 De Abril\",22,2018,18,\"Dengue\",6,\"de 10 a 14 anos\"],[22039,\"2 De Abril\",22,2018,18,\"Dengue\",7,\"de 15 a 19 anos\"],[22039,\"2 De Abril\",22,2018,18,\"Dengue\",8,\"de 20 a 24 anos\"],[22039,\"2 De Abril\",22,2018,18,\"Dengue\",9,\"de 25 a 34 anos\"],[22039,\"2 De Abril\",22,2018,18,\"Dengue\",10,\"de 35 a 44 anos\"],[22039,\"2 De Abril\",22,2018,18,\"Dengue\",11,\"de 45 a 65 anos\"],[22039,\"2 De Abril\",22,2018,18,\"Dengue\",12,\"mayores de 65 anos\"],[22039,\"2 De Abril\",22,2018,19,\"Dengue\",3,\"de 13 a 24 meses\"],[22039,\"2 De Abril\",22,2018,19,\"Dengue\",4,\"de 2 a 4 anos\"],[22039,\"2 De Abril\",22,2018,19,\"Dengue\",5,\"de 5 a 9 anos\"],[22039,\"2 De Abril\",22,2018,19,\"Dengue\",6,\"de 10 a 14 anos\"],[22039,\"2 De Abril\",22,2018,19,\"Dengue\",7,\"de 15 a 19 anos\"],[22039,\"2 De Abril\",22,2018,19,\"Dengue\",8,\"de 20 a 24 anos\"],[22039,\"2 De Abril\",22,2018,19,\"Dengue\",9,\"de 25 a 34 anos\"],[22039,\"2 De Abril\",22,2018,19,\"Dengue\",10,\"de 35 a 44 anos\"],[22039,\"2 De Abril\",22,2018,19,\"Dengue\",11,\"de 45 a 65 anos\"],[22039,\"2 De Abril\",22,2018,19,\"Dengue\",12,\"mayores de 65 anos\"],[22039,\"2 De Abril\",22,2018,20,\"Dengue\",4,\"de 2 a 4 anos\"],[22039,\"2 De Abril\",22,2018,20,\"Dengue\",5,\"de 5 a 9 anos\"],[22039,\"2 De Abril\",22,2018,20,\"Dengue\",6,\"de 10 a 14 anos\"],[22039,\"2 De Abril\",22,2018,20,\"Dengue\",7,\"de 15 a 19 anos\"],[22039,\"2 De Abril\",22,2018,20,\"Dengue\",8,\"de 20 a 24 anos\"],[22039,\"2 De Abril\",22,2018,20,\"Dengue\",9,\"de 25 a 34 anos\"],[22039,\"2 De Abril\",22,2018,20,\"Dengue\",10,\"de 35 a 44 anos\"],[22039,\"2 De Abril\",22,2018,20,\"Dengue\",11,\"de 45 a 65 anos\"],[22039,\"2 De Abril\",22,2018,20,\"Dengue\",12,\"mayores de 65 anos\"],[22039,\"2 De Abril\",22,2018,21,\"Dengue\",5,\"de 5 a 9 anos\"],[22039,\"2 De Abril\",22,2018,21,\"Dengue\",9,\"de 25 a 34 anos\"],[22039,\"2 De Abril\",22,2018,21,\"Dengue\",11,\"de 45 a 65 anos\"],[22039,\"2 De Abril\",22,2018,22,\"Dengue\",7,\"de 15 a 19 anos\"],[22039,\"2 De Abril\",22,2018,22,\"Dengue\",9,\"de 25 a 34 anos\"],[22043,\"Fray Justo Santa Mar\\u00eda de Oro\",22,2018,16,\"Dengue\",8,\"de 20 a 24 anos\"],[22043,\"Fray Justo Santa Mar\\u00eda de Oro\",22,2018,16,\"Dengue\",11,\"de 45 a 65 anos\"],[22043,\"Fray Justo Santa Mar\\u00eda de Oro\",22,2018,19,\"Dengue\",8,\"de 20 a 24 anos\"],[22043,\"Fray Justo Santa Mar\\u00eda de Oro\",22,2018,19,\"Dengue\",10,\"de 35 a 44 anos\"],[22043,\"Fray Justo Santa Mar\\u00eda de Oro\",22,2018,20,\"Dengue\",7,\"de 15 a 19 anos\"],[22043,\"Fray Justo Santa Mar\\u00eda de Oro\",22,2018,20,\"Dengue\",8,\"de 20 a 24 anos\"],[22043,\"Fray Justo Santa Mar\\u00eda de Oro\",22,2018,20,\"Dengue\",11,\"de 45 a 65 anos\"],[22070,\"Independencia\",22,2018,15,\"Dengue\",10,\"de 35 a 44 anos\"],[22070,\"Independencia\",22,2018,17,\"Dengue\",5,\"de 5 a 9 anos\"],[22070,\"Independencia\",22,2018,17,\"Dengue\",8,\"de 20 a 24 anos\"],[22070,\"Independencia\",22,2018,17,\"Dengue\",9,\"de 25 a 34 anos\"],[22070,\"Independencia\",22,2018,18,\"Dengue\",7,\"de 15 a 19 anos\"],[22070,\"Independencia\",22,2018,19,\"Dengue\",9,\"de 25 a 34 anos\"],[22070,\"Independencia\",22,2018,19,\"Dengue\",11,\"de 45 a 65 anos\"],[22070,\"Independencia\",22,2018,20,\"Dengue\",7,\"de 15 a 19 anos\"],[22070,\"Independencia\",22,2018,20,\"Dengue\",8,\"de 20 a 24 anos\"],[22070,\"Independencia\",22,2018,20,\"Dengue\",10,\"de 35 a 44 anos\"],[22070,\"Independencia\",22,2018,21,\"Dengue\",8,\"de 20 a 24 anos\"],[22084,\"Libertador General San Mart\\u00edn\",22,2018,18,\"Dengue\",6,\"de 10 a 14 anos\"],[22084,\"Libertador General San Mart\\u00edn\",22,2018,19,\"Dengue\",7,\"de 15 a 19 anos\"],[22084,\"Libertador General San Mart\\u00edn\",22,2018,19,\"Dengue\",9,\"de 25 a 34 anos\"],[22084,\"Libertador General San Mart\\u00edn\",22,2018,20,\"Dengue\",8,\"de 20 a 24 anos\"],[22084,\"Libertador General San Mart\\u00edn\",22,2018,20,\"Dengue\",10,\"de 35 a 44 anos\"],[22084,\"Libertador General San Mart\\u00edn\",22,2018,21,\"Dengue\",7,\"de 15 a 19 anos\"],[22084,\"Libertador General San Mart\\u00edn\",22,2018,21,\"Dengue\",8,\"de 20 a 24 anos\"],[22084,\"Libertador General San Mart\\u00edn\",22,2018,21,\"Dengue\",10,\"de 35 a 44 anos\"],[22084,\"Libertador General San Mart\\u00edn\",22,2018,22,\"Dengue\",8,\"de 20 a 24 anos\"],[22084,\"Libertador General San Mart\\u00edn\",22,2018,22,\"Dengue\",11,\"de 45 a 65 anos\"],[22084,\"Libertador General San Mart\\u00edn\",22,2018,24,\"Dengue\",9,\"de 25 a 34 anos\"],[22098,\"Mayor Luis J. Fontana\",22,2018,17,\"Dengue\",11,\"de 45 a 65 anos\"],[22098,\"Mayor Luis J. Fontana\",22,2018,19,\"Dengue\",5,\"de 5 a 9 anos\"],[22098,\"Mayor Luis J. Fontana\",22,2018,19,\"Dengue\",7,\"de 15 a 19 anos\"],[22098,\"Mayor Luis J. Fontana\",22,2018,19,\"Dengue\",9,\"de 25 a 34 anos\"],[22098,\"Mayor Luis J. Fontana\",22,2018,19,\"Dengue\",10,\"de 35 a 44 anos\"],[22098,\"Mayor Luis J. Fontana\",22,2018,20,\"Dengue\",7,\"de 15 a 19 anos\"],[22098,\"Mayor Luis J. Fontana\",22,2018,20,\"Dengue\",12,\"mayores de 65 anos\"],[22098,\"Mayor Luis J. Fontana\",22,2018,21,\"Dengue\",10,\"de 35 a 44 anos\"],[22098,\"Mayor Luis J. Fontana\",22,2018,21,\"Dengue\",11,\"de 45 a 65 anos\"],[22098,\"Mayor Luis J. Fontana\",22,2018,37,\"Dengue\",5,\"de 5 a 9 anos\"],[22112,\"O'Higgins\",22,2018,2,\"Dengue\",9,\"de 25 a 34 anos\"],[22112,\"O'Higgins\",22,2018,17,\"Dengue\",9,\"de 25 a 34 anos\"],[22112,\"O'Higgins\",22,2018,18,\"Dengue\",7,\"de 15 a 19 anos\"],[22112,\"O'Higgins\",22,2018,18,\"Dengue\",9,\"de 25 a 34 anos\"],[22112,\"O'Higgins\",22,2018,18,\"Dengue\",10,\"de 35 a 44 anos\"],[22112,\"O'Higgins\",22,2018,18,\"Dengue\",11,\"de 45 a 65 anos\"],[22112,\"O'Higgins\",22,2018,19,\"Dengue\",7,\"de 15 a 19 anos\"],[22112,\"O'Higgins\",22,2018,19,\"Dengue\",8,\"de 20 a 24 anos\"],[22112,\"O'Higgins\",22,2018,19,\"Dengue\",9,\"de 25 a 34 anos\"],[22112,\"O'Higgins\",22,2018,19,\"Dengue\",10,\"de 35 a 44 anos\"],[22112,\"O'Higgins\",22,2018,19,\"Dengue\",11,\"de 45 a 65 anos\"],[22112,\"O'Higgins\",22,2018,20,\"Dengue\",7,\"de 15 a 19 anos\"],[22112,\"O'Higgins\",22,2018,20,\"Dengue\",9,\"de 25 a 34 anos\"],[22112,\"O'Higgins\",22,2018,21,\"Dengue\",7,\"de 15 a 19 anos\"],[22140,\"SAN FERNANDO\",22,2018,10,\"Dengue\",11,\"de 45 a 64 anos\"],[22140,\"SAN FERNANDO\",22,2018,11,\"Dengue\",9,\"de 25 a 34 anos\"],[22140,\"SAN FERNANDO\",22,2018,12,\"Dengue\",9,\"de 25 a 34 anos\"],[22140,\"SAN FERNANDO\",22,2018,15,\"Dengue\",10,\"de 35 a 44 anos\"],[22140,\"SAN FERNANDO\",22,2018,16,\"Dengue\",7,\"de 15 a 24 anos\"],[22140,\"SAN FERNANDO\",22,2018,16,\"Dengue\",11,\"de 45 a 64 anos\"],[22140,\"SAN FERNANDO\",22,2018,17,\"Dengue\",6,\"de 10 a 14 anos\"],[22140,\"SAN FERNANDO\",22,2018,17,\"Dengue\",10,\"de 35 a 44 anos\"],[22140,\"SAN FERNANDO\",22,2018,17,\"Dengue\",11,\"de 45 a 65 anos\"],[22140,\"SAN FERNANDO\",22,2018,18,\"Dengue\",6,\"de 10 a 14 anos\"],[22140,\"SAN FERNANDO\",22,2018,18,\"Dengue\",10,\"de 35 a 44 anos\"],[22140,\"SAN FERNANDO\",22,2018,18,\"Dengue\",12,\"mayores de 65 anos\"],[22140,\"SAN FERNANDO\",22,2018,19,\"Dengue\",6,\"de 10 a 14 anos\"],[22140,\"SAN FERNANDO\",22,2018,19,\"Dengue\",7,\"de 15 a 19 anos\"],[22140,\"SAN FERNANDO\",22,2018,19,\"Dengue\",8,\"de 20 a 24 anos\"],[22140,\"SAN FERNANDO\",22,2018,19,\"Dengue\",10,\"de 35 a 44 anos\"],[22140,\"SAN FERNANDO\",22,2018,19,\"Dengue\",11,\"de 45 a 65 anos\"],[22140,\"SAN FERNANDO\",22,2018,20,\"Dengue\",1,\"posneonato (29 hasta 365 d\\u00edas)\"],[22140,\"SAN FERNANDO\",22,2018,20,\"Dengue\",6,\"de 10 a 14 anos\"],[22140,\"SAN FERNANDO\",22,2018,20,\"Dengue\",7,\"de 15 a 19 anos\"],[22140,\"SAN FERNANDO\",22,2018,20,\"Dengue\",8,\"de 20 a 24 anos\"],[22140,\"SAN FERNANDO\",22,2018,20,\"Dengue\",9,\"de 25 a 34 anos\"],[22140,\"SAN FERNANDO\",22,2018,20,\"Dengue\",10,\"de 35 a 44 anos\"],[22140,\"SAN FERNANDO\",22,2018,20,\"Dengue\",11,\"de 45 a 65 anos\"],[22140,\"SAN FERNANDO\",22,2018,21,\"Dengue\",7,\"de 15 a 19 anos\"],[22140,\"SAN FERNANDO\",22,2018,21,\"Dengue\",10,\"de 35 a 44 anos\"],[22140,\"SAN FERNANDO\",22,2018,21,\"Dengue\",11,\"de 45 a 65 anos\"],[22140,\"SAN FERNANDO\",22,2018,21,\"Dengue\",12,\"mayores de 65 anos\"],[22140,\"SAN FERNANDO\",22,2018,22,\"Dengue\",7,\"de 15 a 19 anos\"],[22140,\"SAN FERNANDO\",22,2018,22,\"Dengue\",10,\"de 35 a 44 anos\"],[22140,\"SAN FERNANDO\",22,2018,22,\"Dengue\",11,\"de 45 a 65 anos\"],[22140,\"SAN FERNANDO\",22,2018,23,\"Dengue\",6,\"de 10 a 14 anos\"],[22140,\"SAN FERNANDO\",22,2018,23,\"Dengue\",12,\"mayores de 65 anos\"],[22140,\"SAN FERNANDO\",22,2018,26,\"Dengue\",9,\"de 25 a 34 anos\"],[22140,\"SAN FERNANDO\",22,2018,50,\"Dengue\",11,\"de 45 a 65 anos\"],[30015,\"Concordia\",30,2018,20,\"Dengue\",9,\"de 25 a 34 anos\"],[30015,\"Concordia\",30,2018,50,\"Dengue\",9,\"de 25 a 34 anos\"],[30084,\"Paran\\u00e1\",30,2018,14,\"Dengue\",11,\"de 45 a 64 anos\"],[30084,\"Paran\\u00e1\",30,2018,16,\"Dengue\",10,\"de 35 a 44 anos\"],[30084,\"Paran\\u00e1\",30,2018,16,\"Dengue\",12,\"mayor de  65 anos\"],[30084,\"Paran\\u00e1\",30,2018,22,\"Dengue\",11,\"de 45 a 65 anos\"],[34014,\"FORMOSA\",34,2018,1,\"Dengue\",7,\"de 15 a 24 anos\"],[34014,\"FORMOSA\",34,2018,3,\"Dengue\",11,\"de 45 a 64 anos\"],[34014,\"FORMOSA\",34,2018,7,\"Dengue\",9,\"de 25 a 34 anos\"],[34014,\"FORMOSA\",34,2018,8,\"Dengue\",9,\"de 25 a 34 anos\"],[34014,\"FORMOSA\",34,2018,9,\"Dengue\",7,\"de 15 a 24 anos\"],[34014,\"FORMOSA\",34,2018,9,\"Dengue\",10,\"de 35 a 44 anos\"],[34014,\"FORMOSA\",34,2018,10,\"Dengue\",7,\"de 15 a 24 anos\"],[34014,\"FORMOSA\",34,2018,10,\"Dengue\",11,\"de 45 a 64 anos\"],[34014,\"FORMOSA\",34,2018,11,\"Dengue\",6,\"de 10 a 14 anos\"],[34014,\"FORMOSA\",34,2018,11,\"Dengue\",7,\"de 15 a 24 anos\"],[34014,\"FORMOSA\",34,2018,11,\"Dengue\",10,\"de 35 a 44 anos\"],[34014,\"FORMOSA\",34,2018,11,\"Dengue\",11,\"de 45 a 64 anos\"],[34014,\"FORMOSA\",34,2018,12,\"Dengue\",9,\"de 25 a 34 anos\"],[34014,\"FORMOSA\",34,2018,12,\"Dengue\",11,\"de 45 a 64 anos\"],[34014,\"FORMOSA\",34,2018,12,\"Dengue\",12,\"mayor de  65 anos\"],[34014,\"FORMOSA\",34,2018,13,\"Dengue\",11,\"de 45 a 64 anos\"],[34014,\"FORMOSA\",34,2018,17,\"Dengue\",12,\"mayores de 65 anos\"],[34014,\"FORMOSA\",34,2018,19,\"Dengue\",8,\"de 20 a 24 anos\"],[34014,\"FORMOSA\",34,2018,20,\"Dengue\",10,\"de 35 a 44 anos\"],[34028,\"Matacos\",34,2018,18,\"Dengue\",11,\"de 45 a 65 anos\"],[34028,\"Matacos\",34,2018,20,\"Dengue\",4,\"de 2 a 4 anos\"],[34035,\"PATI\\u00d1O\",34,2018,7,\"Dengue\",9,\"de 25 a 34 anos\"],[46063,\"General Belgrano\",22,2018,17,\"Dengue\",7,\"de 15 a 19 anos\"],[46063,\"General Belgrano\",22,2018,17,\"Dengue\",10,\"de 35 a 44 anos\"],[46063,\"General Belgrano\",22,2018,17,\"Dengue\",11,\"de 45 a 65 anos\"],[46063,\"General Belgrano\",22,2018,18,\"Dengue\",8,\"de 20 a 24 anos\"],[46063,\"General Belgrano\",22,2018,18,\"Dengue\",9,\"de 25 a 34 anos\"],[46063,\"General Belgrano\",22,2018,18,\"Dengue\",11,\"de 45 a 65 anos\"],[46063,\"General Belgrano\",22,2018,19,\"Dengue\",4,\"de 2 a 4 anos\"],[46063,\"General Belgrano\",22,2018,19,\"Dengue\",5,\"de 5 a 9 anos\"],[46063,\"General Belgrano\",22,2018,19,\"Dengue\",6,\"de 10 a 14 anos\"],[46063,\"General Belgrano\",22,2018,19,\"Dengue\",7,\"de 15 a 19 anos\"],[46063,\"General Belgrano\",22,2018,19,\"Dengue\",8,\"de 20 a 24 anos\"],[46063,\"General Belgrano\",22,2018,19,\"Dengue\",9,\"de 25 a 34 anos\"],[46063,\"General Belgrano\",22,2018,19,\"Dengue\",10,\"de 35 a 44 anos\"],[46063,\"General Belgrano\",22,2018,19,\"Dengue\",11,\"de 45 a 65 anos\"],[46063,\"General Belgrano\",22,2018,20,\"Dengue\",3,\"de 13 a 24 meses\"],[46063,\"General Belgrano\",22,2018,20,\"Dengue\",4,\"de 2 a 4 anos\"],[46063,\"General Belgrano\",22,2018,20,\"Dengue\",5,\"de 5 a 9 anos\"],[46063,\"General Belgrano\",22,2018,20,\"Dengue\",6,\"de 10 a 14 anos\"],[46063,\"General Belgrano\",22,2018,20,\"Dengue\",7,\"de 15 a 19 anos\"],[46063,\"General Belgrano\",22,2018,20,\"Dengue\",8,\"de 20 a 24 anos\"],[46063,\"General Belgrano\",22,2018,20,\"Dengue\",9,\"de 25 a 34 anos\"],[46063,\"General Belgrano\",22,2018,20,\"Dengue\",10,\"de 35 a 44 anos\"],[46063,\"General Belgrano\",22,2018,20,\"Dengue\",11,\"de 45 a 65 anos\"],[46063,\"General Belgrano\",22,2018,20,\"Dengue\",12,\"mayores de 65 anos\"],[46063,\"General Belgrano\",22,2018,21,\"Dengue\",1,\"posneonato (29 hasta 365 d\\u00edas)\"],[46063,\"General Belgrano\",22,2018,21,\"Dengue\",5,\"de 5 a 9 anos\"],[46063,\"General Belgrano\",22,2018,21,\"Dengue\",6,\"de 10 a 14 anos\"],[46063,\"General Belgrano\",22,2018,21,\"Dengue\",7,\"de 15 a 19 anos\"],[46063,\"General Belgrano\",22,2018,21,\"Dengue\",8,\"de 20 a 24 anos\"],[46063,\"General Belgrano\",22,2018,21,\"Dengue\",9,\"de 25 a 34 anos\"],[46063,\"General Belgrano\",22,2018,21,\"Dengue\",10,\"de 35 a 44 anos\"],[46063,\"General Belgrano\",22,2018,21,\"Dengue\",11,\"de 45 a 65 anos\"],[46063,\"General Belgrano\",22,2018,21,\"Dengue\",12,\"mayores de 65 anos\"],[46063,\"General Belgrano\",22,2018,22,\"Dengue\",5,\"de 5 a 9 anos\"],[46063,\"General Belgrano\",22,2018,22,\"Dengue\",7,\"de 15 a 19 anos\"],[46063,\"General Belgrano\",22,2018,22,\"Dengue\",9,\"de 25 a 34 anos\"],[46063,\"General Belgrano\",22,2018,22,\"Dengue\",10,\"de 35 a 44 anos\"],[46063,\"General Belgrano\",22,2018,22,\"Dengue\",11,\"de 45 a 65 anos\"],[46063,\"General Belgrano\",22,2018,23,\"Dengue\",6,\"de 10 a 14 anos\"],[46063,\"General Belgrano\",22,2018,23,\"Dengue\",7,\"de 15 a 19 anos\"],[46063,\"General Belgrano\",22,2018,23,\"Dengue\",8,\"de 20 a 24 anos\"],[46063,\"General Belgrano\",22,2018,23,\"Dengue\",9,\"de 25 a 34 anos\"],[46063,\"General Belgrano\",22,2018,23,\"Dengue\",10,\"de 35 a 44 anos\"],[46063,\"General Belgrano\",22,2018,23,\"Dengue\",11,\"de 45 a 65 anos\"],[54028,\"CAPITAL\",54,2018,2,\"Dengue\",9,\"de 25 a 34 anos\"],[54028,\"CAPITAL\",54,2018,8,\"Dengue\",9,\"de 25 a 34 anos\"],[54028,\"CAPITAL\",54,2018,8,\"Dengue\",10,\"de 35 a 44 anos\"],[54028,\"CAPITAL\",54,2018,10,\"Dengue\",7,\"de 15 a 24 anos\"],[54028,\"CAPITAL\",54,2018,15,\"Dengue\",6,\"de 10 a 14 anos\"],[54028,\"CAPITAL\",54,2018,15,\"Dengue\",12,\"mayor de  65 anos\"],[54028,\"CAPITAL\",54,2018,16,\"Dengue\",9,\"de 25 a 34 anos\"],[54028,\"CAPITAL\",54,2018,17,\"Dengue\",10,\"de 35 a 44 anos\"],[54028,\"CAPITAL\",54,2018,18,\"Dengue\",9,\"de 25 a 34 anos\"],[54028,\"CAPITAL\",54,2018,18,\"Dengue\",10,\"de 35 a 44 anos\"],[54028,\"CAPITAL\",54,2018,19,\"Dengue\",5,\"de 5 a 9 anos\"],[54028,\"CAPITAL\",54,2018,19,\"Dengue\",8,\"de 20 a 24 anos\"],[54028,\"CAPITAL\",54,2018,19,\"Dengue\",9,\"de 25 a 34 anos\"],[54028,\"CAPITAL\",54,2018,19,\"Dengue\",10,\"de 35 a 44 anos\"],[54028,\"CAPITAL\",54,2018,19,\"Dengue\",11,\"de 45 a 65 anos\"],[54028,\"CAPITAL\",54,2018,20,\"Dengue\",7,\"de 15 a 19 anos\"],[54028,\"CAPITAL\",54,2018,20,\"Dengue\",9,\"de 25 a 34 anos\"],[54028,\"CAPITAL\",54,2018,20,\"Dengue\",11,\"de 45 a 65 anos\"],[54028,\"CAPITAL\",54,2018,21,\"Dengue\",11,\"de 45 a 65 anos\"],[54028,\"CAPITAL\",54,2018,22,\"Dengue\",8,\"de 20 a 24 anos\"],[54028,\"CAPITAL\",54,2018,22,\"Dengue\",9,\"de 25 a 34 anos\"],[54028,\"CAPITAL\",54,2018,23,\"Dengue\",6,\"de 10 a 14 anos\"],[54028,\"CAPITAL\",54,2018,23,\"Dengue\",9,\"de 25 a 34 anos\"],[54028,\"CAPITAL\",54,2018,23,\"Dengue\",11,\"de 45 a 65 anos\"],[54028,\"CAPITAL\",54,2018,26,\"Dengue\",8,\"de 20 a 24 anos\"],[54028,\"CAPITAL\",54,2018,26,\"Dengue\",10,\"de 35 a 44 anos\"],[54028,\"CAPITAL\",54,2018,46,\"Dengue\",10,\"de 35 a 44 anos\"],[54028,\"CAPITAL\",54,2018,49,\"Dengue\",8,\"de 20 a 24 anos\"],[54028,\"CAPITAL\",54,2018,49,\"Dengue\",11,\"de 45 a 65 anos\"],[54035,\"Concepci\\u00f3n\",18,2018,19,\"Dengue\",11,\"de 45 a 65 anos\"],[54063,\"Iguaz\\u00fa\",54,2018,11,\"Dengue\",6,\"de 10 a 14 anos\"],[54063,\"Iguaz\\u00fa\",54,2018,13,\"Dengue\",5,\"de 5 a 9 anos\"],[54063,\"Iguaz\\u00fa\",54,2018,13,\"Dengue\",11,\"de 45 a 64 anos\"],[54063,\"Iguaz\\u00fa\",54,2018,14,\"Dengue\",10,\"de 35 a 44 anos\"],[54063,\"Iguaz\\u00fa\",54,2018,14,\"Dengue\",12,\"mayor de  65 anos\"],[54063,\"Iguaz\\u00fa\",54,2018,17,\"Dengue\",7,\"de 15 a 24 anos\"],[54063,\"Iguaz\\u00fa\",54,2018,17,\"Dengue\",10,\"de 35 a 44 anos\"],[54063,\"Iguaz\\u00fa\",54,2018,17,\"Dengue\",12,\"mayor de  65 anos\"],[54063,\"Iguaz\\u00fa\",54,2018,18,\"Dengue\",10,\"de 35 a 44 anos\"],[54063,\"Iguaz\\u00fa\",54,2018,19,\"Dengue\",6,\"de 10 a 14 anos\"],[54063,\"Iguaz\\u00fa\",54,2018,19,\"Dengue\",11,\"de 45 a 65 anos\"],[54063,\"Iguaz\\u00fa\",54,2018,21,\"Dengue\",7,\"de 15 a 19 anos\"],[54063,\"Iguaz\\u00fa\",54,2018,21,\"Dengue\",8,\"de 20 a 24 anos\"],[54077,\"Libertador Grl. San Mart\\u00edn\",54,2018,10,\"Dengue\",7,\"de 15 a 24 anos\"],[54077,\"Libertador Grl. San Mart\\u00edn\",54,2018,11,\"Dengue\",10,\"de 35 a 44 anos\"],[54077,\"Libertador Grl. San Mart\\u00edn\",54,2018,11,\"Dengue\",11,\"de 45 a 64 anos\"],[54077,\"Libertador Grl. San Mart\\u00edn\",54,2018,12,\"Dengue\",4,\"de 2 a 4 anos\"],[54077,\"Libertador Grl. San Mart\\u00edn\",54,2018,12,\"Dengue\",6,\"de 10 a 14 anos\"],[54077,\"Libertador Grl. San Mart\\u00edn\",54,2018,12,\"Dengue\",7,\"de 15 a 24 anos\"],[54077,\"Libertador Grl. San Mart\\u00edn\",54,2018,12,\"Dengue\",10,\"de 35 a 44 anos\"],[54077,\"Libertador Grl. San Mart\\u00edn\",54,2018,13,\"Dengue\",7,\"de 15 a 24 anos\"],[54077,\"Libertador Grl. San Mart\\u00edn\",54,2018,13,\"Dengue\",9,\"de 25 a 34 anos\"],[54077,\"Libertador Grl. San Mart\\u00edn\",54,2018,14,\"Dengue\",4,\"de 2 a 4 anos\"],[54077,\"Libertador Grl. San Mart\\u00edn\",54,2018,14,\"Dengue\",5,\"de 5 a 9 anos\"],[54077,\"Libertador Grl. San Mart\\u00edn\",54,2018,14,\"Dengue\",7,\"de 15 a 24 anos\"],[54077,\"Libertador Grl. San Mart\\u00edn\",54,2018,14,\"Dengue\",9,\"de 25 a 34 anos\"],[54077,\"Libertador Grl. San Mart\\u00edn\",54,2018,14,\"Dengue\",11,\"de 45 a 64 anos\"],[54077,\"Libertador Grl. San Mart\\u00edn\",54,2018,15,\"Dengue\",6,\"de 10 a 14 anos\"],[54077,\"Libertador Grl. San Mart\\u00edn\",54,2018,15,\"Dengue\",7,\"de 15 a 24 anos\"],[54077,\"Libertador Grl. San Mart\\u00edn\",54,2018,15,\"Dengue\",9,\"de 25 a 34 anos\"],[54077,\"Libertador Grl. San Mart\\u00edn\",54,2018,15,\"Dengue\",11,\"de 45 a 64 anos\"],[54077,\"Libertador Grl. San Mart\\u00edn\",54,2018,16,\"Dengue\",7,\"de 15 a 24 anos\"],[54077,\"Libertador Grl. San Mart\\u00edn\",54,2018,16,\"Dengue\",10,\"de 35 a 44 anos\"],[54077,\"Libertador Grl. San Mart\\u00edn\",54,2018,16,\"Dengue\",11,\"de 45 a 64 anos\"],[54077,\"Libertador Grl. San Mart\\u00edn\",54,2018,17,\"Dengue\",5,\"de 5 a 9 anos\"],[54077,\"Libertador Grl. San Mart\\u00edn\",54,2018,17,\"Dengue\",6,\"de 10 a 14 anos\"],[54077,\"Libertador Grl. San Mart\\u00edn\",54,2018,17,\"Dengue\",7,\"de 15 a 24 anos\"],[54077,\"Libertador Grl. San Mart\\u00edn\",54,2018,17,\"Dengue\",9,\"de 25 a 34 anos\"],[54077,\"Libertador Grl. San Mart\\u00edn\",54,2018,17,\"Dengue\",10,\"de 35 a 44 anos\"],[54077,\"Libertador Grl. San Mart\\u00edn\",54,2018,17,\"Dengue\",11,\"de 45 a 64 anos\"],[54077,\"Libertador Grl. San Mart\\u00edn\",54,2018,17,\"Dengue\",12,\"mayor de  65 anos\"],[54077,\"Libertador Grl. San Mart\\u00edn\",54,2018,18,\"Dengue\",5,\"de 5 a 9 anos\"],[54077,\"Libertador Grl. San Mart\\u00edn\",54,2018,18,\"Dengue\",6,\"de 10 a 14 anos\"],[54077,\"Libertador Grl. San Mart\\u00edn\",54,2018,18,\"Dengue\",7,\"de 15 a 19 anos\"],[54077,\"Libertador Grl. San Mart\\u00edn\",54,2018,18,\"Dengue\",8,\"de 20 a 24 anos\"],[54077,\"Libertador Grl. San Mart\\u00edn\",54,2018,18,\"Dengue\",9,\"de 25 a 34 anos\"],[54077,\"Libertador Grl. San Mart\\u00edn\",54,2018,18,\"Dengue\",10,\"de 35 a 44 anos\"],[54077,\"Libertador Grl. San Mart\\u00edn\",54,2018,18,\"Dengue\",11,\"de 45 a 65 anos\"],[54077,\"Libertador Grl. San Mart\\u00edn\",54,2018,18,\"Dengue\",12,\"mayores de 65 anos\"],[54077,\"Libertador Grl. San Mart\\u00edn\",54,2018,19,\"Dengue\",7,\"de 15 a 19 anos\"],[54077,\"Libertador Grl. San Mart\\u00edn\",54,2018,19,\"Dengue\",8,\"de 20 a 24 anos\"],[54077,\"Libertador Grl. San Mart\\u00edn\",54,2018,19,\"Dengue\",9,\"de 25 a 34 anos\"],[54077,\"Libertador Grl. San Mart\\u00edn\",54,2018,19,\"Dengue\",10,\"de 35 a 44 anos\"],[54077,\"Libertador Grl. San Mart\\u00edn\",54,2018,19,\"Dengue\",11,\"de 45 a 65 anos\"],[54077,\"Libertador Grl. San Mart\\u00edn\",54,2018,19,\"Dengue\",12,\"mayores de 65 anos\"],[54077,\"Libertador Grl. San Mart\\u00edn\",54,2018,20,\"Dengue\",6,\"de 10 a 14 anos\"],[54077,\"Libertador Grl. San Mart\\u00edn\",54,2018,20,\"Dengue\",7,\"de 15 a 19 anos\"],[54077,\"Libertador Grl. San Mart\\u00edn\",54,2018,20,\"Dengue\",8,\"de 20 a 24 anos\"],[54077,\"Libertador Grl. San Mart\\u00edn\",54,2018,20,\"Dengue\",9,\"de 25 a 34 anos\"],[54077,\"Libertador Grl. San Mart\\u00edn\",54,2018,20,\"Dengue\",11,\"de 45 a 65 anos\"],[54077,\"Libertador Grl. San Mart\\u00edn\",54,2018,20,\"Dengue\",12,\"mayores de 65 anos\"],[54077,\"Libertador Grl. San Mart\\u00edn\",54,2018,21,\"Dengue\",6,\"de 10 a 14 anos\"],[54077,\"Libertador Grl. San Mart\\u00edn\",54,2018,21,\"Dengue\",7,\"de 15 a 19 anos\"],[54077,\"Libertador Grl. San Mart\\u00edn\",54,2018,21,\"Dengue\",8,\"de 20 a 24 anos\"],[54077,\"Libertador Grl. San Mart\\u00edn\",54,2018,21,\"Dengue\",10,\"de 35 a 44 anos\"],[54077,\"Libertador Grl. San Mart\\u00edn\",54,2018,21,\"Dengue\",11,\"de 45 a 65 anos\"],[54077,\"Libertador Grl. San Mart\\u00edn\",54,2018,22,\"Dengue\",10,\"de 35 a 44 anos\"],[54077,\"Libertador Grl. San Mart\\u00edn\",54,2018,22,\"Dengue\",11,\"de 45 a 65 anos\"],[54077,\"Libertador Grl. San Mart\\u00edn\",54,2018,23,\"Dengue\",6,\"de 10 a 14 anos\"],[54077,\"Libertador Grl. San Mart\\u00edn\",54,2018,23,\"Dengue\",7,\"de 15 a 19 anos\"],[54077,\"Libertador Grl. San Mart\\u00edn\",54,2018,26,\"Dengue\",5,\"de 5 a 9 anos\"],[54077,\"Libertador Grl. San Mart\\u00edn\",54,2018,26,\"Dengue\",10,\"de 35 a 44 anos\"],[54084,\"Montecarlo\",54,2018,20,\"Dengue\",10,\"de 35 a 44 anos\"],[54098,\"San Ignacio\",54,2018,22,\"Dengue\",10,\"de 35 a 44 anos\"],[58028,\"COLON\",14,2018,12,\"Dengue\",9,\"de 25 a 34 anos\"],[66028,\"CAPITAL\",66,2018,20,\"Dengue\",11,\"de 45 a 65 anos\"],[66028,\"CAPITAL\",66,2018,23,\"Dengue\",10,\"de 35 a 44 anos\"],[66049,\"GENERAL G\\u00dcEMES\",22,2018,15,\"Dengue\",7,\"de 15 a 24 anos\"],[66049,\"GENERAL G\\u00dcEMES\",22,2018,15,\"Dengue\",9,\"de 25 a 34 anos\"],[66049,\"GENERAL G\\u00dcEMES\",22,2018,16,\"Dengue\",9,\"de 25 a 34 anos\"],[66049,\"GENERAL G\\u00dcEMES\",22,2018,45,\"Dengue\",8,\"de 20 a 24 anos\"],[66056,\"Grl. Jos\\u00e9 de San Mart\\u00edn\",66,2018,15,\"Dengue\",7,\"de 15 a 24 anos\"],[66056,\"Grl. Jos\\u00e9 de San Mart\\u00edn\",66,2018,19,\"Dengue\",1,\"posneonato (29 hasta 365 d\\u00edas)\"],[66056,\"Grl. Jos\\u00e9 de San Mart\\u00edn\",66,2018,19,\"Dengue\",8,\"de 20 a 24 anos\"],[66056,\"Grl. Jos\\u00e9 de San Mart\\u00edn\",66,2018,19,\"Dengue\",10,\"de 35 a 44 anos\"],[66056,\"Grl. Jos\\u00e9 de San Mart\\u00edn\",66,2018,19,\"Dengue\",11,\"de 45 a 65 anos\"],[66056,\"Grl. Jos\\u00e9 de San Mart\\u00edn\",66,2018,20,\"Dengue\",3,\"de 13 a 24 meses\"],[66056,\"Grl. Jos\\u00e9 de San Mart\\u00edn\",66,2018,20,\"Dengue\",4,\"de 2 a 4 anos\"],[66056,\"Grl. Jos\\u00e9 de San Mart\\u00edn\",66,2018,20,\"Dengue\",5,\"de 5 a 9 anos\"],[66056,\"Grl. Jos\\u00e9 de San Mart\\u00edn\",66,2018,20,\"Dengue\",9,\"de 25 a 34 anos\"],[66056,\"Grl. Jos\\u00e9 de San Mart\\u00edn\",66,2018,20,\"Dengue\",10,\"de 35 a 44 anos\"],[66056,\"Grl. Jos\\u00e9 de San Mart\\u00edn\",66,2018,21,\"Dengue\",5,\"de 5 a 9 anos\"],[66056,\"Grl. Jos\\u00e9 de San Mart\\u00edn\",66,2018,21,\"Dengue\",6,\"de 10 a 14 anos\"],[66056,\"Grl. Jos\\u00e9 de San Mart\\u00edn\",66,2018,22,\"Dengue\",6,\"de 10 a 14 anos\"],[66056,\"Grl. Jos\\u00e9 de San Mart\\u00edn\",66,2018,22,\"Dengue\",10,\"de 35 a 44 anos\"],[66056,\"Grl. Jos\\u00e9 de San Mart\\u00edn\",66,2018,22,\"Dengue\",11,\"de 45 a 65 anos\"],[66105,\"LOS ANDES\",66,2018,11,\"Dengue\",6,\"de 10 a 14 anos\"],[66126,\"Or\\u00e1n\",66,2018,11,\"Dengue\",8,\"de 20 a 24 anos\"],[66126,\"Or\\u00e1n\",66,2018,18,\"Dengue\",7,\"de 15 a 19 anos\"],[66126,\"Or\\u00e1n\",66,2018,18,\"Dengue\",8,\"de 20 a 24 anos\"],[66126,\"Or\\u00e1n\",66,2018,18,\"Dengue\",9,\"de 25 a 34 anos\"],[66126,\"Or\\u00e1n\",66,2018,19,\"Dengue\",7,\"de 15 a 19 anos\"],[66126,\"Or\\u00e1n\",66,2018,19,\"Dengue\",8,\"de 20 a 24 anos\"],[66126,\"Or\\u00e1n\",66,2018,19,\"Dengue\",9,\"de 25 a 34 anos\"],[66126,\"Or\\u00e1n\",66,2018,19,\"Dengue\",10,\"de 35 a 44 anos\"],[66126,\"Or\\u00e1n\",66,2018,19,\"Dengue\",11,\"de 45 a 65 anos\"],[66126,\"Or\\u00e1n\",66,2018,20,\"Dengue\",5,\"de 5 a 9 anos\"],[66126,\"Or\\u00e1n\",66,2018,20,\"Dengue\",7,\"de 15 a 19 anos\"],[66126,\"Or\\u00e1n\",66,2018,20,\"Dengue\",8,\"de 20 a 24 anos\"],[66126,\"Or\\u00e1n\",66,2018,20,\"Dengue\",9,\"de 25 a 34 anos\"],[66126,\"Or\\u00e1n\",66,2018,20,\"Dengue\",10,\"de 35 a 44 anos\"],[66126,\"Or\\u00e1n\",66,2018,20,\"Dengue\",11,\"de 45 a 65 anos\"],[66126,\"Or\\u00e1n\",66,2018,21,\"Dengue\",7,\"de 15 a 19 anos\"],[66126,\"Or\\u00e1n\",66,2018,21,\"Dengue\",9,\"de 25 a 34 anos\"],[66126,\"Or\\u00e1n\",66,2018,22,\"Dengue\",6,\"de 10 a 14 anos\"],[66126,\"Or\\u00e1n\",66,2018,22,\"Dengue\",10,\"de 35 a 44 anos\"],[66126,\"Or\\u00e1n\",66,2018,22,\"Dengue\",11,\"de 45 a 65 anos\"],[66126,\"Or\\u00e1n\",66,2018,22,\"Dengue\",12,\"mayores de 65 anos\"],[66126,\"Or\\u00e1n\",66,2018,23,\"Dengue\",7,\"de 15 a 19 anos\"],[66126,\"Or\\u00e1n\",66,2018,23,\"Dengue\",9,\"de 25 a 34 anos\"],[74028,\"CHACABUCO\",22,2018,12,\"Dengue\",10,\"de 35 a 44 anos\"],[74028,\"CHACABUCO\",22,2018,12,\"Dengue\",11,\"de 45 a 64 anos\"],[74028,\"CHACABUCO\",22,2018,13,\"Dengue\",6,\"de 10 a 14 anos\"],[74028,\"CHACABUCO\",22,2018,13,\"Dengue\",7,\"de 15 a 24 anos\"],[74028,\"CHACABUCO\",22,2018,13,\"Dengue\",9,\"de 25 a 34 anos\"],[74028,\"CHACABUCO\",22,2018,13,\"Dengue\",10,\"de 35 a 44 anos\"],[74028,\"CHACABUCO\",22,2018,13,\"Dengue\",11,\"de 45 a 64 anos\"],[74028,\"CHACABUCO\",22,2018,14,\"Dengue\",5,\"de 5 a 9 anos\"],[74028,\"CHACABUCO\",22,2018,14,\"Dengue\",6,\"de 10 a 14 anos\"],[74028,\"CHACABUCO\",22,2018,14,\"Dengue\",7,\"de 15 a 19 anos\"],[74028,\"CHACABUCO\",22,2018,14,\"Dengue\",7,\"de 15 a 24 anos\"],[74028,\"CHACABUCO\",22,2018,14,\"Dengue\",9,\"de 25 a 34 anos\"],[74028,\"CHACABUCO\",22,2018,14,\"Dengue\",10,\"de 35 a 44 anos\"],[74028,\"CHACABUCO\",22,2018,14,\"Dengue\",11,\"de 45 a 64 anos\"],[74028,\"CHACABUCO\",22,2018,15,\"Dengue\",7,\"de 15 a 24 anos\"],[74028,\"CHACABUCO\",22,2018,15,\"Dengue\",9,\"de 25 a 34 anos\"],[74028,\"CHACABUCO\",22,2018,15,\"Dengue\",10,\"de 35 a 44 anos\"],[74028,\"CHACABUCO\",22,2018,15,\"Dengue\",11,\"de 45 a 64 anos\"],[74028,\"CHACABUCO\",22,2018,16,\"Dengue\",7,\"de 15 a 24 anos\"],[74028,\"CHACABUCO\",22,2018,16,\"Dengue\",9,\"de 25 a 34 anos\"],[74028,\"CHACABUCO\",22,2018,16,\"Dengue\",10,\"de 35 a 44 anos\"],[74028,\"CHACABUCO\",22,2018,16,\"Dengue\",11,\"de 45 a 64 anos\"],[74028,\"CHACABUCO\",22,2018,17,\"Dengue\",3,\"de 13 a 24 meses\"],[74028,\"CHACABUCO\",22,2018,17,\"Dengue\",5,\"de 5 a 9 anos\"],[74028,\"CHACABUCO\",22,2018,17,\"Dengue\",6,\"de 10 a 14 anos\"],[74028,\"CHACABUCO\",22,2018,17,\"Dengue\",7,\"de 15 a 19 anos\"],[74028,\"CHACABUCO\",22,2018,17,\"Dengue\",7,\"de 15 a 24 anos\"],[74028,\"CHACABUCO\",22,2018,17,\"Dengue\",8,\"de 20 a 24 anos\"],[74028,\"CHACABUCO\",22,2018,17,\"Dengue\",9,\"de 25 a 34 anos\"],[74028,\"CHACABUCO\",22,2018,17,\"Dengue\",10,\"de 35 a 44 anos\"],[74028,\"CHACABUCO\",22,2018,17,\"Dengue\",11,\"de 45 a 64 anos\"],[74028,\"CHACABUCO\",22,2018,17,\"Dengue\",11,\"de 45 a 65 anos\"],[74028,\"CHACABUCO\",22,2018,17,\"Dengue\",12,\"mayor de  65 anos\"],[74028,\"CHACABUCO\",22,2018,17,\"Dengue\",12,\"mayores de 65 anos\"],[74028,\"CHACABUCO\",22,2018,18,\"Dengue\",5,\"de 5 a 9 anos\"],[74028,\"CHACABUCO\",22,2018,18,\"Dengue\",6,\"de 10 a 14 anos\"],[74028,\"CHACABUCO\",22,2018,18,\"Dengue\",7,\"de 15 a 19 anos\"],[74028,\"CHACABUCO\",22,2018,18,\"Dengue\",8,\"de 20 a 24 anos\"],[74028,\"CHACABUCO\",22,2018,18,\"Dengue\",9,\"de 25 a 34 anos\"],[74028,\"CHACABUCO\",22,2018,18,\"Dengue\",10,\"de 35 a 44 anos\"],[74028,\"CHACABUCO\",22,2018,18,\"Dengue\",11,\"de 45 a 65 anos\"],[74028,\"CHACABUCO\",22,2018,19,\"Dengue\",5,\"de 5 a 9 anos\"],[74028,\"CHACABUCO\",22,2018,19,\"Dengue\",6,\"de 10 a 14 anos\"],[74028,\"CHACABUCO\",22,2018,19,\"Dengue\",7,\"de 15 a 19 anos\"],[74028,\"CHACABUCO\",22,2018,19,\"Dengue\",8,\"de 20 a 24 anos\"],[74028,\"CHACABUCO\",22,2018,19,\"Dengue\",9,\"de 25 a 34 anos\"],[74028,\"CHACABUCO\",22,2018,19,\"Dengue\",10,\"de 35 a 44 anos\"],[74028,\"CHACABUCO\",22,2018,19,\"Dengue\",11,\"de 45 a 65 anos\"],[74028,\"CHACABUCO\",22,2018,20,\"Dengue\",3,\"de 13 a 24 meses\"],[74028,\"CHACABUCO\",22,2018,20,\"Dengue\",5,\"de 5 a 9 anos\"],[74028,\"CHACABUCO\",22,2018,20,\"Dengue\",6,\"de 10 a 14 anos\"],[74028,\"CHACABUCO\",22,2018,20,\"Dengue\",7,\"de 15 a 19 anos\"],[74028,\"CHACABUCO\",22,2018,20,\"Dengue\",8,\"de 20 a 24 anos\"],[74028,\"CHACABUCO\",22,2018,20,\"Dengue\",9,\"de 25 a 34 anos\"],[74028,\"CHACABUCO\",22,2018,20,\"Dengue\",10,\"de 35 a 44 anos\"],[74028,\"CHACABUCO\",22,2018,20,\"Dengue\",11,\"de 45 a 65 anos\"],[74028,\"CHACABUCO\",22,2018,21,\"Dengue\",6,\"de 10 a 14 anos\"],[74028,\"CHACABUCO\",22,2018,21,\"Dengue\",7,\"de 15 a 19 anos\"],[74028,\"CHACABUCO\",22,2018,21,\"Dengue\",8,\"de 20 a 24 anos\"],[74028,\"CHACABUCO\",22,2018,21,\"Dengue\",9,\"de 25 a 34 anos\"],[74028,\"CHACABUCO\",22,2018,21,\"Dengue\",10,\"de 35 a 44 anos\"],[74028,\"CHACABUCO\",22,2018,21,\"Dengue\",11,\"de 45 a 65 anos\"],[74028,\"CHACABUCO\",22,2018,22,\"Dengue\",6,\"de 10 a 14 anos\"],[74028,\"CHACABUCO\",22,2018,22,\"Dengue\",7,\"de 15 a 19 anos\"],[74028,\"CHACABUCO\",22,2018,22,\"Dengue\",11,\"de 45 a 65 anos\"],[74028,\"CHACABUCO\",22,2018,23,\"Dengue\",7,\"de 15 a 19 anos\"],[74028,\"CHACABUCO\",22,2018,23,\"Dengue\",9,\"de 25 a 34 anos\"],[74028,\"CHACABUCO\",22,2018,23,\"Dengue\",10,\"de 35 a 44 anos\"],[82021,\"Castellanos\",82,2018,20,\"Dengue\",9,\"de 25 a 34 anos\"],[82049,\"General Obligado\",82,2018,19,\"Dengue\",8,\"de 20 a 24 anos\"],[82049,\"General Obligado\",82,2018,21,\"Dengue\",8,\"de 20 a 24 anos\"],[82049,\"General Obligado\",82,2018,22,\"Dengue\",9,\"de 25 a 34 anos\"],[82049,\"General Obligado\",82,2018,23,\"Dengue\",9,\"de 25 a 34 anos\"],[82084,\"ROSARIO\",82,2018,15,\"Dengue\",9,\"de 25 a 34 anos\"],[82084,\"ROSARIO\",82,2018,18,\"Dengue\",10,\"de 35 a 44 anos\"],[82084,\"ROSARIO\",82,2018,19,\"Dengue\",9,\"de 25 a 34 anos\"],[82084,\"ROSARIO\",82,2018,50,\"Dengue\",11,\"de 45 a 65 anos\"],[82119,\"San Lorenzo\",22,2018,19,\"Dengue\",9,\"de 25 a 34 anos\"],[86035,\"Banda\",86,2018,5,\"Dengue\",7,\"de 15 a 19 anos\"],[86035,\"Banda\",86,2018,15,\"Dengue\",4,\"de 2 a 4 anos\"],[86035,\"Banda\",86,2018,16,\"Dengue\",1,\"menor que 1 ano\"],[86035,\"Banda\",86,2018,17,\"Dengue\",7,\"de 15 a 19 anos\"],[86035,\"Banda\",86,2018,17,\"Dengue\",7,\"de 15 a 24 anos\"],[86035,\"Banda\",86,2018,18,\"Dengue\",3,\"de 13 a 24 meses\"],[86049,\"CAPITAL\",86,2018,5,\"Dengue\",9,\"de 25 a 34 anos\"],[86049,\"CAPITAL\",86,2018,5,\"Dengue\",12,\"mayores de 65 anos\"],[86049,\"CAPITAL\",86,2018,14,\"Dengue\",10,\"de 35 a 44 anos\"],[86049,\"CAPITAL\",86,2018,15,\"Dengue\",7,\"de 15 a 24 anos\"],[86049,\"CAPITAL\",86,2018,15,\"Dengue\",9,\"de 25 a 34 anos\"],[86049,\"CAPITAL\",86,2018,15,\"Dengue\",10,\"de 35 a 44 anos\"],[86049,\"CAPITAL\",86,2018,15,\"Dengue\",11,\"de 45 a 64 anos\"],[86049,\"CAPITAL\",86,2018,16,\"Dengue\",1,\"menor que 1 ano\"],[86049,\"CAPITAL\",86,2018,16,\"Dengue\",4,\"de 2 a 4 anos\"],[86049,\"CAPITAL\",86,2018,16,\"Dengue\",5,\"de 5 a 9 anos\"],[86049,\"CAPITAL\",86,2018,16,\"Dengue\",6,\"de 10 a 14 anos\"],[86049,\"CAPITAL\",86,2018,16,\"Dengue\",7,\"de 15 a 24 anos\"],[86049,\"CAPITAL\",86,2018,16,\"Dengue\",9,\"de 25 a 34 anos\"],[86049,\"CAPITAL\",86,2018,16,\"Dengue\",10,\"de 35 a 44 anos\"],[86049,\"CAPITAL\",86,2018,16,\"Dengue\",11,\"de 45 a 64 anos\"],[86049,\"CAPITAL\",86,2018,16,\"Dengue\",11,\"de 45 a 65 anos\"],[86049,\"CAPITAL\",86,2018,16,\"Dengue\",12,\"mayor de  65 anos\"],[86049,\"CAPITAL\",86,2018,17,\"Dengue\",1,\"posneonato (29 hasta 365 d\\u00edas)\"],[86049,\"CAPITAL\",86,2018,17,\"Dengue\",3,\"de 13 a 24 meses\"],[86049,\"CAPITAL\",86,2018,17,\"Dengue\",4,\"de 2 a 4 anos\"],[86049,\"CAPITAL\",86,2018,17,\"Dengue\",5,\"de 5 a 9 anos\"],[86049,\"CAPITAL\",86,2018,17,\"Dengue\",6,\"de 10 a 14 anos\"],[86049,\"CAPITAL\",86,2018,17,\"Dengue\",7,\"de 15 a 19 anos\"],[86049,\"CAPITAL\",86,2018,17,\"Dengue\",7,\"de 15 a 24 anos\"],[86049,\"CAPITAL\",86,2018,17,\"Dengue\",8,\"de 20 a 24 anos\"],[86049,\"CAPITAL\",86,2018,17,\"Dengue\",9,\"de 25 a 34 anos\"],[86049,\"CAPITAL\",86,2018,17,\"Dengue\",10,\"de 35 a 44 anos\"],[86049,\"CAPITAL\",86,2018,17,\"Dengue\",11,\"de 45 a 64 anos\"],[86049,\"CAPITAL\",86,2018,17,\"Dengue\",11,\"de 45 a 65 anos\"],[86049,\"CAPITAL\",86,2018,18,\"Dengue\",4,\"de 2 a 4 anos\"],[86049,\"CAPITAL\",86,2018,18,\"Dengue\",5,\"de 5 a 9 anos\"],[86049,\"CAPITAL\",86,2018,18,\"Dengue\",6,\"de 10 a 14 anos\"],[86049,\"CAPITAL\",86,2018,18,\"Dengue\",7,\"de 15 a 19 anos\"],[86049,\"CAPITAL\",86,2018,18,\"Dengue\",8,\"de 20 a 24 anos\"],[86049,\"CAPITAL\",86,2018,18,\"Dengue\",9,\"de 25 a 34 anos\"],[86049,\"CAPITAL\",86,2018,18,\"Dengue\",11,\"de 45 a 65 anos\"],[86049,\"CAPITAL\",86,2018,20,\"Dengue\",11,\"de 45 a 65 anos\"],[86049,\"CAPITAL\",86,2018,21,\"Dengue\",3,\"de 13 a 24 meses\"],[86049,\"CAPITAL\",86,2018,21,\"Dengue\",5,\"de 5 a 9 anos\"],[86049,\"CAPITAL\",86,2018,21,\"Dengue\",6,\"de 10 a 14 anos\"],[86049,\"CAPITAL\",86,2018,21,\"Dengue\",7,\"de 15 a 19 anos\"],[86049,\"CAPITAL\",86,2018,21,\"Dengue\",8,\"de 20 a 24 anos\"],[86049,\"CAPITAL\",86,2018,21,\"Dengue\",9,\"de 25 a 34 anos\"],[86049,\"CAPITAL\",86,2018,21,\"Dengue\",11,\"de 45 a 65 anos\"],[86063,\"Ciudad de Buenos Aires\",2,2018,18,\"Dengue\",9,\"de 25 a 34 anos\"],[86147,\"R\\u00edo Hondo\",86,2018,18,\"Dengue\",4,\"de 2 a 4 anos\"],[86147,\"R\\u00edo Hondo\",86,2018,20,\"Dengue\",10,\"de 35 a 44 anos\"],[86147,\"R\\u00edo Hondo\",86,2018,21,\"Dengue\",1,\"sin especificar\"],[90021,\"CHICLIGASTA\",90,2018,14,\"Dengue\",10,\"de 35 a 44 anos\"],[90084,\"CAPITAL\",14,2018,12,\"Dengue\",7,\"de 15 a 24 anos\"],[90084,\"CAPITAL\",14,2018,12,\"Dengue\",9,\"de 25 a 34 anos\"],[90084,\"CAPITAL\",14,2018,13,\"Dengue\",7,\"de 15 a 24 anos\"],[90084,\"CAPITAL\",14,2018,13,\"Dengue\",9,\"de 25 a 34 anos\"],[90084,\"CAPITAL\",14,2018,13,\"Dengue\",10,\"de 35 a 44 anos\"],[90084,\"CAPITAL\",14,2018,13,\"Dengue\",11,\"de 45 a 64 anos\"],[90084,\"CAPITAL\",14,2018,15,\"Dengue\",7,\"de 15 a 24 anos\"],[90084,\"CAPITAL\",14,2018,16,\"Dengue\",10,\"de 35 a 44 anos\"],[90084,\"CAPITAL\",14,2018,16,\"Dengue\",11,\"de 45 a 64 anos\"],[90084,\"CAPITAL\",14,2018,17,\"Dengue\",11,\"de 45 a 65 anos\"],[90119,\"Yerba Buena\",90,2018,20,\"Dengue\",6,\"de 10 a 14 anos\"]],\"fillcolor\":\"rgba(255,255,255,0)\",\"hoveron\":\"points\",\"hovertemplate\":\"evento_nombre=%{customdata[5]}<br>provincia_nombre=%{x}<br>departamento_id=%{customdata[0]}<br>departamento_nombre=%{customdata[1]}<br>provincia_id=%{customdata[2]}<br>ano=%{customdata[3]}<br>semanas_epidemiologicas=%{customdata[4]}<br>grupo_edad_id=%{customdata[6]}<br>grupo_edad_desc=%{customdata[7]}<extra></extra>\",\"jitter\":0,\"legendgroup\":\"Dengue\",\"line\":{\"color\":\"rgba(255,255,255,0)\"},\"marker\":{\"color\":\"#636efa\",\"symbol\":\"line-ns-open\"},\"name\":\"Dengue\",\"offsetgroup\":\"Dengue\",\"showlegend\":false,\"x\":[\"CABA\",\"CABA\",\"Buenos Aires\",\"Buenos Aires\",\"Buenos Aires\",\"Buenos Aires\",\"Buenos Aires\",\"Buenos Aires\",\"Buenos Aires\",\"Mendoza\",\"Santa Fe\",\"Santa Fe\",\"CABA\",\"CABA\",\"CABA\",\"CABA\",\"CABA\",\"CABA\",\"CABA\",\"CABA\",\"CABA\",\"CABA\",\"CABA\",\"CABA\",\"CABA\",\"CABA\",\"CABA\",\"CABA\",\"CABA\",\"CABA\",\"CABA\",\"CABA\",\"CABA\",\"CABA\",\"CABA\",\"CABA\",\"CABA\",\"CABA\",\"CABA\",\"CABA\",\"CABA\",\"CABA\",\"CABA\",\"CABA\",\"CABA\",\"CABA\",\"CABA\",\"CABA\",\"CABA\",\"CABA\",\"CABA\",\"CABA\",\"CABA\",\"CABA\",\"CABA\",\"CABA\",\"CABA\",\"CABA\",\"CABA\",\"CABA\",\"CABA\",\"CABA\",\"CABA\",\"CABA\",\"CABA\",\"CABA\",\"CABA\",\"CABA\",\"CABA\",\"CABA\",\"CABA\",\"CABA\",\"CABA\",\"CABA\",\"CABA\",\"CABA\",\"CABA\",\"CABA\",\"CABA\",\"CABA\",\"CABA\",\"CABA\",\"CABA\",\"CABA\",\"CABA\",\"CABA\",\"CABA\",\"CABA\",\"CABA\",\"CABA\",\"CABA\",\"CABA\",\"CABA\",\"CABA\",\"CABA\",\"CABA\",\"CABA\",\"CABA\",\"CABA\",\"CABA\",\"CABA\",\"CABA\",\"CABA\",\"CABA\",\"CABA\",\"CABA\",\"CABA\",\"Buenos Aires\",\"Buenos Aires\",\"Buenos Aires\",\"Buenos Aires\",\"Buenos Aires\",\"Buenos Aires\",\"Buenos Aires\",\"Buenos Aires\",\"Buenos Aires\",\"Buenos Aires\",\"Buenos Aires\",\"Buenos Aires\",\"Buenos Aires\",\"Buenos Aires\",\"Buenos Aires\",\"Buenos Aires\",\"Buenos Aires\",\"Buenos Aires\",\"Buenos Aires\",\"Buenos Aires\",\"Buenos Aires\",\"Buenos Aires\",\"Buenos Aires\",\"Buenos Aires\",\"Buenos Aires\",\"Buenos Aires\",\"Buenos Aires\",\"Buenos Aires\",\"Buenos Aires\",\"Buenos Aires\",\"Buenos Aires\",\"Buenos Aires\",\"Buenos Aires\",\"Buenos Aires\",\"Buenos Aires\",\"Buenos Aires\",\"Buenos Aires\",\"Buenos Aires\",\"Buenos Aires\",\"Buenos Aires\",\"Buenos Aires\",\"Buenos Aires\",\"CABA\",\"Buenos Aires\",\"DESCONOCIDA\",\"DESCONOCIDA\",\"Corrientes\",\"Buenos Aires\",\"Buenos Aires\",\"Buenos Aires\",\"Buenos Aires\",\"Buenos Aires\",\"Buenos Aires\",\"Buenos Aires\",\"Buenos Aires\",\"Buenos Aires\",\"Buenos Aires\",\"Buenos Aires\",\"Buenos Aires\",\"Buenos Aires\",\"Buenos Aires\",\"Buenos Aires\",\"Buenos Aires\",\"Buenos Aires\",\"Buenos Aires\",\"Buenos Aires\",\"Buenos Aires\",\"Buenos Aires\",\"Buenos Aires\",\"Buenos Aires\",\"Buenos Aires\",\"Buenos Aires\",\"Buenos Aires\",\"Buenos Aires\",\"Buenos Aires\",\"Buenos Aires\",\"Buenos Aires\",\"Buenos Aires\",\"Buenos Aires\",\"Buenos Aires\",\"Buenos Aires\",\"Buenos Aires\",\"Buenos Aires\",\"Buenos Aires\",\"Buenos Aires\",\"Buenos Aires\",\"Buenos Aires\",\"Buenos Aires\",\"Buenos Aires\",\"Buenos Aires\",\"Buenos Aires\",\"Buenos Aires\",\"Buenos Aires\",\"Buenos Aires\",\"Buenos Aires\",\"Buenos Aires\",\"Buenos Aires\",\"Buenos Aires\",\"Buenos Aires\",\"Buenos Aires\",\"Buenos Aires\",\"Buenos Aires\",\"Buenos Aires\",\"Buenos Aires\",\"Buenos Aires\",\"Buenos Aires\",\"Buenos Aires\",\"Buenos Aires\",\"Chaco\",\"Chaco\",\"Chaco\",\"Chaco\",\"Chaco\",\"Chaco\",\"Chaco\",\"Chaco\",\"Chaco\",\"Chaco\",\"Chaco\",\"Chaco\",\"Chaco\",\"Chaco\",\"Chaco\",\"Chaco\",\"Buenos Aires\",\"Buenos Aires\",\"Buenos Aires\",\"Buenos Aires\",\"Buenos Aires\",\"Buenos Aires\",\"Buenos Aires\",\"Buenos Aires\",\"Buenos Aires\",\"Buenos Aires\",\"Buenos Aires\",\"Buenos Aires\",\"Buenos Aires\",\"Buenos Aires\",\"Buenos Aires\",\"Buenos Aires\",\"Buenos Aires\",\"Buenos Aires\",\"Buenos Aires\",\"Buenos Aires\",\"Buenos Aires\",\"Buenos Aires\",\"Buenos Aires\",\"Buenos Aires\",\"Buenos Aires\",\"Buenos Aires\",\"Buenos Aires\",\"Buenos Aires\",\"Buenos Aires\",\"Buenos Aires\",\"Buenos Aires\",\"Buenos Aires\",\"C\\u00f3rdoba\",\"Corrientes\",\"Corrientes\",\"Corrientes\",\"Corrientes\",\"Corrientes\",\"Corrientes\",\"Corrientes\",\"Corrientes\",\"Corrientes\",\"Corrientes\",\"Corrientes\",\"Corrientes\",\"Corrientes\",\"Corrientes\",\"Corrientes\",\"Corrientes\",\"Corrientes\",\"Corrientes\",\"Corrientes\",\"Corrientes\",\"Corrientes\",\"Corrientes\",\"Corrientes\",\"Corrientes\",\"Corrientes\",\"Corrientes\",\"Corrientes\",\"Corrientes\",\"Corrientes\",\"Corrientes\",\"Corrientes\",\"Corrientes\",\"Corrientes\",\"Corrientes\",\"Corrientes\",\"Corrientes\",\"Corrientes\",\"Corrientes\",\"Corrientes\",\"Corrientes\",\"Corrientes\",\"Corrientes\",\"Corrientes\",\"Corrientes\",\"Corrientes\",\"Corrientes\",\"Corrientes\",\"Corrientes\",\"Corrientes\",\"Corrientes\",\"Corrientes\",\"Corrientes\",\"Corrientes\",\"Corrientes\",\"Corrientes\",\"Corrientes\",\"Corrientes\",\"Corrientes\",\"Corrientes\",\"Corrientes\",\"Corrientes\",\"Corrientes\",\"Corrientes\",\"Corrientes\",\"Corrientes\",\"Corrientes\",\"Buenos Aires\",\"Corrientes\",\"Corrientes\",\"Chaco\",\"Chaco\",\"Chaco\",\"Chaco\",\"Chaco\",\"Chaco\",\"Chaco\",\"Chaco\",\"Chaco\",\"Chaco\",\"Chaco\",\"Chaco\",\"Chaco\",\"Chaco\",\"Chaco\",\"Chaco\",\"Chaco\",\"Chaco\",\"Chaco\",\"Chaco\",\"Chaco\",\"Chaco\",\"Chaco\",\"Chaco\",\"Chaco\",\"Chaco\",\"Chaco\",\"Chaco\",\"Chaco\",\"Chaco\",\"Chaco\",\"Chaco\",\"Chaco\",\"Chaco\",\"Chaco\",\"Chaco\",\"Chaco\",\"Chaco\",\"Chaco\",\"Chaco\",\"Chaco\",\"Chaco\",\"Chaco\",\"Chaco\",\"Chaco\",\"Chaco\",\"Chaco\",\"Chaco\",\"Chaco\",\"Chaco\",\"Chaco\",\"Chaco\",\"Chaco\",\"Chaco\",\"Chaco\",\"Chaco\",\"Chaco\",\"Chaco\",\"Chaco\",\"Chaco\",\"Chaco\",\"Chaco\",\"Chaco\",\"Chaco\",\"Chaco\",\"Chaco\",\"Chaco\",\"Chaco\",\"Chaco\",\"Chaco\",\"Chaco\",\"Chaco\",\"Chaco\",\"Chaco\",\"Chaco\",\"Chaco\",\"Chaco\",\"Chaco\",\"Chaco\",\"Chaco\",\"Chaco\",\"Chaco\",\"Chaco\",\"Chaco\",\"Chaco\",\"Chaco\",\"Chaco\",\"Chaco\",\"Chaco\",\"Chaco\",\"Chaco\",\"Chaco\",\"Chaco\",\"Chaco\",\"Chaco\",\"Chaco\",\"Chaco\",\"Chaco\",\"Chaco\",\"Chaco\",\"Chaco\",\"Chaco\",\"Chaco\",\"Chaco\",\"Chaco\",\"Chaco\",\"Chaco\",\"Chaco\",\"Chaco\",\"Chaco\",\"Chaco\",\"Chaco\",\"Chaco\",\"Chaco\",\"Chaco\",\"Chaco\",\"Chaco\",\"Chaco\",\"Chaco\",\"Chaco\",\"Chaco\",\"Chaco\",\"Chaco\",\"Chaco\",\"Chaco\",\"Chaco\",\"Chaco\",\"Chaco\",\"Chaco\",\"Chaco\",\"Chaco\",\"Chaco\",\"Chaco\",\"Chaco\",\"Chaco\",\"Chaco\",\"Chaco\",\"Chaco\",\"Chaco\",\"Chaco\",\"Chaco\",\"Chaco\",\"Chaco\",\"Chaco\",\"Chaco\",\"Chaco\",\"Chaco\",\"Chaco\",\"Chaco\",\"Chaco\",\"Chaco\",\"Chaco\",\"Chaco\",\"Chaco\",\"Chaco\",\"Chaco\",\"Chaco\",\"Chaco\",\"Chaco\",\"Chaco\",\"Chaco\",\"Chaco\",\"Chaco\",\"Chaco\",\"Chaco\",\"Chaco\",\"Chaco\",\"Chaco\",\"Chaco\",\"Chaco\",\"Chaco\",\"Chaco\",\"Chaco\",\"Chaco\",\"Chaco\",\"Chaco\",\"Chaco\",\"Chaco\",\"Chaco\",\"Chaco\",\"Chaco\",\"Chaco\",\"Chaco\",\"Chaco\",\"Chaco\",\"Chaco\",\"Chaco\",\"Chaco\",\"Chaco\",\"Entre R\\u00edos\",\"Entre R\\u00edos\",\"Entre R\\u00edos\",\"Entre R\\u00edos\",\"Entre R\\u00edos\",\"Entre R\\u00edos\",\"Formosa\",\"Formosa\",\"Formosa\",\"Formosa\",\"Formosa\",\"Formosa\",\"Formosa\",\"Formosa\",\"Formosa\",\"Formosa\",\"Formosa\",\"Formosa\",\"Formosa\",\"Formosa\",\"Formosa\",\"Formosa\",\"Formosa\",\"Formosa\",\"Formosa\",\"Formosa\",\"Formosa\",\"Formosa\",\"Chaco\",\"Chaco\",\"Chaco\",\"Chaco\",\"Chaco\",\"Chaco\",\"Chaco\",\"Chaco\",\"Chaco\",\"Chaco\",\"Chaco\",\"Chaco\",\"Chaco\",\"Chaco\",\"Chaco\",\"Chaco\",\"Chaco\",\"Chaco\",\"Chaco\",\"Chaco\",\"Chaco\",\"Chaco\",\"Chaco\",\"Chaco\",\"Chaco\",\"Chaco\",\"Chaco\",\"Chaco\",\"Chaco\",\"Chaco\",\"Chaco\",\"Chaco\",\"Chaco\",\"Chaco\",\"Chaco\",\"Chaco\",\"Chaco\",\"Chaco\",\"Chaco\",\"Chaco\",\"Chaco\",\"Chaco\",\"Chaco\",\"Chaco\",\"Misiones\",\"Misiones\",\"Misiones\",\"Misiones\",\"Misiones\",\"Misiones\",\"Misiones\",\"Misiones\",\"Misiones\",\"Misiones\",\"Misiones\",\"Misiones\",\"Misiones\",\"Misiones\",\"Misiones\",\"Misiones\",\"Misiones\",\"Misiones\",\"Misiones\",\"Misiones\",\"Misiones\",\"Misiones\",\"Misiones\",\"Misiones\",\"Misiones\",\"Misiones\",\"Misiones\",\"Misiones\",\"Misiones\",\"Corrientes\",\"Misiones\",\"Misiones\",\"Misiones\",\"Misiones\",\"Misiones\",\"Misiones\",\"Misiones\",\"Misiones\",\"Misiones\",\"Misiones\",\"Misiones\",\"Misiones\",\"Misiones\",\"Misiones\",\"Misiones\",\"Misiones\",\"Misiones\",\"Misiones\",\"Misiones\",\"Misiones\",\"Misiones\",\"Misiones\",\"Misiones\",\"Misiones\",\"Misiones\",\"Misiones\",\"Misiones\",\"Misiones\",\"Misiones\",\"Misiones\",\"Misiones\",\"Misiones\",\"Misiones\",\"Misiones\",\"Misiones\",\"Misiones\",\"Misiones\",\"Misiones\",\"Misiones\",\"Misiones\",\"Misiones\",\"Misiones\",\"Misiones\",\"Misiones\",\"Misiones\",\"Misiones\",\"Misiones\",\"Misiones\",\"Misiones\",\"Misiones\",\"Misiones\",\"Misiones\",\"Misiones\",\"Misiones\",\"Misiones\",\"Misiones\",\"Misiones\",\"Misiones\",\"Misiones\",\"Misiones\",\"Misiones\",\"Misiones\",\"Misiones\",\"Misiones\",\"Misiones\",\"Misiones\",\"Misiones\",\"Misiones\",\"Misiones\",\"Misiones\",\"Misiones\",\"Misiones\",\"Misiones\",\"Misiones\",\"C\\u00f3rdoba\",\"Salta\",\"Salta\",\"Chaco\",\"Chaco\",\"Chaco\",\"Chaco\",\"Salta\",\"Salta\",\"Salta\",\"Salta\",\"Salta\",\"Salta\",\"Salta\",\"Salta\",\"Salta\",\"Salta\",\"Salta\",\"Salta\",\"Salta\",\"Salta\",\"Salta\",\"Salta\",\"Salta\",\"Salta\",\"Salta\",\"Salta\",\"Salta\",\"Salta\",\"Salta\",\"Salta\",\"Salta\",\"Salta\",\"Salta\",\"Salta\",\"Salta\",\"Salta\",\"Salta\",\"Salta\",\"Salta\",\"Salta\",\"Salta\",\"Salta\",\"Salta\",\"Salta\",\"Salta\",\"Chaco\",\"Chaco\",\"Chaco\",\"Chaco\",\"Chaco\",\"Chaco\",\"Chaco\",\"Chaco\",\"Chaco\",\"Chaco\",\"Chaco\",\"Chaco\",\"Chaco\",\"Chaco\",\"Chaco\",\"Chaco\",\"Chaco\",\"Chaco\",\"Chaco\",\"Chaco\",\"Chaco\",\"Chaco\",\"Chaco\",\"Chaco\",\"Chaco\",\"Chaco\",\"Chaco\",\"Chaco\",\"Chaco\",\"Chaco\",\"Chaco\",\"Chaco\",\"Chaco\",\"Chaco\",\"Chaco\",\"Chaco\",\"Chaco\",\"Chaco\",\"Chaco\",\"Chaco\",\"Chaco\",\"Chaco\",\"Chaco\",\"Chaco\",\"Chaco\",\"Chaco\",\"Chaco\",\"Chaco\",\"Chaco\",\"Chaco\",\"Chaco\",\"Chaco\",\"Chaco\",\"Chaco\",\"Chaco\",\"Chaco\",\"Chaco\",\"Chaco\",\"Chaco\",\"Chaco\",\"Chaco\",\"Chaco\",\"Chaco\",\"Chaco\",\"Chaco\",\"Chaco\",\"Chaco\",\"Chaco\",\"Santa Fe\",\"Santa Fe\",\"Santa Fe\",\"Santa Fe\",\"Santa Fe\",\"Santa Fe\",\"Santa Fe\",\"Santa Fe\",\"Santa Fe\",\"Chaco\",\"Santiago del Estero\",\"Santiago del Estero\",\"Santiago del Estero\",\"Santiago del Estero\",\"Santiago del Estero\",\"Santiago del Estero\",\"Santiago del Estero\",\"Santiago del Estero\",\"Santiago del Estero\",\"Santiago del Estero\",\"Santiago del Estero\",\"Santiago del Estero\",\"Santiago del Estero\",\"Santiago del Estero\",\"Santiago del Estero\",\"Santiago del Estero\",\"Santiago del Estero\",\"Santiago del Estero\",\"Santiago del Estero\",\"Santiago del Estero\",\"Santiago del Estero\",\"Santiago del Estero\",\"Santiago del Estero\",\"Santiago del Estero\",\"Santiago del Estero\",\"Santiago del Estero\",\"Santiago del Estero\",\"Santiago del Estero\",\"Santiago del Estero\",\"Santiago del Estero\",\"Santiago del Estero\",\"Santiago del Estero\",\"Santiago del Estero\",\"Santiago del Estero\",\"Santiago del Estero\",\"Santiago del Estero\",\"Santiago del Estero\",\"Santiago del Estero\",\"Santiago del Estero\",\"Santiago del Estero\",\"Santiago del Estero\",\"Santiago del Estero\",\"Santiago del Estero\",\"Santiago del Estero\",\"Santiago del Estero\",\"Santiago del Estero\",\"Santiago del Estero\",\"Santiago del Estero\",\"Santiago del Estero\",\"Santiago del Estero\",\"CABA\",\"Santiago del Estero\",\"Santiago del Estero\",\"Santiago del Estero\",\"Tucum\\u00e1n\",\"C\\u00f3rdoba\",\"C\\u00f3rdoba\",\"C\\u00f3rdoba\",\"C\\u00f3rdoba\",\"C\\u00f3rdoba\",\"C\\u00f3rdoba\",\"C\\u00f3rdoba\",\"C\\u00f3rdoba\",\"C\\u00f3rdoba\",\"C\\u00f3rdoba\",\"Tucum\\u00e1n\"],\"xaxis\":\"x2\",\"yaxis\":\"y2\",\"type\":\"box\"},{\"alignmentgroup\":\"True\",\"bingroup\":\"x\",\"histfunc\":\"sum\",\"hovertemplate\":\"evento_nombre=Enfermedad por Virus del Zika<br>provincia_nombre=%{x}<br>sum of cantidad_casos=%{y}<extra></extra>\",\"legendgroup\":\"Enfermedad por Virus del Zika\",\"marker\":{\"color\":\"#EF553B\",\"pattern\":{\"shape\":\"\"}},\"name\":\"Enfermedad por Virus del Zika\",\"offsetgroup\":\"Enfermedad por Virus del Zika\",\"orientation\":\"v\",\"showlegend\":true,\"x\":[\"Buenos Aires\",\"Salta\",\"Salta\",\"Salta\",\"Salta\",\"Salta\",\"Salta\",\"Salta\",\"Salta\",\"Salta\",\"Salta\",\"Salta\",\"Salta\",\"Salta\",\"Salta\",\"Salta\",\"Salta\",\"Salta\",\"Salta\",\"Salta\",\"Salta\",\"Salta\",\"Salta\",\"Salta\",\"Salta\",\"Salta\",\"Salta\",\"Salta\",\"Salta\",\"Salta\",\"Salta\",\"Salta\",\"Salta\",\"Salta\"],\"xaxis\":\"x\",\"y\":[1,1,1,1,1,1,2,1,1,1,1,1,1,1,1,1,1,1,1,1,1,1,1,2,1,2,1,1,1,1,1,1,1,1],\"yaxis\":\"y\",\"type\":\"histogram\"},{\"alignmentgroup\":\"True\",\"boxpoints\":\"all\",\"customdata\":[[427,\"La Matanza\",6,2018,11,\"Enfermedad por Virus del Zika\",11,\"Mayor o igual de 65 anos\"],[28,\"Capital\",66,2018,23,\"Enfermedad por Virus del Zika\",10,\"De 45 a 64 anos\"],[56,\"Grl. Jos\\u00e9 de San Mart\\u00edn\",66,2018,10,\"Enfermedad por Virus del Zika\",10,\"De 35 a 44 anos\"],[56,\"Grl. Jos\\u00e9 de San Mart\\u00edn\",66,2018,11,\"Enfermedad por Virus del Zika\",9,\"De 25 a 34 anos\"],[56,\"Grl. Jos\\u00e9 de San Mart\\u00edn\",66,2018,12,\"Enfermedad por Virus del Zika\",8,\"De 20 a 24 anos\"],[56,\"Grl. Jos\\u00e9 de San Mart\\u00edn\",66,2018,12,\"Enfermedad por Virus del Zika\",2,\"Igual a 1 ano\"],[56,\"Grl. Jos\\u00e9 de San Mart\\u00edn\",66,2018,14,\"Enfermedad por Virus del Zika\",9,\"De 25 a 34 anos\"],[56,\"Grl. Jos\\u00e9 de San Mart\\u00edn\",66,2018,15,\"Enfermedad por Virus del Zika\",9,\"De 25 a 34 anos\"],[56,\"Grl. Jos\\u00e9 de San Mart\\u00edn\",66,2018,15,\"Enfermedad por Virus del Zika\",10,\"De 45 a 64 anos\"],[56,\"Grl. Jos\\u00e9 de San Mart\\u00edn\",66,2018,16,\"Enfermedad por Virus del Zika\",9,\"De 25 a 34 anos\"],[56,\"Grl. Jos\\u00e9 de San Mart\\u00edn\",66,2018,16,\"Enfermedad por Virus del Zika\",10,\"De 35 a 44 anos\"],[56,\"Grl. Jos\\u00e9 de San Mart\\u00edn\",66,2018,19,\"Enfermedad por Virus del Zika\",1,\"Menor que 1 ano\"],[56,\"Grl. Jos\\u00e9 de San Mart\\u00edn\",66,2018,19,\"Enfermedad por Virus del Zika\",8,\"De 20 a 24 anos\"],[56,\"Grl. Jos\\u00e9 de San Mart\\u00edn\",66,2018,19,\"Enfermedad por Virus del Zika\",10,\"De 45 a 64 anos\"],[56,\"Grl. Jos\\u00e9 de San Mart\\u00edn\",66,2018,20,\"Enfermedad por Virus del Zika\",3,\"De 13 a 24 meses\"],[56,\"Grl. Jos\\u00e9 de San Mart\\u00edn\",66,2018,20,\"Enfermedad por Virus del Zika\",4,\"De 2 a 4 anos\"],[56,\"Grl. Jos\\u00e9 de San Mart\\u00edn\",66,2018,20,\"Enfermedad por Virus del Zika\",9,\"De 25 a 34 anos\"],[56,\"Grl. Jos\\u00e9 de San Mart\\u00edn\",66,2018,21,\"Enfermedad por Virus del Zika\",5,\"De 5 a 9 anos\"],[56,\"Grl. Jos\\u00e9 de San Mart\\u00edn\",66,2018,22,\"Enfermedad por Virus del Zika\",7,\"De 15 a 19 anos\"],[56,\"Grl. Jos\\u00e9 de San Mart\\u00edn\",66,2018,22,\"Enfermedad por Virus del Zika\",10,\"De 45 a 64 anos\"],[56,\"Grl. Jos\\u00e9 de San Mart\\u00edn\",66,2018,22,\"Enfermedad por Virus del Zika\",11,\"Mayor o igual de 65 anos\"],[126,\"Or\\u00e1n\",66,2018,18,\"Enfermedad por Virus del Zika\",7,\"De 15 a 19 anos\"],[126,\"Or\\u00e1n\",66,2018,18,\"Enfermedad por Virus del Zika\",9,\"De 25 a 34 anos\"],[126,\"Or\\u00e1n\",66,2018,19,\"Enfermedad por Virus del Zika\",7,\"De 15 a 19 anos\"],[126,\"Or\\u00e1n\",66,2018,19,\"Enfermedad por Virus del Zika\",8,\"De 20 a 24 anos\"],[126,\"Or\\u00e1n\",66,2018,19,\"Enfermedad por Virus del Zika\",9,\"De 25 a 34 anos\"],[126,\"Or\\u00e1n\",66,2018,20,\"Enfermedad por Virus del Zika\",5,\"De 5 a 9 anos\"],[126,\"Or\\u00e1n\",66,2018,20,\"Enfermedad por Virus del Zika\",7,\"De 15 a 19 anos\"],[126,\"Or\\u00e1n\",66,2018,20,\"Enfermedad por Virus del Zika\",8,\"De 20 a 24 anos\"],[126,\"Or\\u00e1n\",66,2018,20,\"Enfermedad por Virus del Zika\",11,\"Mayor o igual de 65 anos\"],[126,\"Or\\u00e1n\",66,2018,21,\"Enfermedad por Virus del Zika\",9,\"De 25 a 34 anos\"],[126,\"Or\\u00e1n\",66,2018,22,\"Enfermedad por Virus del Zika\",6,\"De 10 a 14 anos\"],[126,\"Or\\u00e1n\",66,2018,23,\"Enfermedad por Virus del Zika\",7,\"De 15 a 19 anos\"],[126,\"Or\\u00e1n\",66,2018,23,\"Enfermedad por Virus del Zika\",9,\"De 25 a 34 anos\"]],\"fillcolor\":\"rgba(255,255,255,0)\",\"hoveron\":\"points\",\"hovertemplate\":\"evento_nombre=%{customdata[5]}<br>provincia_nombre=%{x}<br>departamento_id=%{customdata[0]}<br>departamento_nombre=%{customdata[1]}<br>provincia_id=%{customdata[2]}<br>ano=%{customdata[3]}<br>semanas_epidemiologicas=%{customdata[4]}<br>grupo_edad_id=%{customdata[6]}<br>grupo_edad_desc=%{customdata[7]}<extra></extra>\",\"jitter\":0,\"legendgroup\":\"Enfermedad por Virus del Zika\",\"line\":{\"color\":\"rgba(255,255,255,0)\"},\"marker\":{\"color\":\"#EF553B\",\"symbol\":\"line-ns-open\"},\"name\":\"Enfermedad por Virus del Zika\",\"offsetgroup\":\"Enfermedad por Virus del Zika\",\"showlegend\":false,\"x\":[\"Buenos Aires\",\"Salta\",\"Salta\",\"Salta\",\"Salta\",\"Salta\",\"Salta\",\"Salta\",\"Salta\",\"Salta\",\"Salta\",\"Salta\",\"Salta\",\"Salta\",\"Salta\",\"Salta\",\"Salta\",\"Salta\",\"Salta\",\"Salta\",\"Salta\",\"Salta\",\"Salta\",\"Salta\",\"Salta\",\"Salta\",\"Salta\",\"Salta\",\"Salta\",\"Salta\",\"Salta\",\"Salta\",\"Salta\",\"Salta\"],\"xaxis\":\"x2\",\"yaxis\":\"y2\",\"type\":\"box\"}],                        {\"template\":{\"data\":{\"bar\":[{\"error_x\":{\"color\":\"#2a3f5f\"},\"error_y\":{\"color\":\"#2a3f5f\"},\"marker\":{\"line\":{\"color\":\"#E5ECF6\",\"width\":0.5},\"pattern\":{\"fillmode\":\"overlay\",\"size\":10,\"solidity\":0.2}},\"type\":\"bar\"}],\"barpolar\":[{\"marker\":{\"line\":{\"color\":\"#E5ECF6\",\"width\":0.5},\"pattern\":{\"fillmode\":\"overlay\",\"size\":10,\"solidity\":0.2}},\"type\":\"barpolar\"}],\"carpet\":[{\"aaxis\":{\"endlinecolor\":\"#2a3f5f\",\"gridcolor\":\"white\",\"linecolor\":\"white\",\"minorgridcolor\":\"white\",\"startlinecolor\":\"#2a3f5f\"},\"baxis\":{\"endlinecolor\":\"#2a3f5f\",\"gridcolor\":\"white\",\"linecolor\":\"white\",\"minorgridcolor\":\"white\",\"startlinecolor\":\"#2a3f5f\"},\"type\":\"carpet\"}],\"choropleth\":[{\"colorbar\":{\"outlinewidth\":0,\"ticks\":\"\"},\"type\":\"choropleth\"}],\"contour\":[{\"colorbar\":{\"outlinewidth\":0,\"ticks\":\"\"},\"colorscale\":[[0.0,\"#0d0887\"],[0.1111111111111111,\"#46039f\"],[0.2222222222222222,\"#7201a8\"],[0.3333333333333333,\"#9c179e\"],[0.4444444444444444,\"#bd3786\"],[0.5555555555555556,\"#d8576b\"],[0.6666666666666666,\"#ed7953\"],[0.7777777777777778,\"#fb9f3a\"],[0.8888888888888888,\"#fdca26\"],[1.0,\"#f0f921\"]],\"type\":\"contour\"}],\"contourcarpet\":[{\"colorbar\":{\"outlinewidth\":0,\"ticks\":\"\"},\"type\":\"contourcarpet\"}],\"heatmap\":[{\"colorbar\":{\"outlinewidth\":0,\"ticks\":\"\"},\"colorscale\":[[0.0,\"#0d0887\"],[0.1111111111111111,\"#46039f\"],[0.2222222222222222,\"#7201a8\"],[0.3333333333333333,\"#9c179e\"],[0.4444444444444444,\"#bd3786\"],[0.5555555555555556,\"#d8576b\"],[0.6666666666666666,\"#ed7953\"],[0.7777777777777778,\"#fb9f3a\"],[0.8888888888888888,\"#fdca26\"],[1.0,\"#f0f921\"]],\"type\":\"heatmap\"}],\"heatmapgl\":[{\"colorbar\":{\"outlinewidth\":0,\"ticks\":\"\"},\"colorscale\":[[0.0,\"#0d0887\"],[0.1111111111111111,\"#46039f\"],[0.2222222222222222,\"#7201a8\"],[0.3333333333333333,\"#9c179e\"],[0.4444444444444444,\"#bd3786\"],[0.5555555555555556,\"#d8576b\"],[0.6666666666666666,\"#ed7953\"],[0.7777777777777778,\"#fb9f3a\"],[0.8888888888888888,\"#fdca26\"],[1.0,\"#f0f921\"]],\"type\":\"heatmapgl\"}],\"histogram\":[{\"marker\":{\"pattern\":{\"fillmode\":\"overlay\",\"size\":10,\"solidity\":0.2}},\"type\":\"histogram\"}],\"histogram2d\":[{\"colorbar\":{\"outlinewidth\":0,\"ticks\":\"\"},\"colorscale\":[[0.0,\"#0d0887\"],[0.1111111111111111,\"#46039f\"],[0.2222222222222222,\"#7201a8\"],[0.3333333333333333,\"#9c179e\"],[0.4444444444444444,\"#bd3786\"],[0.5555555555555556,\"#d8576b\"],[0.6666666666666666,\"#ed7953\"],[0.7777777777777778,\"#fb9f3a\"],[0.8888888888888888,\"#fdca26\"],[1.0,\"#f0f921\"]],\"type\":\"histogram2d\"}],\"histogram2dcontour\":[{\"colorbar\":{\"outlinewidth\":0,\"ticks\":\"\"},\"colorscale\":[[0.0,\"#0d0887\"],[0.1111111111111111,\"#46039f\"],[0.2222222222222222,\"#7201a8\"],[0.3333333333333333,\"#9c179e\"],[0.4444444444444444,\"#bd3786\"],[0.5555555555555556,\"#d8576b\"],[0.6666666666666666,\"#ed7953\"],[0.7777777777777778,\"#fb9f3a\"],[0.8888888888888888,\"#fdca26\"],[1.0,\"#f0f921\"]],\"type\":\"histogram2dcontour\"}],\"mesh3d\":[{\"colorbar\":{\"outlinewidth\":0,\"ticks\":\"\"},\"type\":\"mesh3d\"}],\"parcoords\":[{\"line\":{\"colorbar\":{\"outlinewidth\":0,\"ticks\":\"\"}},\"type\":\"parcoords\"}],\"pie\":[{\"automargin\":true,\"type\":\"pie\"}],\"scatter\":[{\"marker\":{\"colorbar\":{\"outlinewidth\":0,\"ticks\":\"\"}},\"type\":\"scatter\"}],\"scatter3d\":[{\"line\":{\"colorbar\":{\"outlinewidth\":0,\"ticks\":\"\"}},\"marker\":{\"colorbar\":{\"outlinewidth\":0,\"ticks\":\"\"}},\"type\":\"scatter3d\"}],\"scattercarpet\":[{\"marker\":{\"colorbar\":{\"outlinewidth\":0,\"ticks\":\"\"}},\"type\":\"scattercarpet\"}],\"scattergeo\":[{\"marker\":{\"colorbar\":{\"outlinewidth\":0,\"ticks\":\"\"}},\"type\":\"scattergeo\"}],\"scattergl\":[{\"marker\":{\"colorbar\":{\"outlinewidth\":0,\"ticks\":\"\"}},\"type\":\"scattergl\"}],\"scattermapbox\":[{\"marker\":{\"colorbar\":{\"outlinewidth\":0,\"ticks\":\"\"}},\"type\":\"scattermapbox\"}],\"scatterpolar\":[{\"marker\":{\"colorbar\":{\"outlinewidth\":0,\"ticks\":\"\"}},\"type\":\"scatterpolar\"}],\"scatterpolargl\":[{\"marker\":{\"colorbar\":{\"outlinewidth\":0,\"ticks\":\"\"}},\"type\":\"scatterpolargl\"}],\"scatterternary\":[{\"marker\":{\"colorbar\":{\"outlinewidth\":0,\"ticks\":\"\"}},\"type\":\"scatterternary\"}],\"surface\":[{\"colorbar\":{\"outlinewidth\":0,\"ticks\":\"\"},\"colorscale\":[[0.0,\"#0d0887\"],[0.1111111111111111,\"#46039f\"],[0.2222222222222222,\"#7201a8\"],[0.3333333333333333,\"#9c179e\"],[0.4444444444444444,\"#bd3786\"],[0.5555555555555556,\"#d8576b\"],[0.6666666666666666,\"#ed7953\"],[0.7777777777777778,\"#fb9f3a\"],[0.8888888888888888,\"#fdca26\"],[1.0,\"#f0f921\"]],\"type\":\"surface\"}],\"table\":[{\"cells\":{\"fill\":{\"color\":\"#EBF0F8\"},\"line\":{\"color\":\"white\"}},\"header\":{\"fill\":{\"color\":\"#C8D4E3\"},\"line\":{\"color\":\"white\"}},\"type\":\"table\"}]},\"layout\":{\"annotationdefaults\":{\"arrowcolor\":\"#2a3f5f\",\"arrowhead\":0,\"arrowwidth\":1},\"autotypenumbers\":\"strict\",\"coloraxis\":{\"colorbar\":{\"outlinewidth\":0,\"ticks\":\"\"}},\"colorscale\":{\"diverging\":[[0,\"#8e0152\"],[0.1,\"#c51b7d\"],[0.2,\"#de77ae\"],[0.3,\"#f1b6da\"],[0.4,\"#fde0ef\"],[0.5,\"#f7f7f7\"],[0.6,\"#e6f5d0\"],[0.7,\"#b8e186\"],[0.8,\"#7fbc41\"],[0.9,\"#4d9221\"],[1,\"#276419\"]],\"sequential\":[[0.0,\"#0d0887\"],[0.1111111111111111,\"#46039f\"],[0.2222222222222222,\"#7201a8\"],[0.3333333333333333,\"#9c179e\"],[0.4444444444444444,\"#bd3786\"],[0.5555555555555556,\"#d8576b\"],[0.6666666666666666,\"#ed7953\"],[0.7777777777777778,\"#fb9f3a\"],[0.8888888888888888,\"#fdca26\"],[1.0,\"#f0f921\"]],\"sequentialminus\":[[0.0,\"#0d0887\"],[0.1111111111111111,\"#46039f\"],[0.2222222222222222,\"#7201a8\"],[0.3333333333333333,\"#9c179e\"],[0.4444444444444444,\"#bd3786\"],[0.5555555555555556,\"#d8576b\"],[0.6666666666666666,\"#ed7953\"],[0.7777777777777778,\"#fb9f3a\"],[0.8888888888888888,\"#fdca26\"],[1.0,\"#f0f921\"]]},\"colorway\":[\"#636efa\",\"#EF553B\",\"#00cc96\",\"#ab63fa\",\"#FFA15A\",\"#19d3f3\",\"#FF6692\",\"#B6E880\",\"#FF97FF\",\"#FECB52\"],\"font\":{\"color\":\"#2a3f5f\"},\"geo\":{\"bgcolor\":\"white\",\"lakecolor\":\"white\",\"landcolor\":\"#E5ECF6\",\"showlakes\":true,\"showland\":true,\"subunitcolor\":\"white\"},\"hoverlabel\":{\"align\":\"left\"},\"hovermode\":\"closest\",\"mapbox\":{\"style\":\"light\"},\"paper_bgcolor\":\"white\",\"plot_bgcolor\":\"#E5ECF6\",\"polar\":{\"angularaxis\":{\"gridcolor\":\"white\",\"linecolor\":\"white\",\"ticks\":\"\"},\"bgcolor\":\"#E5ECF6\",\"radialaxis\":{\"gridcolor\":\"white\",\"linecolor\":\"white\",\"ticks\":\"\"}},\"scene\":{\"xaxis\":{\"backgroundcolor\":\"#E5ECF6\",\"gridcolor\":\"white\",\"gridwidth\":2,\"linecolor\":\"white\",\"showbackground\":true,\"ticks\":\"\",\"zerolinecolor\":\"white\"},\"yaxis\":{\"backgroundcolor\":\"#E5ECF6\",\"gridcolor\":\"white\",\"gridwidth\":2,\"linecolor\":\"white\",\"showbackground\":true,\"ticks\":\"\",\"zerolinecolor\":\"white\"},\"zaxis\":{\"backgroundcolor\":\"#E5ECF6\",\"gridcolor\":\"white\",\"gridwidth\":2,\"linecolor\":\"white\",\"showbackground\":true,\"ticks\":\"\",\"zerolinecolor\":\"white\"}},\"shapedefaults\":{\"line\":{\"color\":\"#2a3f5f\"}},\"ternary\":{\"aaxis\":{\"gridcolor\":\"white\",\"linecolor\":\"white\",\"ticks\":\"\"},\"baxis\":{\"gridcolor\":\"white\",\"linecolor\":\"white\",\"ticks\":\"\"},\"bgcolor\":\"#E5ECF6\",\"caxis\":{\"gridcolor\":\"white\",\"linecolor\":\"white\",\"ticks\":\"\"}},\"title\":{\"x\":0.05},\"xaxis\":{\"automargin\":true,\"gridcolor\":\"white\",\"linecolor\":\"white\",\"ticks\":\"\",\"title\":{\"standoff\":15},\"zerolinecolor\":\"white\",\"zerolinewidth\":2},\"yaxis\":{\"automargin\":true,\"gridcolor\":\"white\",\"linecolor\":\"white\",\"ticks\":\"\",\"title\":{\"standoff\":15},\"zerolinecolor\":\"white\",\"zerolinewidth\":2}}},\"xaxis\":{\"anchor\":\"y\",\"domain\":[0.0,1.0],\"title\":{\"text\":\"provincia_nombre\"}},\"yaxis\":{\"anchor\":\"x\",\"domain\":[0.0,0.7326],\"title\":{\"text\":\"sum of cantidad_casos\"}},\"xaxis2\":{\"anchor\":\"y2\",\"domain\":[0.0,1.0],\"matches\":\"x\",\"showticklabels\":false,\"showgrid\":true},\"yaxis2\":{\"anchor\":\"x2\",\"domain\":[0.7426,1.0],\"matches\":\"y2\",\"showticklabels\":false,\"showline\":false,\"ticks\":\"\",\"showgrid\":false},\"legend\":{\"title\":{\"text\":\"evento_nombre\"},\"tracegroupgap\":0},\"margin\":{\"t\":60},\"barmode\":\"relative\"},                        {\"responsive\": true}                    ).then(function(){\n",
              "                            \n",
              "var gd = document.getElementById('103e4fa0-8ba8-4e74-91d0-0ded168c3337');\n",
              "var x = new MutationObserver(function (mutations, observer) {{\n",
              "        var display = window.getComputedStyle(gd).display;\n",
              "        if (!display || display === 'none') {{\n",
              "            console.log([gd, 'removed!']);\n",
              "            Plotly.purge(gd);\n",
              "            observer.disconnect();\n",
              "        }}\n",
              "}});\n",
              "\n",
              "// Listen for the removal of the full notebook cells\n",
              "var notebookContainer = gd.closest('#notebook-container');\n",
              "if (notebookContainer) {{\n",
              "    x.observe(notebookContainer, {childList: true});\n",
              "}}\n",
              "\n",
              "// Listen for the clearing of the current output cell\n",
              "var outputEl = gd.closest('.output');\n",
              "if (outputEl) {{\n",
              "    x.observe(outputEl, {childList: true});\n",
              "}}\n",
              "\n",
              "                        })                };                            </script>        </div>\n",
              "</body>\n",
              "</html>"
            ]
          },
          "metadata": {}
        }
      ]
    }
  ]
}